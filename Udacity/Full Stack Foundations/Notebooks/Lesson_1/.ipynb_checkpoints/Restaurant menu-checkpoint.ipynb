{
 "cells": [
  {
   "cell_type": "markdown",
   "metadata": {},
   "source": [
    "#Table of Contents\n",
    "* [1. CRUD Read](#1.-CRUD-Read)\n",
    "* [2) CRUD Update](#2%29-CRUD-Update)\n"
   ]
  },
  {
   "cell_type": "code",
   "execution_count": 3,
   "metadata": {
    "collapsed": true
   },
   "outputs": [],
   "source": [
    "import os\n",
    "os.chdir(\"C:/Vindico/Projects/Code/Python/Course/Udacity/Full Stack Foundations/Full-Stack-Foundations-master/Lesson_1\")\n"
   ]
  },
  {
   "cell_type": "code",
   "execution_count": 4,
   "metadata": {
    "collapsed": true
   },
   "outputs": [],
   "source": [
    "!python database_setup.py"
   ]
  },
  {
   "cell_type": "code",
   "execution_count": 5,
   "metadata": {
    "collapsed": false
   },
   "outputs": [
    {
     "name": "stdout",
     "output_type": "stream",
     "text": [
      "added menu items!\n"
     ]
    }
   ],
   "source": [
    "!python lotsofmenus.py"
   ]
  },
  {
   "cell_type": "code",
   "execution_count": 6,
   "metadata": {
    "collapsed": true
   },
   "outputs": [],
   "source": [
    "from sqlalchemy import create_engine\n",
    "from sqlalchemy.orm import sessionmaker\n",
    " \n",
    "from database_setup import Restaurant, Base, MenuItem\n",
    " \n",
    "engine = create_engine('sqlite:///restaurantmenu.db')\n",
    "# Bind the engine to the metadata of the Base class so that the\n",
    "# declaratives can be accessed through a DBSession instance\n",
    "Base.metadata.bind = engine\n",
    " \n",
    "DBSession = sessionmaker(bind=engine)\n",
    "# A DBSession() instance establishes all conversations with the database\n",
    "# and represents a \"staging zone\" for all the objects loaded into the\n",
    "# database session object. Any change made against the objects in the\n",
    "# session won't be persisted into the database until you call\n",
    "# session.commit(). If you're not happy about the changes, you can\n",
    "# revert all of them back to the last commit by calling\n",
    "# session.rollback()\n",
    "session = DBSession()"
   ]
  },
  {
   "cell_type": "markdown",
   "metadata": {},
   "source": [
    "# 1) CRUD Read"
   ]
  },
  {
   "cell_type": "code",
   "execution_count": 7,
   "metadata": {
    "collapsed": false
   },
   "outputs": [
    {
     "data": {
      "text/plain": [
       "[<database_setup.Restaurant at 0x46c93c8>,\n",
       " <database_setup.Restaurant at 0x46c94a8>,\n",
       " <database_setup.Restaurant at 0x46c9550>,\n",
       " <database_setup.Restaurant at 0x46c95f8>,\n",
       " <database_setup.Restaurant at 0x46c96a0>,\n",
       " <database_setup.Restaurant at 0x46c9748>,\n",
       " <database_setup.Restaurant at 0x46c97f0>,\n",
       " <database_setup.Restaurant at 0x46c9898>,\n",
       " <database_setup.Restaurant at 0x46c9940>]"
      ]
     },
     "execution_count": 7,
     "metadata": {},
     "output_type": "execute_result"
    }
   ],
   "source": [
    "session.query(Restaurant).all()"
   ]
  },
  {
   "cell_type": "code",
   "execution_count": 8,
   "metadata": {
    "collapsed": false
   },
   "outputs": [
    {
     "data": {
      "text/plain": [
       "u'Urban Burger'"
      ]
     },
     "execution_count": 8,
     "metadata": {},
     "output_type": "execute_result"
    }
   ],
   "source": [
    "firstResult = session.query(Restaurant).first()\n",
    "firstResult.name"
   ]
  },
  {
   "cell_type": "code",
   "execution_count": 9,
   "metadata": {
    "collapsed": false
   },
   "outputs": [
    {
     "name": "stdout",
     "output_type": "stream",
     "text": [
      "Urban Burger\n",
      "Super Stir Fry\n",
      "Panda Garden\n",
      "Thyme for That Vegetarian Cuisine \n",
      "Tony's Bistro \n",
      "Andala's\n",
      "Auntie Ann's Diner' \n",
      "Cocina Y Amor \n",
      "State Bird Provisions\n"
     ]
    }
   ],
   "source": [
    "items = session.query(Restaurant).all()\n",
    "for item in items:\n",
    "    print item.name"
   ]
  },
  {
   "cell_type": "markdown",
   "metadata": {},
   "source": [
    "# 2) CRUD Update"
   ]
  },
  {
   "cell_type": "markdown",
   "metadata": {},
   "source": [
    "## Filter_by"
   ]
  },
  {
   "cell_type": "code",
   "execution_count": 12,
   "metadata": {
    "collapsed": false
   },
   "outputs": [
    {
     "name": "stdout",
     "output_type": "stream",
     "text": [
      "1\n",
      "$7.50\n",
      "Urban Burger\n",
      "\n",
      "\n",
      "9\n",
      "$5.99\n",
      "Urban Burger\n",
      "\n",
      "\n",
      "20\n",
      "$9.50\n",
      "Panda Garden\n",
      "\n",
      "\n",
      "26\n",
      "$6.80\n",
      "Thyme for That Vegetarian Cuisine \n",
      "\n",
      "\n",
      "36\n",
      "$7.00\n",
      "Andala's\n",
      "\n",
      "\n",
      "42\n",
      "$9.50\n",
      "Auntie Ann's Diner' \n",
      "\n",
      "\n"
     ]
    }
   ],
   "source": [
    "veggieBurgers = session.query(MenuItem).filter_by(name='Veggie Burger')\n",
    "for veggieBurger in veggieBurgers:\n",
    "    print veggieBurger.id\n",
    "    print veggieBurger.price\n",
    "    print veggieBurger.restaurant.name\n",
    "    print \"\\n\""
   ]
  },
  {
   "cell_type": "code",
   "execution_count": 14,
   "metadata": {
    "collapsed": false
   },
   "outputs": [
    {
     "name": "stdout",
     "output_type": "stream",
     "text": [
      "$5.99\n"
     ]
    }
   ],
   "source": [
    "# one() return only the one object instead of a list of objects\n",
    "UrbanVeggieBurger = session.query(MenuItem).filter_by(id=9).one()\n",
    "print UrbanVeggieBurger.price"
   ]
  },
  {
   "cell_type": "markdown",
   "metadata": {},
   "source": [
    "## Update the price"
   ]
  },
  {
   "cell_type": "code",
   "execution_count": 15,
   "metadata": {
    "collapsed": false
   },
   "outputs": [
    {
     "name": "stdout",
     "output_type": "stream",
     "text": [
      "1\n",
      "$7.50\n",
      "Urban Burger\n",
      "\n",
      "\n",
      "9\n",
      "$2.99\n",
      "Urban Burger\n",
      "\n",
      "\n",
      "20\n",
      "$9.50\n",
      "Panda Garden\n",
      "\n",
      "\n",
      "26\n",
      "$6.80\n",
      "Thyme for That Vegetarian Cuisine \n",
      "\n",
      "\n",
      "36\n",
      "$7.00\n",
      "Andala's\n",
      "\n",
      "\n",
      "42\n",
      "$9.50\n",
      "Auntie Ann's Diner' \n",
      "\n",
      "\n"
     ]
    }
   ],
   "source": [
    "UrbanVeggieBurger.price = \"$2.99\"\n",
    "session.add(UrbanVeggieBurger)\n",
    "session.commit()\n",
    "\n",
    "for veggieBurger in veggieBurgers:\n",
    "    print veggieBurger.id\n",
    "    print veggieBurger.price\n",
    "    print veggieBurger.restaurant.name\n",
    "    print \"\\n\""
   ]
  },
  {
   "cell_type": "code",
   "execution_count": 16,
   "metadata": {
    "collapsed": false
   },
   "outputs": [
    {
     "name": "stdout",
     "output_type": "stream",
     "text": [
      "1\n",
      "$2.99\n",
      "Urban Burger\n",
      "\n",
      "\n",
      "9\n",
      "$2.99\n",
      "Urban Burger\n",
      "\n",
      "\n",
      "20\n",
      "$2.99\n",
      "Panda Garden\n",
      "\n",
      "\n",
      "26\n",
      "$2.99\n",
      "Thyme for That Vegetarian Cuisine \n",
      "\n",
      "\n",
      "36\n",
      "$2.99\n",
      "Andala's\n",
      "\n",
      "\n",
      "42\n",
      "$2.99\n",
      "Auntie Ann's Diner' \n",
      "\n",
      "\n"
     ]
    }
   ],
   "source": [
    "for veggieBurger in veggieBurgers:\n",
    "    if veggieBurger.price != '$2.99':\n",
    "        veggieBurger.price = '$2.99'\n",
    "        session.add(veggieBurger)\n",
    "        session.commit()\n",
    "        \n",
    "for veggieBurger in veggieBurgers:\n",
    "    print veggieBurger.id\n",
    "    print veggieBurger.price\n",
    "    print veggieBurger.restaurant.name\n",
    "    print \"\\n\""
   ]
  },
  {
   "cell_type": "markdown",
   "metadata": {},
   "source": [
    "# 3) CRUD Delete"
   ]
  },
  {
   "cell_type": "code",
   "execution_count": 17,
   "metadata": {
    "collapsed": false
   },
   "outputs": [
    {
     "name": "stdout",
     "output_type": "stream",
     "text": [
      "Auntie Ann's Diner' \n"
     ]
    }
   ],
   "source": [
    "spinach = session.query(MenuItem).filter_by(name='Spinach Ice Cream').one()\n",
    "print spinach.restaurant.name"
   ]
  },
  {
   "cell_type": "code",
   "execution_count": 18,
   "metadata": {
    "collapsed": false
   },
   "outputs": [
    {
     "ename": "NoResultFound",
     "evalue": "No row was found for one()",
     "output_type": "error",
     "traceback": [
      "\u001b[1;31m---------------------------------------------------------------------------\u001b[0m",
      "\u001b[1;31mNoResultFound\u001b[0m                             Traceback (most recent call last)",
      "\u001b[1;32m<ipython-input-18-99a3e045b681>\u001b[0m in \u001b[0;36m<module>\u001b[1;34m()\u001b[0m\n\u001b[0;32m      1\u001b[0m \u001b[0msession\u001b[0m\u001b[1;33m.\u001b[0m\u001b[0mdelete\u001b[0m\u001b[1;33m(\u001b[0m\u001b[0mspinach\u001b[0m\u001b[1;33m)\u001b[0m\u001b[1;33m\u001b[0m\u001b[0m\n\u001b[0;32m      2\u001b[0m \u001b[0msession\u001b[0m\u001b[1;33m.\u001b[0m\u001b[0mcommit\u001b[0m\u001b[1;33m(\u001b[0m\u001b[1;33m)\u001b[0m\u001b[1;33m\u001b[0m\u001b[0m\n\u001b[1;32m----> 3\u001b[1;33m \u001b[0mspinach\u001b[0m \u001b[1;33m=\u001b[0m \u001b[0msession\u001b[0m\u001b[1;33m.\u001b[0m\u001b[0mquery\u001b[0m\u001b[1;33m(\u001b[0m\u001b[0mMenuItem\u001b[0m\u001b[1;33m)\u001b[0m\u001b[1;33m.\u001b[0m\u001b[0mfilter_by\u001b[0m\u001b[1;33m(\u001b[0m\u001b[0mname\u001b[0m\u001b[1;33m=\u001b[0m\u001b[1;34m'Spinach Ice Cream'\u001b[0m\u001b[1;33m)\u001b[0m\u001b[1;33m.\u001b[0m\u001b[0mone\u001b[0m\u001b[1;33m(\u001b[0m\u001b[1;33m)\u001b[0m\u001b[1;33m\u001b[0m\u001b[0m\n\u001b[0m",
      "\u001b[1;32mC:\\Anaconda\\lib\\site-packages\\sqlalchemy\\orm\\query.pyc\u001b[0m in \u001b[0;36mone\u001b[1;34m(self)\u001b[0m\n\u001b[0;32m   2373\u001b[0m             \u001b[1;32mreturn\u001b[0m \u001b[0mret\u001b[0m\u001b[1;33m[\u001b[0m\u001b[1;36m0\u001b[0m\u001b[1;33m]\u001b[0m\u001b[1;33m\u001b[0m\u001b[0m\n\u001b[0;32m   2374\u001b[0m         \u001b[1;32melif\u001b[0m \u001b[0ml\u001b[0m \u001b[1;33m==\u001b[0m \u001b[1;36m0\u001b[0m\u001b[1;33m:\u001b[0m\u001b[1;33m\u001b[0m\u001b[0m\n\u001b[1;32m-> 2375\u001b[1;33m             \u001b[1;32mraise\u001b[0m \u001b[0morm_exc\u001b[0m\u001b[1;33m.\u001b[0m\u001b[0mNoResultFound\u001b[0m\u001b[1;33m(\u001b[0m\u001b[1;34m\"No row was found for one()\"\u001b[0m\u001b[1;33m)\u001b[0m\u001b[1;33m\u001b[0m\u001b[0m\n\u001b[0m\u001b[0;32m   2376\u001b[0m         \u001b[1;32melse\u001b[0m\u001b[1;33m:\u001b[0m\u001b[1;33m\u001b[0m\u001b[0m\n\u001b[0;32m   2377\u001b[0m             raise orm_exc.MultipleResultsFound(\n",
      "\u001b[1;31mNoResultFound\u001b[0m: No row was found for one()"
     ]
    }
   ],
   "source": [
    "session.delete(spinach)\n",
    "session.commit()\n",
    "spinach = session.query(MenuItem).filter_by(name='Spinach Ice Cream').one()"
   ]
  },
  {
   "cell_type": "raw",
   "metadata": {},
   "source": [
    "CRUD Review\n",
    "Operations with SQLAlchemy\n",
    "\n",
    "In this lesson, we performed all of our CRUD operations with SQLAlchemy on an SQLite database. Before we perform any operations, we must first import the necessary libraries, connect to our restaurantMenu.db, and create a session to interface with the database:\n",
    "\n",
    "from sqlalchemy import create_engine\n",
    "from sqlalchemy.orm import sessionmaker\n",
    "from database_setup import Base, Restaurant, MenuItem\n",
    "\n",
    "engine = create_engine('sqlite:///restaurantMenu.db')\n",
    "Base.metadata.bind=engine\n",
    "DBSession = sessionmaker(bind = engine)\n",
    "session = DBSession()\n",
    "CREATE\n",
    "We created a new Restaurant and called it Pizza Palace:\n",
    "myFirstRestaurant = Restaurant(name = \"Pizza Palace\")\n",
    "session.add(myFirstRestaurant)\n",
    "sesssion.commit()\n",
    "We created a cheese pizza menu item and added it to the Pizza Palace Menu:\n",
    "cheesepizza = menuItem(name=\"Cheese Pizza\", description = \"Made with all natural ingredients and fresh mozzarella\", course=\"Entree\", price=\"$8.99\", restaurant=myFirstRestaurant)\n",
    "session.add(cheesepizza)\n",
    "session.commit()\n",
    "READ\n",
    "We read out information in our database using the query method in SQLAlchemy:\n",
    "\n",
    "firstResult = sesson.query(Restaurant).first()\n",
    "firstResult.name\n",
    "\n",
    "items = session.query(MenuItem).all()\n",
    "for item in items:\n",
    "    print item.name\n",
    "UPDATE\n",
    "In order to update and existing entry in our database, we must execute the following commands:\n",
    "\n",
    "Find Entry\n",
    "Reset value(s)\n",
    "Add to session\n",
    "Execute session.commit()\n",
    "We found the veggie burger that belonged to the Urban Burger restaurant by executing the following query:\n",
    "veggieBurgers = session.query(MenuItem).filter_by(name= 'Veggie Burger')\n",
    "for veggieBurger in veggieBurgers:\n",
    "    print veggieBurger.id\n",
    "    print veggieBurger.price\n",
    "    print veggieBurger.restaurant.name\n",
    "    print \"\\n\"\n",
    "Then we updated the price of the veggie burger to $2.99:\n",
    "\n",
    "UrbanVeggieBurger = session.query(MenuItem).filter_by(id=8).one()\n",
    "UrbanVeggieBurger.price = '$2.99'\n",
    "session.add(UrbanVeggieBurger)\n",
    "session.commit() \n",
    "DELETE\n",
    "To delete an item from our database we must follow the following steps:\n",
    "\n",
    "Find the entry\n",
    "Session.delete(Entry)\n",
    "Session.commit()\n",
    "We deleted spinach Ice Cream from our Menu Items database with the following operations:\n",
    "\n",
    "spinach = session.query(MenuItem).filter_by(name = 'Spinach Ice Cream').one()\n",
    "session.delete(spinach)\n",
    "session.commit() "
   ]
  }
 ],
 "metadata": {
  "kernelspec": {
   "display_name": "Python 2",
   "language": "python",
   "name": "python2"
  },
  "language_info": {
   "codemirror_mode": {
    "name": "ipython",
    "version": 2
   },
   "file_extension": ".py",
   "mimetype": "text/x-python",
   "name": "python",
   "nbconvert_exporter": "python",
   "pygments_lexer": "ipython2",
   "version": "2.7.8"
  }
 },
 "nbformat": 4,
 "nbformat_minor": 0
}
