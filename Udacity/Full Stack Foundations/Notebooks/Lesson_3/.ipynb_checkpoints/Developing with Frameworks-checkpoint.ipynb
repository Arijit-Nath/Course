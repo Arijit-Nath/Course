{
 "cells": [
  {
   "cell_type": "markdown",
   "metadata": {},
   "source": [
    "###Frameworks help developer to create web applications more efficiently\n",
    "http://en.wikipedia.org/wiki/Comparison_of_web_application_frameworks"
   ]
  },
  {
   "cell_type": "markdown",
   "metadata": {},
   "source": [
    "# Keynote:\n",
    "- Flask framework for Python\n",
    "- Templates: for writing html code separately from Python code\n",
    "- Function url_for: which is used to built the URL to navigate to Flask application.\n",
    "- forms: capture data from users.\n",
    "- message flashing: notify the user each time they successfully change information in the database."
   ]
  },
  {
   "cell_type": "markdown",
   "metadata": {
    "collapsed": true
   },
   "source": [
    "## Using Flask"
   ]
  },
  {
   "cell_type": "raw",
   "metadata": {},
   "source": [
    "from flask import Flask\n",
    "app = Flask(__name__)\n",
    "\n",
    "@app.route('/')\n",
    "@app.route('/hello')\n",
    "def HelloWorld():\n",
    "    return \"Hello World\"\n",
    "    \n",
    "if __name__ == '__main__':\n",
    "  app.debug = True\n",
    "  app.run(host = '0.0.0.0', port = 5000)"
   ]
  },
  {
   "cell_type": "markdown",
   "metadata": {},
   "source": [
    "Running this version on localhost:5000"
   ]
  },
  {
   "cell_type": "markdown",
   "metadata": {
    "collapsed": true
   },
   "source": [
    "## Routing"
   ]
  },
  {
   "cell_type": "raw",
   "metadata": {},
   "source": [
    "The route decorator is used to bind the function to a URL.\n",
    "- URLs with Variables:\n",
    "\"path/<type:variable-name>/path\""
   ]
  },
  {
   "cell_type": "markdown",
   "metadata": {},
   "source": [
    "- You can now visit localhost:5000/restaurants/1"
   ]
  },
  {
   "cell_type": "markdown",
   "metadata": {},
   "source": [
    "## Templates"
   ]
  },
  {
   "cell_type": "markdown",
   "metadata": {},
   "source": [
    "- Template is used to store HTML code separately from Python code. Using render_template()\n",
    "- You have to make a directory templates in the same directory of your code, and store your html file there.\n",
    "\n",
    "mkdir templates"
   ]
  },
  {
   "cell_type": "markdown",
   "metadata": {},
   "source": [
    "## URL Building"
   ]
  },
  {
   "cell_type": "markdown",
   "metadata": {},
   "source": [
    "Using url_for() function in Flask \n",
    "\n",
    "http://flask.pocoo.org/docs/0.10/quickstart/#url-building\n",
    "\n",
    "https://github.com/lobrown/Full-Stack-Foundations/blob/master/Lesson-3/10_url_for-Solution/menu.html\n",
    "\n",
    "\n",
    "You can access the page:  http://localhost:5000/restaurants/1/"
   ]
  },
  {
   "cell_type": "markdown",
   "metadata": {},
   "source": [
    "## Responding With JSON"
   ]
  },
  {
   "cell_type": "markdown",
   "metadata": {},
   "source": [
    "- API: Application Programming Interface, which allow external applications to use public information our apps want to share.\n",
    "- When an API is communicated over the Internet, following the rules of HTTP, it is called the resful API.\n",
    "- RESTful: Representational State Transfer.\n",
    "- JSON: Javascript Object Notation."
   ]
  },
  {
   "cell_type": "code",
   "execution_count": null,
   "metadata": {
    "collapsed": true
   },
   "outputs": [],
   "source": []
  }
 ],
 "metadata": {
  "kernelspec": {
   "display_name": "Python 2",
   "language": "python",
   "name": "python2"
  },
  "language_info": {
   "codemirror_mode": {
    "name": "ipython",
    "version": 2
   },
   "file_extension": ".py",
   "mimetype": "text/x-python",
   "name": "python",
   "nbconvert_exporter": "python",
   "pygments_lexer": "ipython2",
   "version": "2.7.8"
  }
 },
 "nbformat": 4,
 "nbformat_minor": 0
}
