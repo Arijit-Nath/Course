{
 "cells": [
  {
   "cell_type": "markdown",
   "metadata": {},
   "source": [
    "## Steps to launch get request with webserver.py file"
   ]
  },
  {
   "cell_type": "markdown",
   "metadata": {},
   "source": [
    "- cd fullstack/vagrant\n",
    "- vagrant up\n",
    "- vagrant ssh\n",
    "- cd /vagrant/Full-Stack-Foundations-master/Lesson-2/first-web-server/\n",
    "- python webserver.py\n",
    "- Open Browser: localhost:8080/hello"
   ]
  },
  {
   "cell_type": "markdown",
   "metadata": {},
   "source": [
    "## Vagrant File"
   ]
  },
  {
   "cell_type": "markdown",
   "metadata": {},
   "source": [
    "Your Vagrant File for this course looks something like this:"
   ]
  },
  {
   "cell_type": "raw",
   "metadata": {},
   "source": [
    "VAGRANTFILE_API_VERSION = \"2\"\n",
    "\n",
    "Vagrant.configure(VAGRANTFILE_API_VERSION) do |config|\n",
    "  config.vm.provision \"shell\", path: \"pg_config.sh\"\n",
    "  # config.vm.box = \"hashicorp/precise32\"\n",
    "  config.vm.box = \"ubuntu/trusty32\"\n",
    "  config.vm.network \"forwarded_port\", guest: 8000, host: 8000\n",
    "  config.vm.network \"forwarded_port\", guest: 8080, host: 8080\n",
    "  config.vm.network \"forwarded_port\", guest: 5000, host: 5000\n",
    "end"
   ]
  },
  {
   "cell_type": "markdown",
   "metadata": {},
   "source": [
    "Port forwarding allows us to open pages in our browser from the web server from our virtual machine as if they were being run locally. See which ports are being used for this class. If you want to use another port you can add another line to the vagrant file and run \"vagrant reload\" from a terminal in the directory of your vagrant file on your host machine. More information about port forwarding is available here ."
   ]
  },
  {
   "cell_type": "markdown",
   "metadata": {},
   "source": [
    "## Post request"
   ]
  },
  {
   "cell_type": "markdown",
   "metadata": {},
   "source": [
    "- Get request: only read data\n",
    "- Post request: modify data"
   ]
  },
  {
   "cell_type": "markdown",
   "metadata": {},
   "source": [
    "- cd /vagrant/Full-Stack-Foundations-master/Lesson-2/post-web-server/\n",
    "- python webserver.py\n",
    "- Open Browser: localhost:8080/hello"
   ]
  },
  {
   "cell_type": "code",
   "execution_count": null,
   "metadata": {
    "collapsed": true
   },
   "outputs": [],
   "source": []
  }
 ],
 "metadata": {
  "kernelspec": {
   "display_name": "Python 2",
   "language": "python",
   "name": "python2"
  },
  "language_info": {
   "codemirror_mode": {
    "name": "ipython",
    "version": 2
   },
   "file_extension": ".py",
   "mimetype": "text/x-python",
   "name": "python",
   "nbconvert_exporter": "python",
   "pygments_lexer": "ipython2",
   "version": "2.7.8"
  }
 },
 "nbformat": 4,
 "nbformat_minor": 0
}
