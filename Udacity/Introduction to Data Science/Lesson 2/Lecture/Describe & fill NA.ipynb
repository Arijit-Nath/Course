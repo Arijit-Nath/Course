{
 "metadata": {
  "name": "",
  "signature": "sha256:fc1d8b561c7f5cd4545f7296cb251fe57ce9479a7317c71f836ee46d8ac0fc9e"
 },
 "nbformat": 3,
 "nbformat_minor": 0,
 "worksheets": [
  {
   "cells": [
    {
     "cell_type": "code",
     "collapsed": false,
     "input": [
      "import pandas\n",
      "\n",
      "baseball = pandas.read_csv(\"C:\\Vindico\\Projects\\Data\\Course\\Python\\Udacity\\Introduction to Data Science\\Lesson 2\\Lecture\\Lahman\\Master.csv\")\n",
      "baseball.describe()"
     ],
     "language": "python",
     "metadata": {},
     "outputs": [
      {
       "html": [
        "<div style=\"max-height:1000px;max-width:1500px;overflow:auto;\">\n",
        "<table border=\"1\" class=\"dataframe\">\n",
        "  <thead>\n",
        "    <tr style=\"text-align: right;\">\n",
        "      <th></th>\n",
        "      <th>birthYear</th>\n",
        "      <th>birthMonth</th>\n",
        "      <th>birthDay</th>\n",
        "      <th>deathYear</th>\n",
        "      <th>deathMonth</th>\n",
        "      <th>deathDay</th>\n",
        "      <th>weight</th>\n",
        "      <th>height</th>\n",
        "    </tr>\n",
        "  </thead>\n",
        "  <tbody>\n",
        "    <tr>\n",
        "      <th>count</th>\n",
        "      <td> 18200.000000</td>\n",
        "      <td> 18014.000000</td>\n",
        "      <td> 17839.000000</td>\n",
        "      <td> 9128.000000</td>\n",
        "      <td> 9127.000000</td>\n",
        "      <td> 9126.000000</td>\n",
        "      <td> 17477.000000</td>\n",
        "      <td> 17533.000000</td>\n",
        "    </tr>\n",
        "    <tr>\n",
        "      <th>mean</th>\n",
        "      <td>  1929.127143</td>\n",
        "      <td>     6.625958</td>\n",
        "      <td>    15.605695</td>\n",
        "      <td> 1962.900745</td>\n",
        "      <td>    6.483949</td>\n",
        "      <td>   15.537037</td>\n",
        "      <td>   185.232134</td>\n",
        "      <td>    72.217133</td>\n",
        "    </tr>\n",
        "    <tr>\n",
        "      <th>std</th>\n",
        "      <td>    40.584996</td>\n",
        "      <td>     3.465990</td>\n",
        "      <td>     8.746157</td>\n",
        "      <td>   30.960678</td>\n",
        "      <td>    3.526323</td>\n",
        "      <td>    8.789128</td>\n",
        "      <td>    20.769155</td>\n",
        "      <td>     2.595477</td>\n",
        "    </tr>\n",
        "    <tr>\n",
        "      <th>min</th>\n",
        "      <td>  1820.000000</td>\n",
        "      <td>     1.000000</td>\n",
        "      <td>     1.000000</td>\n",
        "      <td> 1872.000000</td>\n",
        "      <td>    1.000000</td>\n",
        "      <td>    1.000000</td>\n",
        "      <td>    65.000000</td>\n",
        "      <td>    43.000000</td>\n",
        "    </tr>\n",
        "    <tr>\n",
        "      <th>25%</th>\n",
        "      <td>  1894.000000</td>\n",
        "      <td>     4.000000</td>\n",
        "      <td>     8.000000</td>\n",
        "      <td> 1941.000000</td>\n",
        "      <td>    3.000000</td>\n",
        "      <td>    8.000000</td>\n",
        "      <td>   170.000000</td>\n",
        "      <td>    71.000000</td>\n",
        "    </tr>\n",
        "    <tr>\n",
        "      <th>50%</th>\n",
        "      <td>  1933.000000</td>\n",
        "      <td>     7.000000</td>\n",
        "      <td>    15.000000</td>\n",
        "      <td> 1966.000000</td>\n",
        "      <td>    6.000000</td>\n",
        "      <td>   15.000000</td>\n",
        "      <td>   185.000000</td>\n",
        "      <td>    72.000000</td>\n",
        "    </tr>\n",
        "    <tr>\n",
        "      <th>75%</th>\n",
        "      <td>  1966.000000</td>\n",
        "      <td>    10.000000</td>\n",
        "      <td>    23.000000</td>\n",
        "      <td> 1988.000000</td>\n",
        "      <td>   10.000000</td>\n",
        "      <td>   23.000000</td>\n",
        "      <td>   195.000000</td>\n",
        "      <td>    74.000000</td>\n",
        "    </tr>\n",
        "    <tr>\n",
        "      <th>max</th>\n",
        "      <td>  1993.000000</td>\n",
        "      <td>    12.000000</td>\n",
        "      <td>    31.000000</td>\n",
        "      <td> 2014.000000</td>\n",
        "      <td>   12.000000</td>\n",
        "      <td>   31.000000</td>\n",
        "      <td>   320.000000</td>\n",
        "      <td>    83.000000</td>\n",
        "    </tr>\n",
        "  </tbody>\n",
        "</table>\n",
        "</div>"
       ],
       "metadata": {},
       "output_type": "pyout",
       "prompt_number": 2,
       "text": [
        "          birthYear    birthMonth      birthDay    deathYear   deathMonth  \\\n",
        "count  18200.000000  18014.000000  17839.000000  9128.000000  9127.000000   \n",
        "mean    1929.127143      6.625958     15.605695  1962.900745     6.483949   \n",
        "std       40.584996      3.465990      8.746157    30.960678     3.526323   \n",
        "min     1820.000000      1.000000      1.000000  1872.000000     1.000000   \n",
        "25%     1894.000000      4.000000      8.000000  1941.000000     3.000000   \n",
        "50%     1933.000000      7.000000     15.000000  1966.000000     6.000000   \n",
        "75%     1966.000000     10.000000     23.000000  1988.000000    10.000000   \n",
        "max     1993.000000     12.000000     31.000000  2014.000000    12.000000   \n",
        "\n",
        "          deathDay        weight        height  \n",
        "count  9126.000000  17477.000000  17533.000000  \n",
        "mean     15.537037    185.232134     72.217133  \n",
        "std       8.789128     20.769155      2.595477  \n",
        "min       1.000000     65.000000     43.000000  \n",
        "25%       8.000000    170.000000     71.000000  \n",
        "50%      15.000000    185.000000     72.000000  \n",
        "75%      23.000000    195.000000     74.000000  \n",
        "max      31.000000    320.000000     83.000000  "
       ]
      }
     ],
     "prompt_number": 2
    },
    {
     "cell_type": "code",
     "collapsed": false,
     "input": [
      "baseball"
     ],
     "language": "python",
     "metadata": {},
     "outputs": [
      {
       "html": [
        "<div style=\"max-height:1000px;max-width:1500px;overflow:auto;\">\n",
        "<table border=\"1\" class=\"dataframe\">\n",
        "  <thead>\n",
        "    <tr style=\"text-align: right;\">\n",
        "      <th></th>\n",
        "      <th>playerID</th>\n",
        "      <th>birthYear</th>\n",
        "      <th>birthMonth</th>\n",
        "      <th>birthDay</th>\n",
        "      <th>birthCountry</th>\n",
        "      <th>birthState</th>\n",
        "      <th>birthCity</th>\n",
        "      <th>deathYear</th>\n",
        "      <th>deathMonth</th>\n",
        "      <th>deathDay</th>\n",
        "      <th>...</th>\n",
        "      <th>nameLast</th>\n",
        "      <th>nameGiven</th>\n",
        "      <th>weight</th>\n",
        "      <th>height</th>\n",
        "      <th>bats</th>\n",
        "      <th>throws</th>\n",
        "      <th>debut</th>\n",
        "      <th>finalGame</th>\n",
        "      <th>retroID</th>\n",
        "      <th>bbrefID</th>\n",
        "    </tr>\n",
        "  </thead>\n",
        "  <tbody>\n",
        "    <tr>\n",
        "      <th>0    </th>\n",
        "      <td> aardsda01</td>\n",
        "      <td> 1981</td>\n",
        "      <td> 12</td>\n",
        "      <td> 27</td>\n",
        "      <td>    USA</td>\n",
        "      <td>        CO</td>\n",
        "      <td>           Denver</td>\n",
        "      <td>  NaN</td>\n",
        "      <td>NaN</td>\n",
        "      <td>NaN</td>\n",
        "      <td>...</td>\n",
        "      <td>     Aardsma</td>\n",
        "      <td>        David Allan</td>\n",
        "      <td> 205</td>\n",
        "      <td> 75</td>\n",
        "      <td>   R</td>\n",
        "      <td>   R</td>\n",
        "      <td> 2004-04-06</td>\n",
        "      <td> 2013-09-28</td>\n",
        "      <td> aardd001</td>\n",
        "      <td> aardsda01</td>\n",
        "    </tr>\n",
        "    <tr>\n",
        "      <th>1    </th>\n",
        "      <td> aaronha01</td>\n",
        "      <td> 1934</td>\n",
        "      <td>  2</td>\n",
        "      <td>  5</td>\n",
        "      <td>    USA</td>\n",
        "      <td>        AL</td>\n",
        "      <td>           Mobile</td>\n",
        "      <td>  NaN</td>\n",
        "      <td>NaN</td>\n",
        "      <td>NaN</td>\n",
        "      <td>...</td>\n",
        "      <td>       Aaron</td>\n",
        "      <td>        Henry Louis</td>\n",
        "      <td> 180</td>\n",
        "      <td> 72</td>\n",
        "      <td>   R</td>\n",
        "      <td>   R</td>\n",
        "      <td> 1954-04-13</td>\n",
        "      <td> 1976-10-03</td>\n",
        "      <td> aaroh101</td>\n",
        "      <td> aaronha01</td>\n",
        "    </tr>\n",
        "    <tr>\n",
        "      <th>2    </th>\n",
        "      <td> aaronto01</td>\n",
        "      <td> 1939</td>\n",
        "      <td>  8</td>\n",
        "      <td>  5</td>\n",
        "      <td>    USA</td>\n",
        "      <td>        AL</td>\n",
        "      <td>           Mobile</td>\n",
        "      <td> 1984</td>\n",
        "      <td>  8</td>\n",
        "      <td> 16</td>\n",
        "      <td>...</td>\n",
        "      <td>       Aaron</td>\n",
        "      <td>         Tommie Lee</td>\n",
        "      <td> 190</td>\n",
        "      <td> 75</td>\n",
        "      <td>   R</td>\n",
        "      <td>   R</td>\n",
        "      <td> 1962-04-10</td>\n",
        "      <td> 1971-09-26</td>\n",
        "      <td> aarot101</td>\n",
        "      <td> aaronto01</td>\n",
        "    </tr>\n",
        "    <tr>\n",
        "      <th>3    </th>\n",
        "      <td>  aasedo01</td>\n",
        "      <td> 1954</td>\n",
        "      <td>  9</td>\n",
        "      <td>  8</td>\n",
        "      <td>    USA</td>\n",
        "      <td>        CA</td>\n",
        "      <td>           Orange</td>\n",
        "      <td>  NaN</td>\n",
        "      <td>NaN</td>\n",
        "      <td>NaN</td>\n",
        "      <td>...</td>\n",
        "      <td>        Aase</td>\n",
        "      <td>     Donald William</td>\n",
        "      <td> 190</td>\n",
        "      <td> 75</td>\n",
        "      <td>   R</td>\n",
        "      <td>   R</td>\n",
        "      <td> 1977-07-26</td>\n",
        "      <td> 1990-10-03</td>\n",
        "      <td> aased001</td>\n",
        "      <td>  aasedo01</td>\n",
        "    </tr>\n",
        "    <tr>\n",
        "      <th>4    </th>\n",
        "      <td>  abadan01</td>\n",
        "      <td> 1972</td>\n",
        "      <td>  8</td>\n",
        "      <td> 25</td>\n",
        "      <td>    USA</td>\n",
        "      <td>        FL</td>\n",
        "      <td>       Palm Beach</td>\n",
        "      <td>  NaN</td>\n",
        "      <td>NaN</td>\n",
        "      <td>NaN</td>\n",
        "      <td>...</td>\n",
        "      <td>        Abad</td>\n",
        "      <td>      Fausto Andres</td>\n",
        "      <td> 184</td>\n",
        "      <td> 73</td>\n",
        "      <td>   L</td>\n",
        "      <td>   L</td>\n",
        "      <td> 2001-09-10</td>\n",
        "      <td> 2006-04-13</td>\n",
        "      <td> abada001</td>\n",
        "      <td>  abadan01</td>\n",
        "    </tr>\n",
        "    <tr>\n",
        "      <th>5    </th>\n",
        "      <td>  abadfe01</td>\n",
        "      <td> 1985</td>\n",
        "      <td> 12</td>\n",
        "      <td> 17</td>\n",
        "      <td>   D.R.</td>\n",
        "      <td> La Romana</td>\n",
        "      <td>        La Romana</td>\n",
        "      <td>  NaN</td>\n",
        "      <td>NaN</td>\n",
        "      <td>NaN</td>\n",
        "      <td>...</td>\n",
        "      <td>        Abad</td>\n",
        "      <td>   Fernando Antonio</td>\n",
        "      <td> 220</td>\n",
        "      <td> 73</td>\n",
        "      <td>   L</td>\n",
        "      <td>   L</td>\n",
        "      <td> 2010-07-28</td>\n",
        "      <td> 2013-09-27</td>\n",
        "      <td> abadf001</td>\n",
        "      <td>  abadfe01</td>\n",
        "    </tr>\n",
        "    <tr>\n",
        "      <th>6    </th>\n",
        "      <td> abadijo01</td>\n",
        "      <td> 1854</td>\n",
        "      <td> 11</td>\n",
        "      <td>  4</td>\n",
        "      <td>    USA</td>\n",
        "      <td>        PA</td>\n",
        "      <td>     Philadelphia</td>\n",
        "      <td> 1905</td>\n",
        "      <td>  5</td>\n",
        "      <td> 17</td>\n",
        "      <td>...</td>\n",
        "      <td>      Abadie</td>\n",
        "      <td>            John W.</td>\n",
        "      <td> 192</td>\n",
        "      <td> 72</td>\n",
        "      <td>   R</td>\n",
        "      <td>   R</td>\n",
        "      <td> 1875-04-26</td>\n",
        "      <td> 1875-06-10</td>\n",
        "      <td> abadj101</td>\n",
        "      <td> abadijo01</td>\n",
        "    </tr>\n",
        "    <tr>\n",
        "      <th>7    </th>\n",
        "      <td> abbated01</td>\n",
        "      <td> 1877</td>\n",
        "      <td>  4</td>\n",
        "      <td> 15</td>\n",
        "      <td>    USA</td>\n",
        "      <td>        PA</td>\n",
        "      <td>          Latrobe</td>\n",
        "      <td> 1957</td>\n",
        "      <td>  1</td>\n",
        "      <td>  6</td>\n",
        "      <td>...</td>\n",
        "      <td> Abbaticchio</td>\n",
        "      <td>       Edward James</td>\n",
        "      <td> 170</td>\n",
        "      <td> 71</td>\n",
        "      <td>   R</td>\n",
        "      <td>   R</td>\n",
        "      <td> 1897-09-04</td>\n",
        "      <td> 1910-09-15</td>\n",
        "      <td> abbae101</td>\n",
        "      <td> abbated01</td>\n",
        "    </tr>\n",
        "    <tr>\n",
        "      <th>8    </th>\n",
        "      <td> abbeybe01</td>\n",
        "      <td> 1869</td>\n",
        "      <td> 11</td>\n",
        "      <td> 11</td>\n",
        "      <td>    USA</td>\n",
        "      <td>        VT</td>\n",
        "      <td>            Essex</td>\n",
        "      <td> 1962</td>\n",
        "      <td>  6</td>\n",
        "      <td> 11</td>\n",
        "      <td>...</td>\n",
        "      <td>       Abbey</td>\n",
        "      <td>          Bert Wood</td>\n",
        "      <td> 175</td>\n",
        "      <td> 71</td>\n",
        "      <td>   R</td>\n",
        "      <td>   R</td>\n",
        "      <td> 1892-06-14</td>\n",
        "      <td> 1896-09-23</td>\n",
        "      <td> abbeb101</td>\n",
        "      <td> abbeybe01</td>\n",
        "    </tr>\n",
        "    <tr>\n",
        "      <th>9    </th>\n",
        "      <td> abbeych01</td>\n",
        "      <td> 1866</td>\n",
        "      <td> 10</td>\n",
        "      <td> 14</td>\n",
        "      <td>    USA</td>\n",
        "      <td>        NE</td>\n",
        "      <td>       Falls City</td>\n",
        "      <td> 1926</td>\n",
        "      <td>  4</td>\n",
        "      <td> 27</td>\n",
        "      <td>...</td>\n",
        "      <td>       Abbey</td>\n",
        "      <td>         Charles S.</td>\n",
        "      <td> 169</td>\n",
        "      <td> 68</td>\n",
        "      <td>   L</td>\n",
        "      <td>   L</td>\n",
        "      <td> 1893-08-16</td>\n",
        "      <td> 1897-08-19</td>\n",
        "      <td> abbec101</td>\n",
        "      <td> abbeych01</td>\n",
        "    </tr>\n",
        "    <tr>\n",
        "      <th>10   </th>\n",
        "      <td> abbotda01</td>\n",
        "      <td> 1862</td>\n",
        "      <td>  3</td>\n",
        "      <td> 16</td>\n",
        "      <td>    USA</td>\n",
        "      <td>        OH</td>\n",
        "      <td>          Portage</td>\n",
        "      <td> 1930</td>\n",
        "      <td>  2</td>\n",
        "      <td> 13</td>\n",
        "      <td>...</td>\n",
        "      <td>      Abbott</td>\n",
        "      <td>   Leander Franklin</td>\n",
        "      <td> 190</td>\n",
        "      <td> 71</td>\n",
        "      <td>   R</td>\n",
        "      <td>   R</td>\n",
        "      <td> 1890-04-19</td>\n",
        "      <td> 1890-05-23</td>\n",
        "      <td> abbod101</td>\n",
        "      <td> abbotda01</td>\n",
        "    </tr>\n",
        "    <tr>\n",
        "      <th>11   </th>\n",
        "      <td> abbotfr01</td>\n",
        "      <td> 1874</td>\n",
        "      <td> 10</td>\n",
        "      <td> 22</td>\n",
        "      <td>    USA</td>\n",
        "      <td>        OH</td>\n",
        "      <td>       Versailles</td>\n",
        "      <td> 1935</td>\n",
        "      <td>  6</td>\n",
        "      <td> 11</td>\n",
        "      <td>...</td>\n",
        "      <td>      Abbott</td>\n",
        "      <td>    Harry Frederick</td>\n",
        "      <td> 180</td>\n",
        "      <td> 70</td>\n",
        "      <td>   R</td>\n",
        "      <td>   R</td>\n",
        "      <td> 1903-04-25</td>\n",
        "      <td> 1905-09-20</td>\n",
        "      <td> abbof101</td>\n",
        "      <td> abbotfr01</td>\n",
        "    </tr>\n",
        "    <tr>\n",
        "      <th>12   </th>\n",
        "      <td> abbotgl01</td>\n",
        "      <td> 1951</td>\n",
        "      <td>  2</td>\n",
        "      <td> 16</td>\n",
        "      <td>    USA</td>\n",
        "      <td>        AR</td>\n",
        "      <td>      Little Rock</td>\n",
        "      <td>  NaN</td>\n",
        "      <td>NaN</td>\n",
        "      <td>NaN</td>\n",
        "      <td>...</td>\n",
        "      <td>      Abbott</td>\n",
        "      <td>      William Glenn</td>\n",
        "      <td> 200</td>\n",
        "      <td> 78</td>\n",
        "      <td>   R</td>\n",
        "      <td>   R</td>\n",
        "      <td> 1973-07-29</td>\n",
        "      <td> 1984-08-08</td>\n",
        "      <td> abbog001</td>\n",
        "      <td> abbotgl01</td>\n",
        "    </tr>\n",
        "    <tr>\n",
        "      <th>13   </th>\n",
        "      <td> abbotje01</td>\n",
        "      <td> 1972</td>\n",
        "      <td>  8</td>\n",
        "      <td> 17</td>\n",
        "      <td>    USA</td>\n",
        "      <td>        GA</td>\n",
        "      <td>          Atlanta</td>\n",
        "      <td>  NaN</td>\n",
        "      <td>NaN</td>\n",
        "      <td>NaN</td>\n",
        "      <td>...</td>\n",
        "      <td>      Abbott</td>\n",
        "      <td>    Jeffrey William</td>\n",
        "      <td> 190</td>\n",
        "      <td> 74</td>\n",
        "      <td>   R</td>\n",
        "      <td>   L</td>\n",
        "      <td> 1997-06-10</td>\n",
        "      <td> 2001-09-29</td>\n",
        "      <td> abboj002</td>\n",
        "      <td> abbotje01</td>\n",
        "    </tr>\n",
        "    <tr>\n",
        "      <th>14   </th>\n",
        "      <td> abbotji01</td>\n",
        "      <td> 1967</td>\n",
        "      <td>  9</td>\n",
        "      <td> 19</td>\n",
        "      <td>    USA</td>\n",
        "      <td>        MI</td>\n",
        "      <td>            Flint</td>\n",
        "      <td>  NaN</td>\n",
        "      <td>NaN</td>\n",
        "      <td>NaN</td>\n",
        "      <td>...</td>\n",
        "      <td>      Abbott</td>\n",
        "      <td>      James Anthony</td>\n",
        "      <td> 200</td>\n",
        "      <td> 75</td>\n",
        "      <td>   L</td>\n",
        "      <td>   L</td>\n",
        "      <td> 1989-04-08</td>\n",
        "      <td> 1999-07-21</td>\n",
        "      <td> abboj001</td>\n",
        "      <td> abbotji01</td>\n",
        "    </tr>\n",
        "    <tr>\n",
        "      <th>15   </th>\n",
        "      <td> abbotku01</td>\n",
        "      <td> 1969</td>\n",
        "      <td>  6</td>\n",
        "      <td>  2</td>\n",
        "      <td>    USA</td>\n",
        "      <td>        OH</td>\n",
        "      <td>       Zanesville</td>\n",
        "      <td>  NaN</td>\n",
        "      <td>NaN</td>\n",
        "      <td>NaN</td>\n",
        "      <td>...</td>\n",
        "      <td>      Abbott</td>\n",
        "      <td>        Kurt Thomas</td>\n",
        "      <td> 180</td>\n",
        "      <td> 71</td>\n",
        "      <td>   R</td>\n",
        "      <td>   R</td>\n",
        "      <td> 1993-09-07</td>\n",
        "      <td> 2001-04-13</td>\n",
        "      <td> abbok002</td>\n",
        "      <td> abbotku01</td>\n",
        "    </tr>\n",
        "    <tr>\n",
        "      <th>16   </th>\n",
        "      <td> abbotky01</td>\n",
        "      <td> 1968</td>\n",
        "      <td>  2</td>\n",
        "      <td> 18</td>\n",
        "      <td>    USA</td>\n",
        "      <td>        MA</td>\n",
        "      <td>      Newburyport</td>\n",
        "      <td>  NaN</td>\n",
        "      <td>NaN</td>\n",
        "      <td>NaN</td>\n",
        "      <td>...</td>\n",
        "      <td>      Abbott</td>\n",
        "      <td>      Lawrence Kyle</td>\n",
        "      <td> 200</td>\n",
        "      <td> 76</td>\n",
        "      <td>   L</td>\n",
        "      <td>   L</td>\n",
        "      <td> 1991-09-10</td>\n",
        "      <td> 1996-08-24</td>\n",
        "      <td> abbok001</td>\n",
        "      <td> abbotky01</td>\n",
        "    </tr>\n",
        "    <tr>\n",
        "      <th>17   </th>\n",
        "      <td> abbotod01</td>\n",
        "      <td> 1888</td>\n",
        "      <td>  9</td>\n",
        "      <td>  5</td>\n",
        "      <td>    USA</td>\n",
        "      <td>        PA</td>\n",
        "      <td>        New Eagle</td>\n",
        "      <td> 1933</td>\n",
        "      <td>  4</td>\n",
        "      <td> 13</td>\n",
        "      <td>...</td>\n",
        "      <td>      Abbott</td>\n",
        "      <td>          Ody Cleon</td>\n",
        "      <td> 180</td>\n",
        "      <td> 74</td>\n",
        "      <td>   R</td>\n",
        "      <td>   R</td>\n",
        "      <td> 1910-09-10</td>\n",
        "      <td> 1910-10-15</td>\n",
        "      <td> abboo101</td>\n",
        "      <td> abbotod01</td>\n",
        "    </tr>\n",
        "    <tr>\n",
        "      <th>18   </th>\n",
        "      <td> abbotpa01</td>\n",
        "      <td> 1967</td>\n",
        "      <td>  9</td>\n",
        "      <td> 15</td>\n",
        "      <td>    USA</td>\n",
        "      <td>        CA</td>\n",
        "      <td>         Van Nuys</td>\n",
        "      <td>  NaN</td>\n",
        "      <td>NaN</td>\n",
        "      <td>NaN</td>\n",
        "      <td>...</td>\n",
        "      <td>      Abbott</td>\n",
        "      <td>         Paul David</td>\n",
        "      <td> 185</td>\n",
        "      <td> 75</td>\n",
        "      <td>   R</td>\n",
        "      <td>   R</td>\n",
        "      <td> 1990-08-21</td>\n",
        "      <td> 2004-08-07</td>\n",
        "      <td> abbop001</td>\n",
        "      <td> abbotpa01</td>\n",
        "    </tr>\n",
        "    <tr>\n",
        "      <th>19   </th>\n",
        "      <td>  aberal01</td>\n",
        "      <td> 1927</td>\n",
        "      <td>  7</td>\n",
        "      <td> 31</td>\n",
        "      <td>    USA</td>\n",
        "      <td>        OH</td>\n",
        "      <td>        Cleveland</td>\n",
        "      <td> 1993</td>\n",
        "      <td>  5</td>\n",
        "      <td> 20</td>\n",
        "      <td>...</td>\n",
        "      <td>        Aber</td>\n",
        "      <td>      Albert Julius</td>\n",
        "      <td> 195</td>\n",
        "      <td> 74</td>\n",
        "      <td>   L</td>\n",
        "      <td>   L</td>\n",
        "      <td> 1950-09-15</td>\n",
        "      <td> 1957-09-11</td>\n",
        "      <td> abera101</td>\n",
        "      <td>  aberal01</td>\n",
        "    </tr>\n",
        "    <tr>\n",
        "      <th>20   </th>\n",
        "      <td> abercda01</td>\n",
        "      <td> 1850</td>\n",
        "      <td>  1</td>\n",
        "      <td>  2</td>\n",
        "      <td>    USA</td>\n",
        "      <td>        OK</td>\n",
        "      <td>      Fort Towson</td>\n",
        "      <td> 1939</td>\n",
        "      <td> 11</td>\n",
        "      <td> 11</td>\n",
        "      <td>...</td>\n",
        "      <td> Abercrombie</td>\n",
        "      <td>  Francis Patterson</td>\n",
        "      <td> NaN</td>\n",
        "      <td>NaN</td>\n",
        "      <td> NaN</td>\n",
        "      <td> NaN</td>\n",
        "      <td> 1871-10-21</td>\n",
        "      <td> 1871-10-21</td>\n",
        "      <td> aberd101</td>\n",
        "      <td> abercda01</td>\n",
        "    </tr>\n",
        "    <tr>\n",
        "      <th>21   </th>\n",
        "      <td> abercre01</td>\n",
        "      <td> 1980</td>\n",
        "      <td>  7</td>\n",
        "      <td> 15</td>\n",
        "      <td>    USA</td>\n",
        "      <td>        GA</td>\n",
        "      <td>         Columbus</td>\n",
        "      <td>  NaN</td>\n",
        "      <td>NaN</td>\n",
        "      <td>NaN</td>\n",
        "      <td>...</td>\n",
        "      <td> Abercrombie</td>\n",
        "      <td>  Reginald Damascus</td>\n",
        "      <td> 215</td>\n",
        "      <td> 75</td>\n",
        "      <td>   R</td>\n",
        "      <td>   R</td>\n",
        "      <td> 2006-04-04</td>\n",
        "      <td> 2008-09-28</td>\n",
        "      <td> aberr001</td>\n",
        "      <td> abercre01</td>\n",
        "    </tr>\n",
        "    <tr>\n",
        "      <th>22   </th>\n",
        "      <td> abernbi01</td>\n",
        "      <td> 1929</td>\n",
        "      <td>  1</td>\n",
        "      <td> 30</td>\n",
        "      <td>    USA</td>\n",
        "      <td>        CA</td>\n",
        "      <td>         Torrance</td>\n",
        "      <td> 2006</td>\n",
        "      <td>  2</td>\n",
        "      <td> 19</td>\n",
        "      <td>...</td>\n",
        "      <td>  Abernathie</td>\n",
        "      <td>     William Edward</td>\n",
        "      <td> 190</td>\n",
        "      <td> 70</td>\n",
        "      <td>   R</td>\n",
        "      <td>   R</td>\n",
        "      <td> 1952-09-27</td>\n",
        "      <td> 1952-09-27</td>\n",
        "      <td> aberb101</td>\n",
        "      <td> abernbi01</td>\n",
        "    </tr>\n",
        "    <tr>\n",
        "      <th>23   </th>\n",
        "      <td> abernbr01</td>\n",
        "      <td> 1977</td>\n",
        "      <td>  9</td>\n",
        "      <td> 23</td>\n",
        "      <td>    USA</td>\n",
        "      <td>        GA</td>\n",
        "      <td>          Atlanta</td>\n",
        "      <td>  NaN</td>\n",
        "      <td>NaN</td>\n",
        "      <td>NaN</td>\n",
        "      <td>...</td>\n",
        "      <td>   Abernathy</td>\n",
        "      <td>      Michael Brent</td>\n",
        "      <td> 185</td>\n",
        "      <td> 73</td>\n",
        "      <td>   R</td>\n",
        "      <td>   R</td>\n",
        "      <td> 2001-06-25</td>\n",
        "      <td> 2005-09-29</td>\n",
        "      <td> aberb001</td>\n",
        "      <td> abernbr01</td>\n",
        "    </tr>\n",
        "    <tr>\n",
        "      <th>24   </th>\n",
        "      <td> abernte01</td>\n",
        "      <td> 1921</td>\n",
        "      <td> 10</td>\n",
        "      <td> 30</td>\n",
        "      <td>    USA</td>\n",
        "      <td>        NC</td>\n",
        "      <td>            Bynum</td>\n",
        "      <td> 2001</td>\n",
        "      <td> 11</td>\n",
        "      <td> 16</td>\n",
        "      <td>...</td>\n",
        "      <td>   Abernathy</td>\n",
        "      <td> Talmadge Lafayette</td>\n",
        "      <td> 210</td>\n",
        "      <td> 74</td>\n",
        "      <td>   R</td>\n",
        "      <td>   L</td>\n",
        "      <td> 1942-09-19</td>\n",
        "      <td> 1944-04-29</td>\n",
        "      <td> abert102</td>\n",
        "      <td> abernte01</td>\n",
        "    </tr>\n",
        "    <tr>\n",
        "      <th>25   </th>\n",
        "      <td> abernte02</td>\n",
        "      <td> 1933</td>\n",
        "      <td>  3</td>\n",
        "      <td>  6</td>\n",
        "      <td>    USA</td>\n",
        "      <td>        NC</td>\n",
        "      <td>          Stanley</td>\n",
        "      <td> 2004</td>\n",
        "      <td> 12</td>\n",
        "      <td> 16</td>\n",
        "      <td>...</td>\n",
        "      <td>   Abernathy</td>\n",
        "      <td>      Theodore Wade</td>\n",
        "      <td> 215</td>\n",
        "      <td> 76</td>\n",
        "      <td>   R</td>\n",
        "      <td>   R</td>\n",
        "      <td> 1955-04-13</td>\n",
        "      <td> 1972-09-30</td>\n",
        "      <td> abert101</td>\n",
        "      <td> abernte02</td>\n",
        "    </tr>\n",
        "    <tr>\n",
        "      <th>26   </th>\n",
        "      <td> abernwo01</td>\n",
        "      <td> 1915</td>\n",
        "      <td>  2</td>\n",
        "      <td>  1</td>\n",
        "      <td>    USA</td>\n",
        "      <td>        NC</td>\n",
        "      <td>      Forest City</td>\n",
        "      <td> 1994</td>\n",
        "      <td> 12</td>\n",
        "      <td>  5</td>\n",
        "      <td>...</td>\n",
        "      <td>   Abernathy</td>\n",
        "      <td>     Virgil Woodrow</td>\n",
        "      <td> 170</td>\n",
        "      <td> 72</td>\n",
        "      <td>   L</td>\n",
        "      <td>   L</td>\n",
        "      <td> 1946-07-28</td>\n",
        "      <td> 1947-04-17</td>\n",
        "      <td> aberw101</td>\n",
        "      <td> abernwo01</td>\n",
        "    </tr>\n",
        "    <tr>\n",
        "      <th>27   </th>\n",
        "      <td> aberscl01</td>\n",
        "      <td> 1921</td>\n",
        "      <td>  8</td>\n",
        "      <td> 28</td>\n",
        "      <td>    USA</td>\n",
        "      <td>        IL</td>\n",
        "      <td>          Chicago</td>\n",
        "      <td> 1973</td>\n",
        "      <td>  6</td>\n",
        "      <td> 23</td>\n",
        "      <td>...</td>\n",
        "      <td>     Aberson</td>\n",
        "      <td> Clifford Alexander</td>\n",
        "      <td> 200</td>\n",
        "      <td> 72</td>\n",
        "      <td>   R</td>\n",
        "      <td>   R</td>\n",
        "      <td> 1947-07-18</td>\n",
        "      <td> 1949-05-09</td>\n",
        "      <td> aberc101</td>\n",
        "      <td> aberscl01</td>\n",
        "    </tr>\n",
        "    <tr>\n",
        "      <th>28   </th>\n",
        "      <td> ablesha01</td>\n",
        "      <td> 1883</td>\n",
        "      <td> 10</td>\n",
        "      <td>  4</td>\n",
        "      <td>    USA</td>\n",
        "      <td>        TX</td>\n",
        "      <td>          Terrell</td>\n",
        "      <td> 1951</td>\n",
        "      <td>  2</td>\n",
        "      <td>  8</td>\n",
        "      <td>...</td>\n",
        "      <td>       Ables</td>\n",
        "      <td>      Harry Terrell</td>\n",
        "      <td> 200</td>\n",
        "      <td> 74</td>\n",
        "      <td>   R</td>\n",
        "      <td>   L</td>\n",
        "      <td> 1905-09-04</td>\n",
        "      <td> 1911-05-05</td>\n",
        "      <td> ableh101</td>\n",
        "      <td> ablesha01</td>\n",
        "    </tr>\n",
        "    <tr>\n",
        "      <th>29   </th>\n",
        "      <td> abnersh01</td>\n",
        "      <td> 1966</td>\n",
        "      <td>  6</td>\n",
        "      <td> 17</td>\n",
        "      <td>    USA</td>\n",
        "      <td>        OH</td>\n",
        "      <td>         Hamilton</td>\n",
        "      <td>  NaN</td>\n",
        "      <td>NaN</td>\n",
        "      <td>NaN</td>\n",
        "      <td>...</td>\n",
        "      <td>       Abner</td>\n",
        "      <td>       Shawn Wesley</td>\n",
        "      <td> 190</td>\n",
        "      <td> 73</td>\n",
        "      <td>   R</td>\n",
        "      <td>   R</td>\n",
        "      <td> 1987-09-08</td>\n",
        "      <td> 1992-10-03</td>\n",
        "      <td> abnes001</td>\n",
        "      <td> abnersh01</td>\n",
        "    </tr>\n",
        "    <tr>\n",
        "      <th>...</th>\n",
        "      <td>...</td>\n",
        "      <td>...</td>\n",
        "      <td>...</td>\n",
        "      <td>...</td>\n",
        "      <td>...</td>\n",
        "      <td>...</td>\n",
        "      <td>...</td>\n",
        "      <td>...</td>\n",
        "      <td>...</td>\n",
        "      <td>...</td>\n",
        "      <td>...</td>\n",
        "      <td>...</td>\n",
        "      <td>...</td>\n",
        "      <td>...</td>\n",
        "      <td>...</td>\n",
        "      <td>...</td>\n",
        "      <td>...</td>\n",
        "      <td>...</td>\n",
        "      <td>...</td>\n",
        "      <td>...</td>\n",
        "      <td>...</td>\n",
        "    </tr>\n",
        "    <tr>\n",
        "      <th>18324</th>\n",
        "      <td> zimmejo01</td>\n",
        "      <td> 1975</td>\n",
        "      <td>  4</td>\n",
        "      <td> 28</td>\n",
        "      <td>    CAN</td>\n",
        "      <td>        BC</td>\n",
        "      <td>          Kelowna</td>\n",
        "      <td>  NaN</td>\n",
        "      <td>NaN</td>\n",
        "      <td>NaN</td>\n",
        "      <td>...</td>\n",
        "      <td>   Zimmerman</td>\n",
        "      <td>     Jordan William</td>\n",
        "      <td> 200</td>\n",
        "      <td> 72</td>\n",
        "      <td>   R</td>\n",
        "      <td>   L</td>\n",
        "      <td> 1999-05-17</td>\n",
        "      <td> 1999-07-02</td>\n",
        "      <td> zimmj002</td>\n",
        "      <td> zimmejo01</td>\n",
        "    </tr>\n",
        "    <tr>\n",
        "      <th>18325</th>\n",
        "      <td> zimmejo02</td>\n",
        "      <td> 1986</td>\n",
        "      <td>  5</td>\n",
        "      <td> 23</td>\n",
        "      <td>    USA</td>\n",
        "      <td>        WI</td>\n",
        "      <td>       Auburndale</td>\n",
        "      <td>  NaN</td>\n",
        "      <td>NaN</td>\n",
        "      <td>NaN</td>\n",
        "      <td>...</td>\n",
        "      <td>  Zimmermann</td>\n",
        "      <td>          Jordan M.</td>\n",
        "      <td> 220</td>\n",
        "      <td> 74</td>\n",
        "      <td>   R</td>\n",
        "      <td>   R</td>\n",
        "      <td> 2009-04-20</td>\n",
        "      <td> 2013-09-25</td>\n",
        "      <td> zimmj003</td>\n",
        "      <td> zimmejo02</td>\n",
        "    </tr>\n",
        "    <tr>\n",
        "      <th>18326</th>\n",
        "      <td> zimmero01</td>\n",
        "      <td> 1916</td>\n",
        "      <td>  9</td>\n",
        "      <td> 13</td>\n",
        "      <td>    USA</td>\n",
        "      <td>        PA</td>\n",
        "      <td>       Pine Grove</td>\n",
        "      <td> 1991</td>\n",
        "      <td> 11</td>\n",
        "      <td> 22</td>\n",
        "      <td>...</td>\n",
        "      <td>   Zimmerman</td>\n",
        "      <td>       Roy Franklin</td>\n",
        "      <td> 187</td>\n",
        "      <td> 74</td>\n",
        "      <td>   L</td>\n",
        "      <td>   L</td>\n",
        "      <td> 1945-08-27</td>\n",
        "      <td> 1945-09-30</td>\n",
        "      <td> zimmr101</td>\n",
        "      <td> zimmero01</td>\n",
        "    </tr>\n",
        "    <tr>\n",
        "      <th>18327</th>\n",
        "      <td> zimmery01</td>\n",
        "      <td> 1984</td>\n",
        "      <td>  9</td>\n",
        "      <td> 28</td>\n",
        "      <td>    USA</td>\n",
        "      <td>        NC</td>\n",
        "      <td>       Washington</td>\n",
        "      <td>  NaN</td>\n",
        "      <td>NaN</td>\n",
        "      <td>NaN</td>\n",
        "      <td>...</td>\n",
        "      <td>   Zimmerman</td>\n",
        "      <td>       Ryan Wallace</td>\n",
        "      <td> 230</td>\n",
        "      <td> 75</td>\n",
        "      <td>   R</td>\n",
        "      <td>   R</td>\n",
        "      <td> 2005-09-01</td>\n",
        "      <td> 2013-09-28</td>\n",
        "      <td> zimmr001</td>\n",
        "      <td> zimmery01</td>\n",
        "    </tr>\n",
        "    <tr>\n",
        "      <th>18328</th>\n",
        "      <td>  zinkch01</td>\n",
        "      <td> 1979</td>\n",
        "      <td>  8</td>\n",
        "      <td> 26</td>\n",
        "      <td>    USA</td>\n",
        "      <td>        CA</td>\n",
        "      <td>       Carmichael</td>\n",
        "      <td>  NaN</td>\n",
        "      <td>NaN</td>\n",
        "      <td>NaN</td>\n",
        "      <td>...</td>\n",
        "      <td>        Zink</td>\n",
        "      <td>      Charles Tadao</td>\n",
        "      <td> 190</td>\n",
        "      <td> 73</td>\n",
        "      <td>   R</td>\n",
        "      <td>   R</td>\n",
        "      <td> 2008-08-12</td>\n",
        "      <td> 2008-08-12</td>\n",
        "      <td> zinkc001</td>\n",
        "      <td>  zinkch01</td>\n",
        "    </tr>\n",
        "    <tr>\n",
        "      <th>18329</th>\n",
        "      <td>  zinkwa01</td>\n",
        "      <td> 1898</td>\n",
        "      <td> 11</td>\n",
        "      <td> 21</td>\n",
        "      <td>    USA</td>\n",
        "      <td>        MA</td>\n",
        "      <td>       Pittsfield</td>\n",
        "      <td> 1964</td>\n",
        "      <td>  6</td>\n",
        "      <td> 12</td>\n",
        "      <td>...</td>\n",
        "      <td>        Zink</td>\n",
        "      <td>       Walter Noble</td>\n",
        "      <td> 165</td>\n",
        "      <td> 72</td>\n",
        "      <td>   R</td>\n",
        "      <td>   R</td>\n",
        "      <td> 1921-07-06</td>\n",
        "      <td> 1921-07-19</td>\n",
        "      <td> zinkw101</td>\n",
        "      <td>  zinkwa01</td>\n",
        "    </tr>\n",
        "    <tr>\n",
        "      <th>18330</th>\n",
        "      <td>  zinnfr01</td>\n",
        "      <td> 1865</td>\n",
        "      <td> 12</td>\n",
        "      <td> 21</td>\n",
        "      <td>    USA</td>\n",
        "      <td>        PA</td>\n",
        "      <td>     Phoenixville</td>\n",
        "      <td> 1936</td>\n",
        "      <td>  5</td>\n",
        "      <td> 12</td>\n",
        "      <td>...</td>\n",
        "      <td>        Zinn</td>\n",
        "      <td>      Frank Patrick</td>\n",
        "      <td> 150</td>\n",
        "      <td> 68</td>\n",
        "      <td> NaN</td>\n",
        "      <td> NaN</td>\n",
        "      <td> 1888-04-18</td>\n",
        "      <td> 1888-05-03</td>\n",
        "      <td> zinnf101</td>\n",
        "      <td>  zinnfr01</td>\n",
        "    </tr>\n",
        "    <tr>\n",
        "      <th>18331</th>\n",
        "      <td>  zinngu01</td>\n",
        "      <td> 1887</td>\n",
        "      <td>  2</td>\n",
        "      <td> 13</td>\n",
        "      <td>    USA</td>\n",
        "      <td>        WV</td>\n",
        "      <td>         Holbrook</td>\n",
        "      <td> 1949</td>\n",
        "      <td> 10</td>\n",
        "      <td>  6</td>\n",
        "      <td>...</td>\n",
        "      <td>        Zinn</td>\n",
        "      <td>                Guy</td>\n",
        "      <td> 170</td>\n",
        "      <td> 70</td>\n",
        "      <td>   L</td>\n",
        "      <td>   R</td>\n",
        "      <td> 1911-09-11</td>\n",
        "      <td> 1915-09-16</td>\n",
        "      <td> zinng101</td>\n",
        "      <td>  zinngu01</td>\n",
        "    </tr>\n",
        "    <tr>\n",
        "      <th>18332</th>\n",
        "      <td>  zinnji01</td>\n",
        "      <td> 1895</td>\n",
        "      <td>  1</td>\n",
        "      <td> 21</td>\n",
        "      <td>    USA</td>\n",
        "      <td>        AR</td>\n",
        "      <td>           Benton</td>\n",
        "      <td> 1991</td>\n",
        "      <td>  2</td>\n",
        "      <td> 26</td>\n",
        "      <td>...</td>\n",
        "      <td>        Zinn</td>\n",
        "      <td>       James Edward</td>\n",
        "      <td> 195</td>\n",
        "      <td> 72</td>\n",
        "      <td>   L</td>\n",
        "      <td>   R</td>\n",
        "      <td> 1919-09-04</td>\n",
        "      <td> 1929-08-25</td>\n",
        "      <td> zinnj101</td>\n",
        "      <td>  zinnji01</td>\n",
        "    </tr>\n",
        "    <tr>\n",
        "      <th>18333</th>\n",
        "      <td> zinsebi01</td>\n",
        "      <td> 1918</td>\n",
        "      <td>  1</td>\n",
        "      <td>  6</td>\n",
        "      <td>    USA</td>\n",
        "      <td>        NY</td>\n",
        "      <td>          Astoria</td>\n",
        "      <td> 1993</td>\n",
        "      <td>  2</td>\n",
        "      <td> 16</td>\n",
        "      <td>...</td>\n",
        "      <td>      Zinser</td>\n",
        "      <td>    William Francis</td>\n",
        "      <td> 185</td>\n",
        "      <td> 73</td>\n",
        "      <td>   R</td>\n",
        "      <td>   R</td>\n",
        "      <td> 1944-08-19</td>\n",
        "      <td> 1944-08-26</td>\n",
        "      <td> zinsb101</td>\n",
        "      <td> zinsebi01</td>\n",
        "    </tr>\n",
        "    <tr>\n",
        "      <th>18334</th>\n",
        "      <td> zinteal01</td>\n",
        "      <td> 1968</td>\n",
        "      <td>  5</td>\n",
        "      <td> 19</td>\n",
        "      <td>    USA</td>\n",
        "      <td>        TX</td>\n",
        "      <td>          El Paso</td>\n",
        "      <td>  NaN</td>\n",
        "      <td>NaN</td>\n",
        "      <td>NaN</td>\n",
        "      <td>...</td>\n",
        "      <td>      Zinter</td>\n",
        "      <td>       Alan Michael</td>\n",
        "      <td> 200</td>\n",
        "      <td> 74</td>\n",
        "      <td>   B</td>\n",
        "      <td>   R</td>\n",
        "      <td> 2002-06-18</td>\n",
        "      <td> 2004-10-03</td>\n",
        "      <td> zinta001</td>\n",
        "      <td> zinteal01</td>\n",
        "    </tr>\n",
        "    <tr>\n",
        "      <th>18335</th>\n",
        "      <td> zipfebu01</td>\n",
        "      <td> 1938</td>\n",
        "      <td> 11</td>\n",
        "      <td> 18</td>\n",
        "      <td>    USA</td>\n",
        "      <td>        IL</td>\n",
        "      <td>       Belleville</td>\n",
        "      <td>  NaN</td>\n",
        "      <td>NaN</td>\n",
        "      <td>NaN</td>\n",
        "      <td>...</td>\n",
        "      <td>      Zipfel</td>\n",
        "      <td>   Marion Sylvester</td>\n",
        "      <td> 200</td>\n",
        "      <td> 75</td>\n",
        "      <td>   L</td>\n",
        "      <td>   R</td>\n",
        "      <td> 1961-07-26</td>\n",
        "      <td> 1962-09-30</td>\n",
        "      <td> zipfb101</td>\n",
        "      <td> zipfebu01</td>\n",
        "    </tr>\n",
        "    <tr>\n",
        "      <th>18336</th>\n",
        "      <td>  ziskri01</td>\n",
        "      <td> 1949</td>\n",
        "      <td>  2</td>\n",
        "      <td>  6</td>\n",
        "      <td>    USA</td>\n",
        "      <td>        NY</td>\n",
        "      <td>         Brooklyn</td>\n",
        "      <td>  NaN</td>\n",
        "      <td>NaN</td>\n",
        "      <td>NaN</td>\n",
        "      <td>...</td>\n",
        "      <td>        Zisk</td>\n",
        "      <td>     Richard Walter</td>\n",
        "      <td> 200</td>\n",
        "      <td> 73</td>\n",
        "      <td>   R</td>\n",
        "      <td>   R</td>\n",
        "      <td> 1971-09-08</td>\n",
        "      <td> 1983-09-21</td>\n",
        "      <td> ziskr101</td>\n",
        "      <td>  ziskri01</td>\n",
        "    </tr>\n",
        "    <tr>\n",
        "      <th>18337</th>\n",
        "      <td>  zitoba01</td>\n",
        "      <td> 1978</td>\n",
        "      <td>  5</td>\n",
        "      <td> 13</td>\n",
        "      <td>    USA</td>\n",
        "      <td>        NV</td>\n",
        "      <td>        Las Vegas</td>\n",
        "      <td>  NaN</td>\n",
        "      <td>NaN</td>\n",
        "      <td>NaN</td>\n",
        "      <td>...</td>\n",
        "      <td>        Zito</td>\n",
        "      <td>      Barry William</td>\n",
        "      <td> 205</td>\n",
        "      <td> 74</td>\n",
        "      <td>   L</td>\n",
        "      <td>   L</td>\n",
        "      <td> 2000-07-22</td>\n",
        "      <td> 2013-09-29</td>\n",
        "      <td> zitob001</td>\n",
        "      <td>  zitoba01</td>\n",
        "    </tr>\n",
        "    <tr>\n",
        "      <th>18338</th>\n",
        "      <td> zitzmbi01</td>\n",
        "      <td> 1895</td>\n",
        "      <td> 11</td>\n",
        "      <td> 19</td>\n",
        "      <td>    USA</td>\n",
        "      <td>        NY</td>\n",
        "      <td> Long Island City</td>\n",
        "      <td> 1985</td>\n",
        "      <td>  5</td>\n",
        "      <td> 29</td>\n",
        "      <td>...</td>\n",
        "      <td>    Zitzmann</td>\n",
        "      <td>     William Arthur</td>\n",
        "      <td> 175</td>\n",
        "      <td> 70</td>\n",
        "      <td>   R</td>\n",
        "      <td>   R</td>\n",
        "      <td> 1919-04-27</td>\n",
        "      <td> 1929-09-25</td>\n",
        "      <td> zitzb101</td>\n",
        "      <td> zitzmbi01</td>\n",
        "    </tr>\n",
        "    <tr>\n",
        "      <th>18339</th>\n",
        "      <td> zmiched01</td>\n",
        "      <td> 1884</td>\n",
        "      <td> 10</td>\n",
        "      <td>  1</td>\n",
        "      <td>    USA</td>\n",
        "      <td>        OH</td>\n",
        "      <td>        Cleveland</td>\n",
        "      <td> 1950</td>\n",
        "      <td>  8</td>\n",
        "      <td> 20</td>\n",
        "      <td>...</td>\n",
        "      <td>       Zmich</td>\n",
        "      <td>      Edward Albert</td>\n",
        "      <td> 180</td>\n",
        "      <td> 72</td>\n",
        "      <td>   L</td>\n",
        "      <td>   L</td>\n",
        "      <td> 1910-07-23</td>\n",
        "      <td> 1911-06-01</td>\n",
        "      <td> zmice101</td>\n",
        "      <td> zmiched01</td>\n",
        "    </tr>\n",
        "    <tr>\n",
        "      <th>18340</th>\n",
        "      <td> zobribe01</td>\n",
        "      <td> 1981</td>\n",
        "      <td>  5</td>\n",
        "      <td> 26</td>\n",
        "      <td>    USA</td>\n",
        "      <td>        IL</td>\n",
        "      <td>           Eureka</td>\n",
        "      <td>  NaN</td>\n",
        "      <td>NaN</td>\n",
        "      <td>NaN</td>\n",
        "      <td>...</td>\n",
        "      <td>     Zobrist</td>\n",
        "      <td>    Benjamin Thomas</td>\n",
        "      <td> 210</td>\n",
        "      <td> 75</td>\n",
        "      <td>   B</td>\n",
        "      <td>   R</td>\n",
        "      <td> 2006-08-01</td>\n",
        "      <td> 2013-09-30</td>\n",
        "      <td> zobrb001</td>\n",
        "      <td> zobribe01</td>\n",
        "    </tr>\n",
        "    <tr>\n",
        "      <th>18341</th>\n",
        "      <td> zoccope01</td>\n",
        "      <td> 1977</td>\n",
        "      <td>  2</td>\n",
        "      <td>  6</td>\n",
        "      <td>    USA</td>\n",
        "      <td>        NY</td>\n",
        "      <td>            Bronx</td>\n",
        "      <td>  NaN</td>\n",
        "      <td>NaN</td>\n",
        "      <td>NaN</td>\n",
        "      <td>...</td>\n",
        "      <td>  Zoccolillo</td>\n",
        "      <td>         Peter Jude</td>\n",
        "      <td> 200</td>\n",
        "      <td> 74</td>\n",
        "      <td>   L</td>\n",
        "      <td>   R</td>\n",
        "      <td> 2003-09-05</td>\n",
        "      <td> 2003-09-28</td>\n",
        "      <td> zoccp001</td>\n",
        "      <td> zoccope01</td>\n",
        "    </tr>\n",
        "    <tr>\n",
        "      <th>18342</th>\n",
        "      <td> zoldasa01</td>\n",
        "      <td> 1918</td>\n",
        "      <td> 12</td>\n",
        "      <td>  8</td>\n",
        "      <td>    USA</td>\n",
        "      <td>        NY</td>\n",
        "      <td>         Brooklyn</td>\n",
        "      <td> 1966</td>\n",
        "      <td>  8</td>\n",
        "      <td> 25</td>\n",
        "      <td>...</td>\n",
        "      <td>      Zoldak</td>\n",
        "      <td>      Samuel Walter</td>\n",
        "      <td> 185</td>\n",
        "      <td> 71</td>\n",
        "      <td>   L</td>\n",
        "      <td>   L</td>\n",
        "      <td> 1944-05-13</td>\n",
        "      <td> 1952-08-26</td>\n",
        "      <td> zolds101</td>\n",
        "      <td> zoldasa01</td>\n",
        "    </tr>\n",
        "    <tr>\n",
        "      <th>18343</th>\n",
        "      <td> zoskyed01</td>\n",
        "      <td> 1968</td>\n",
        "      <td>  2</td>\n",
        "      <td> 10</td>\n",
        "      <td>    USA</td>\n",
        "      <td>        CA</td>\n",
        "      <td>         Whittier</td>\n",
        "      <td>  NaN</td>\n",
        "      <td>NaN</td>\n",
        "      <td>NaN</td>\n",
        "      <td>...</td>\n",
        "      <td>       Zosky</td>\n",
        "      <td>       Edward James</td>\n",
        "      <td> 175</td>\n",
        "      <td> 72</td>\n",
        "      <td>   R</td>\n",
        "      <td>   R</td>\n",
        "      <td> 1991-09-02</td>\n",
        "      <td> 2000-10-01</td>\n",
        "      <td> zoske001</td>\n",
        "      <td> zoskyed01</td>\n",
        "    </tr>\n",
        "    <tr>\n",
        "      <th>18344</th>\n",
        "      <td> zuberbi01</td>\n",
        "      <td> 1913</td>\n",
        "      <td>  3</td>\n",
        "      <td> 26</td>\n",
        "      <td>    USA</td>\n",
        "      <td>        IA</td>\n",
        "      <td>     Middle Amana</td>\n",
        "      <td> 1982</td>\n",
        "      <td> 11</td>\n",
        "      <td>  2</td>\n",
        "      <td>...</td>\n",
        "      <td>       Zuber</td>\n",
        "      <td>      William Henry</td>\n",
        "      <td> 195</td>\n",
        "      <td> 74</td>\n",
        "      <td>   R</td>\n",
        "      <td>   R</td>\n",
        "      <td> 1936-09-16</td>\n",
        "      <td> 1947-09-23</td>\n",
        "      <td> zubeb101</td>\n",
        "      <td> zuberbi01</td>\n",
        "    </tr>\n",
        "    <tr>\n",
        "      <th>18345</th>\n",
        "      <td> zuberjo01</td>\n",
        "      <td> 1969</td>\n",
        "      <td> 12</td>\n",
        "      <td> 10</td>\n",
        "      <td>    USA</td>\n",
        "      <td>        CA</td>\n",
        "      <td>           Encino</td>\n",
        "      <td>  NaN</td>\n",
        "      <td>NaN</td>\n",
        "      <td>NaN</td>\n",
        "      <td>...</td>\n",
        "      <td>       Zuber</td>\n",
        "      <td>         Jon Edward</td>\n",
        "      <td> 190</td>\n",
        "      <td> 73</td>\n",
        "      <td>   L</td>\n",
        "      <td>   L</td>\n",
        "      <td> 1996-04-19</td>\n",
        "      <td> 1998-09-27</td>\n",
        "      <td> zubej001</td>\n",
        "      <td> zuberjo01</td>\n",
        "    </tr>\n",
        "    <tr>\n",
        "      <th>18346</th>\n",
        "      <td> zuletju01</td>\n",
        "      <td> 1975</td>\n",
        "      <td>  3</td>\n",
        "      <td> 28</td>\n",
        "      <td> Panama</td>\n",
        "      <td>    Panama</td>\n",
        "      <td>           Panama</td>\n",
        "      <td>  NaN</td>\n",
        "      <td>NaN</td>\n",
        "      <td>NaN</td>\n",
        "      <td>...</td>\n",
        "      <td>      Zuleta</td>\n",
        "      <td>      Julio Ernesto</td>\n",
        "      <td> 230</td>\n",
        "      <td> 78</td>\n",
        "      <td>   R</td>\n",
        "      <td>   R</td>\n",
        "      <td> 2000-04-06</td>\n",
        "      <td> 2001-06-25</td>\n",
        "      <td> zulej001</td>\n",
        "      <td> zuletju01</td>\n",
        "    </tr>\n",
        "    <tr>\n",
        "      <th>18347</th>\n",
        "      <td> zumayjo01</td>\n",
        "      <td> 1984</td>\n",
        "      <td> 11</td>\n",
        "      <td>  9</td>\n",
        "      <td>    USA</td>\n",
        "      <td>        CA</td>\n",
        "      <td>      Chula Vista</td>\n",
        "      <td>  NaN</td>\n",
        "      <td>NaN</td>\n",
        "      <td>NaN</td>\n",
        "      <td>...</td>\n",
        "      <td>      Zumaya</td>\n",
        "      <td>        Joel Martin</td>\n",
        "      <td> 215</td>\n",
        "      <td> 75</td>\n",
        "      <td>   R</td>\n",
        "      <td>   R</td>\n",
        "      <td> 2006-04-03</td>\n",
        "      <td> 2010-06-28</td>\n",
        "      <td> zumaj001</td>\n",
        "      <td> zumayjo01</td>\n",
        "    </tr>\n",
        "    <tr>\n",
        "      <th>18348</th>\n",
        "      <td> zuninmi01</td>\n",
        "      <td> 1991</td>\n",
        "      <td>  3</td>\n",
        "      <td> 25</td>\n",
        "      <td>    USA</td>\n",
        "      <td>        FL</td>\n",
        "      <td>       Cape Coral</td>\n",
        "      <td>  NaN</td>\n",
        "      <td>NaN</td>\n",
        "      <td>NaN</td>\n",
        "      <td>...</td>\n",
        "      <td>      Zunino</td>\n",
        "      <td>    Michael Accorsi</td>\n",
        "      <td> 220</td>\n",
        "      <td> 74</td>\n",
        "      <td>   R</td>\n",
        "      <td>   R</td>\n",
        "      <td> 2013-06-12</td>\n",
        "      <td> 2013-09-29</td>\n",
        "      <td> zunim001</td>\n",
        "      <td> zuninmi01</td>\n",
        "    </tr>\n",
        "    <tr>\n",
        "      <th>18349</th>\n",
        "      <td> zupcibo01</td>\n",
        "      <td> 1966</td>\n",
        "      <td>  8</td>\n",
        "      <td> 18</td>\n",
        "      <td>    USA</td>\n",
        "      <td>        PA</td>\n",
        "      <td>       Pittsburgh</td>\n",
        "      <td>  NaN</td>\n",
        "      <td>NaN</td>\n",
        "      <td>NaN</td>\n",
        "      <td>...</td>\n",
        "      <td>      Zupcic</td>\n",
        "      <td>             Robert</td>\n",
        "      <td> 220</td>\n",
        "      <td> 76</td>\n",
        "      <td>   R</td>\n",
        "      <td>   R</td>\n",
        "      <td> 1991-09-07</td>\n",
        "      <td> 1994-08-04</td>\n",
        "      <td> zupcb001</td>\n",
        "      <td> zupcibo01</td>\n",
        "    </tr>\n",
        "    <tr>\n",
        "      <th>18350</th>\n",
        "      <td>  zupofr01</td>\n",
        "      <td> 1939</td>\n",
        "      <td>  8</td>\n",
        "      <td> 29</td>\n",
        "      <td>    USA</td>\n",
        "      <td>        CA</td>\n",
        "      <td>    San Francisco</td>\n",
        "      <td> 2005</td>\n",
        "      <td>  3</td>\n",
        "      <td> 25</td>\n",
        "      <td>...</td>\n",
        "      <td>        Zupo</td>\n",
        "      <td>       Frank Joseph</td>\n",
        "      <td> 182</td>\n",
        "      <td> 71</td>\n",
        "      <td>   L</td>\n",
        "      <td>   R</td>\n",
        "      <td> 1957-07-01</td>\n",
        "      <td> 1961-05-09</td>\n",
        "      <td> zupof101</td>\n",
        "      <td>  zupofr01</td>\n",
        "    </tr>\n",
        "    <tr>\n",
        "      <th>18351</th>\n",
        "      <td> zuvelpa01</td>\n",
        "      <td> 1958</td>\n",
        "      <td> 10</td>\n",
        "      <td> 31</td>\n",
        "      <td>    USA</td>\n",
        "      <td>        CA</td>\n",
        "      <td>        San Mateo</td>\n",
        "      <td>  NaN</td>\n",
        "      <td>NaN</td>\n",
        "      <td>NaN</td>\n",
        "      <td>...</td>\n",
        "      <td>     Zuvella</td>\n",
        "      <td>               Paul</td>\n",
        "      <td> 173</td>\n",
        "      <td> 72</td>\n",
        "      <td>   R</td>\n",
        "      <td>   R</td>\n",
        "      <td> 1982-09-04</td>\n",
        "      <td> 1991-05-02</td>\n",
        "      <td> zuvep001</td>\n",
        "      <td> zuvelpa01</td>\n",
        "    </tr>\n",
        "    <tr>\n",
        "      <th>18352</th>\n",
        "      <td> zuverge01</td>\n",
        "      <td> 1924</td>\n",
        "      <td>  8</td>\n",
        "      <td> 20</td>\n",
        "      <td>    USA</td>\n",
        "      <td>        MI</td>\n",
        "      <td>          Holland</td>\n",
        "      <td>  NaN</td>\n",
        "      <td>NaN</td>\n",
        "      <td>NaN</td>\n",
        "      <td>...</td>\n",
        "      <td>    Zuverink</td>\n",
        "      <td>             George</td>\n",
        "      <td> 195</td>\n",
        "      <td> 76</td>\n",
        "      <td>   R</td>\n",
        "      <td>   R</td>\n",
        "      <td> 1951-04-21</td>\n",
        "      <td> 1959-06-15</td>\n",
        "      <td> zuveg101</td>\n",
        "      <td> zuverge01</td>\n",
        "    </tr>\n",
        "    <tr>\n",
        "      <th>18353</th>\n",
        "      <td> zwilldu01</td>\n",
        "      <td> 1888</td>\n",
        "      <td> 11</td>\n",
        "      <td>  2</td>\n",
        "      <td>    USA</td>\n",
        "      <td>        MO</td>\n",
        "      <td>        St. Louis</td>\n",
        "      <td> 1978</td>\n",
        "      <td>  3</td>\n",
        "      <td> 27</td>\n",
        "      <td>...</td>\n",
        "      <td>    Zwilling</td>\n",
        "      <td>    Edward Harrison</td>\n",
        "      <td> 160</td>\n",
        "      <td> 66</td>\n",
        "      <td>   L</td>\n",
        "      <td>   L</td>\n",
        "      <td> 1910-08-14</td>\n",
        "      <td> 1916-07-12</td>\n",
        "      <td> zwild101</td>\n",
        "      <td> zwilldu01</td>\n",
        "    </tr>\n",
        "  </tbody>\n",
        "</table>\n",
        "<p>18354 rows \u00d7 24 columns</p>\n",
        "</div>"
       ],
       "metadata": {},
       "output_type": "pyout",
       "prompt_number": 6,
       "text": [
        "        playerID  birthYear  birthMonth  birthDay birthCountry birthState  \\\n",
        "0      aardsda01       1981          12        27          USA         CO   \n",
        "1      aaronha01       1934           2         5          USA         AL   \n",
        "2      aaronto01       1939           8         5          USA         AL   \n",
        "3       aasedo01       1954           9         8          USA         CA   \n",
        "4       abadan01       1972           8        25          USA         FL   \n",
        "5       abadfe01       1985          12        17         D.R.  La Romana   \n",
        "6      abadijo01       1854          11         4          USA         PA   \n",
        "7      abbated01       1877           4        15          USA         PA   \n",
        "8      abbeybe01       1869          11        11          USA         VT   \n",
        "9      abbeych01       1866          10        14          USA         NE   \n",
        "10     abbotda01       1862           3        16          USA         OH   \n",
        "11     abbotfr01       1874          10        22          USA         OH   \n",
        "12     abbotgl01       1951           2        16          USA         AR   \n",
        "13     abbotje01       1972           8        17          USA         GA   \n",
        "14     abbotji01       1967           9        19          USA         MI   \n",
        "15     abbotku01       1969           6         2          USA         OH   \n",
        "16     abbotky01       1968           2        18          USA         MA   \n",
        "17     abbotod01       1888           9         5          USA         PA   \n",
        "18     abbotpa01       1967           9        15          USA         CA   \n",
        "19      aberal01       1927           7        31          USA         OH   \n",
        "20     abercda01       1850           1         2          USA         OK   \n",
        "21     abercre01       1980           7        15          USA         GA   \n",
        "22     abernbi01       1929           1        30          USA         CA   \n",
        "23     abernbr01       1977           9        23          USA         GA   \n",
        "24     abernte01       1921          10        30          USA         NC   \n",
        "25     abernte02       1933           3         6          USA         NC   \n",
        "26     abernwo01       1915           2         1          USA         NC   \n",
        "27     aberscl01       1921           8        28          USA         IL   \n",
        "28     ablesha01       1883          10         4          USA         TX   \n",
        "29     abnersh01       1966           6        17          USA         OH   \n",
        "...          ...        ...         ...       ...          ...        ...   \n",
        "18324  zimmejo01       1975           4        28          CAN         BC   \n",
        "18325  zimmejo02       1986           5        23          USA         WI   \n",
        "18326  zimmero01       1916           9        13          USA         PA   \n",
        "18327  zimmery01       1984           9        28          USA         NC   \n",
        "18328   zinkch01       1979           8        26          USA         CA   \n",
        "18329   zinkwa01       1898          11        21          USA         MA   \n",
        "18330   zinnfr01       1865          12        21          USA         PA   \n",
        "18331   zinngu01       1887           2        13          USA         WV   \n",
        "18332   zinnji01       1895           1        21          USA         AR   \n",
        "18333  zinsebi01       1918           1         6          USA         NY   \n",
        "18334  zinteal01       1968           5        19          USA         TX   \n",
        "18335  zipfebu01       1938          11        18          USA         IL   \n",
        "18336   ziskri01       1949           2         6          USA         NY   \n",
        "18337   zitoba01       1978           5        13          USA         NV   \n",
        "18338  zitzmbi01       1895          11        19          USA         NY   \n",
        "18339  zmiched01       1884          10         1          USA         OH   \n",
        "18340  zobribe01       1981           5        26          USA         IL   \n",
        "18341  zoccope01       1977           2         6          USA         NY   \n",
        "18342  zoldasa01       1918          12         8          USA         NY   \n",
        "18343  zoskyed01       1968           2        10          USA         CA   \n",
        "18344  zuberbi01       1913           3        26          USA         IA   \n",
        "18345  zuberjo01       1969          12        10          USA         CA   \n",
        "18346  zuletju01       1975           3        28       Panama     Panama   \n",
        "18347  zumayjo01       1984          11         9          USA         CA   \n",
        "18348  zuninmi01       1991           3        25          USA         FL   \n",
        "18349  zupcibo01       1966           8        18          USA         PA   \n",
        "18350   zupofr01       1939           8        29          USA         CA   \n",
        "18351  zuvelpa01       1958          10        31          USA         CA   \n",
        "18352  zuverge01       1924           8        20          USA         MI   \n",
        "18353  zwilldu01       1888          11         2          USA         MO   \n",
        "\n",
        "              birthCity  deathYear  deathMonth  deathDay    ...     \\\n",
        "0                Denver        NaN         NaN       NaN    ...      \n",
        "1                Mobile        NaN         NaN       NaN    ...      \n",
        "2                Mobile       1984           8        16    ...      \n",
        "3                Orange        NaN         NaN       NaN    ...      \n",
        "4            Palm Beach        NaN         NaN       NaN    ...      \n",
        "5             La Romana        NaN         NaN       NaN    ...      \n",
        "6          Philadelphia       1905           5        17    ...      \n",
        "7               Latrobe       1957           1         6    ...      \n",
        "8                 Essex       1962           6        11    ...      \n",
        "9            Falls City       1926           4        27    ...      \n",
        "10              Portage       1930           2        13    ...      \n",
        "11           Versailles       1935           6        11    ...      \n",
        "12          Little Rock        NaN         NaN       NaN    ...      \n",
        "13              Atlanta        NaN         NaN       NaN    ...      \n",
        "14                Flint        NaN         NaN       NaN    ...      \n",
        "15           Zanesville        NaN         NaN       NaN    ...      \n",
        "16          Newburyport        NaN         NaN       NaN    ...      \n",
        "17            New Eagle       1933           4        13    ...      \n",
        "18             Van Nuys        NaN         NaN       NaN    ...      \n",
        "19            Cleveland       1993           5        20    ...      \n",
        "20          Fort Towson       1939          11        11    ...      \n",
        "21             Columbus        NaN         NaN       NaN    ...      \n",
        "22             Torrance       2006           2        19    ...      \n",
        "23              Atlanta        NaN         NaN       NaN    ...      \n",
        "24                Bynum       2001          11        16    ...      \n",
        "25              Stanley       2004          12        16    ...      \n",
        "26          Forest City       1994          12         5    ...      \n",
        "27              Chicago       1973           6        23    ...      \n",
        "28              Terrell       1951           2         8    ...      \n",
        "29             Hamilton        NaN         NaN       NaN    ...      \n",
        "...                 ...        ...         ...       ...    ...      \n",
        "18324           Kelowna        NaN         NaN       NaN    ...      \n",
        "18325        Auburndale        NaN         NaN       NaN    ...      \n",
        "18326        Pine Grove       1991          11        22    ...      \n",
        "18327        Washington        NaN         NaN       NaN    ...      \n",
        "18328        Carmichael        NaN         NaN       NaN    ...      \n",
        "18329        Pittsfield       1964           6        12    ...      \n",
        "18330      Phoenixville       1936           5        12    ...      \n",
        "18331          Holbrook       1949          10         6    ...      \n",
        "18332            Benton       1991           2        26    ...      \n",
        "18333           Astoria       1993           2        16    ...      \n",
        "18334           El Paso        NaN         NaN       NaN    ...      \n",
        "18335        Belleville        NaN         NaN       NaN    ...      \n",
        "18336          Brooklyn        NaN         NaN       NaN    ...      \n",
        "18337         Las Vegas        NaN         NaN       NaN    ...      \n",
        "18338  Long Island City       1985           5        29    ...      \n",
        "18339         Cleveland       1950           8        20    ...      \n",
        "18340            Eureka        NaN         NaN       NaN    ...      \n",
        "18341             Bronx        NaN         NaN       NaN    ...      \n",
        "18342          Brooklyn       1966           8        25    ...      \n",
        "18343          Whittier        NaN         NaN       NaN    ...      \n",
        "18344      Middle Amana       1982          11         2    ...      \n",
        "18345            Encino        NaN         NaN       NaN    ...      \n",
        "18346            Panama        NaN         NaN       NaN    ...      \n",
        "18347       Chula Vista        NaN         NaN       NaN    ...      \n",
        "18348        Cape Coral        NaN         NaN       NaN    ...      \n",
        "18349        Pittsburgh        NaN         NaN       NaN    ...      \n",
        "18350     San Francisco       2005           3        25    ...      \n",
        "18351         San Mateo        NaN         NaN       NaN    ...      \n",
        "18352           Holland        NaN         NaN       NaN    ...      \n",
        "18353         St. Louis       1978           3        27    ...      \n",
        "\n",
        "          nameLast           nameGiven weight height bats throws       debut  \\\n",
        "0          Aardsma         David Allan    205     75    R      R  2004-04-06   \n",
        "1            Aaron         Henry Louis    180     72    R      R  1954-04-13   \n",
        "2            Aaron          Tommie Lee    190     75    R      R  1962-04-10   \n",
        "3             Aase      Donald William    190     75    R      R  1977-07-26   \n",
        "4             Abad       Fausto Andres    184     73    L      L  2001-09-10   \n",
        "5             Abad    Fernando Antonio    220     73    L      L  2010-07-28   \n",
        "6           Abadie             John W.    192     72    R      R  1875-04-26   \n",
        "7      Abbaticchio        Edward James    170     71    R      R  1897-09-04   \n",
        "8            Abbey           Bert Wood    175     71    R      R  1892-06-14   \n",
        "9            Abbey          Charles S.    169     68    L      L  1893-08-16   \n",
        "10          Abbott    Leander Franklin    190     71    R      R  1890-04-19   \n",
        "11          Abbott     Harry Frederick    180     70    R      R  1903-04-25   \n",
        "12          Abbott       William Glenn    200     78    R      R  1973-07-29   \n",
        "13          Abbott     Jeffrey William    190     74    R      L  1997-06-10   \n",
        "14          Abbott       James Anthony    200     75    L      L  1989-04-08   \n",
        "15          Abbott         Kurt Thomas    180     71    R      R  1993-09-07   \n",
        "16          Abbott       Lawrence Kyle    200     76    L      L  1991-09-10   \n",
        "17          Abbott           Ody Cleon    180     74    R      R  1910-09-10   \n",
        "18          Abbott          Paul David    185     75    R      R  1990-08-21   \n",
        "19            Aber       Albert Julius    195     74    L      L  1950-09-15   \n",
        "20     Abercrombie   Francis Patterson    NaN    NaN  NaN    NaN  1871-10-21   \n",
        "21     Abercrombie   Reginald Damascus    215     75    R      R  2006-04-04   \n",
        "22      Abernathie      William Edward    190     70    R      R  1952-09-27   \n",
        "23       Abernathy       Michael Brent    185     73    R      R  2001-06-25   \n",
        "24       Abernathy  Talmadge Lafayette    210     74    R      L  1942-09-19   \n",
        "25       Abernathy       Theodore Wade    215     76    R      R  1955-04-13   \n",
        "26       Abernathy      Virgil Woodrow    170     72    L      L  1946-07-28   \n",
        "27         Aberson  Clifford Alexander    200     72    R      R  1947-07-18   \n",
        "28           Ables       Harry Terrell    200     74    R      L  1905-09-04   \n",
        "29           Abner        Shawn Wesley    190     73    R      R  1987-09-08   \n",
        "...            ...                 ...    ...    ...  ...    ...         ...   \n",
        "18324    Zimmerman      Jordan William    200     72    R      L  1999-05-17   \n",
        "18325   Zimmermann           Jordan M.    220     74    R      R  2009-04-20   \n",
        "18326    Zimmerman        Roy Franklin    187     74    L      L  1945-08-27   \n",
        "18327    Zimmerman        Ryan Wallace    230     75    R      R  2005-09-01   \n",
        "18328         Zink       Charles Tadao    190     73    R      R  2008-08-12   \n",
        "18329         Zink        Walter Noble    165     72    R      R  1921-07-06   \n",
        "18330         Zinn       Frank Patrick    150     68  NaN    NaN  1888-04-18   \n",
        "18331         Zinn                 Guy    170     70    L      R  1911-09-11   \n",
        "18332         Zinn        James Edward    195     72    L      R  1919-09-04   \n",
        "18333       Zinser     William Francis    185     73    R      R  1944-08-19   \n",
        "18334       Zinter        Alan Michael    200     74    B      R  2002-06-18   \n",
        "18335       Zipfel    Marion Sylvester    200     75    L      R  1961-07-26   \n",
        "18336         Zisk      Richard Walter    200     73    R      R  1971-09-08   \n",
        "18337         Zito       Barry William    205     74    L      L  2000-07-22   \n",
        "18338     Zitzmann      William Arthur    175     70    R      R  1919-04-27   \n",
        "18339        Zmich       Edward Albert    180     72    L      L  1910-07-23   \n",
        "18340      Zobrist     Benjamin Thomas    210     75    B      R  2006-08-01   \n",
        "18341   Zoccolillo          Peter Jude    200     74    L      R  2003-09-05   \n",
        "18342       Zoldak       Samuel Walter    185     71    L      L  1944-05-13   \n",
        "18343        Zosky        Edward James    175     72    R      R  1991-09-02   \n",
        "18344        Zuber       William Henry    195     74    R      R  1936-09-16   \n",
        "18345        Zuber          Jon Edward    190     73    L      L  1996-04-19   \n",
        "18346       Zuleta       Julio Ernesto    230     78    R      R  2000-04-06   \n",
        "18347       Zumaya         Joel Martin    215     75    R      R  2006-04-03   \n",
        "18348       Zunino     Michael Accorsi    220     74    R      R  2013-06-12   \n",
        "18349       Zupcic              Robert    220     76    R      R  1991-09-07   \n",
        "18350         Zupo        Frank Joseph    182     71    L      R  1957-07-01   \n",
        "18351      Zuvella                Paul    173     72    R      R  1982-09-04   \n",
        "18352     Zuverink              George    195     76    R      R  1951-04-21   \n",
        "18353     Zwilling     Edward Harrison    160     66    L      L  1910-08-14   \n",
        "\n",
        "        finalGame   retroID    bbrefID  \n",
        "0      2013-09-28  aardd001  aardsda01  \n",
        "1      1976-10-03  aaroh101  aaronha01  \n",
        "2      1971-09-26  aarot101  aaronto01  \n",
        "3      1990-10-03  aased001   aasedo01  \n",
        "4      2006-04-13  abada001   abadan01  \n",
        "5      2013-09-27  abadf001   abadfe01  \n",
        "6      1875-06-10  abadj101  abadijo01  \n",
        "7      1910-09-15  abbae101  abbated01  \n",
        "8      1896-09-23  abbeb101  abbeybe01  \n",
        "9      1897-08-19  abbec101  abbeych01  \n",
        "10     1890-05-23  abbod101  abbotda01  \n",
        "11     1905-09-20  abbof101  abbotfr01  \n",
        "12     1984-08-08  abbog001  abbotgl01  \n",
        "13     2001-09-29  abboj002  abbotje01  \n",
        "14     1999-07-21  abboj001  abbotji01  \n",
        "15     2001-04-13  abbok002  abbotku01  \n",
        "16     1996-08-24  abbok001  abbotky01  \n",
        "17     1910-10-15  abboo101  abbotod01  \n",
        "18     2004-08-07  abbop001  abbotpa01  \n",
        "19     1957-09-11  abera101   aberal01  \n",
        "20     1871-10-21  aberd101  abercda01  \n",
        "21     2008-09-28  aberr001  abercre01  \n",
        "22     1952-09-27  aberb101  abernbi01  \n",
        "23     2005-09-29  aberb001  abernbr01  \n",
        "24     1944-04-29  abert102  abernte01  \n",
        "25     1972-09-30  abert101  abernte02  \n",
        "26     1947-04-17  aberw101  abernwo01  \n",
        "27     1949-05-09  aberc101  aberscl01  \n",
        "28     1911-05-05  ableh101  ablesha01  \n",
        "29     1992-10-03  abnes001  abnersh01  \n",
        "...           ...       ...        ...  \n",
        "18324  1999-07-02  zimmj002  zimmejo01  \n",
        "18325  2013-09-25  zimmj003  zimmejo02  \n",
        "18326  1945-09-30  zimmr101  zimmero01  \n",
        "18327  2013-09-28  zimmr001  zimmery01  \n",
        "18328  2008-08-12  zinkc001   zinkch01  \n",
        "18329  1921-07-19  zinkw101   zinkwa01  \n",
        "18330  1888-05-03  zinnf101   zinnfr01  \n",
        "18331  1915-09-16  zinng101   zinngu01  \n",
        "18332  1929-08-25  zinnj101   zinnji01  \n",
        "18333  1944-08-26  zinsb101  zinsebi01  \n",
        "18334  2004-10-03  zinta001  zinteal01  \n",
        "18335  1962-09-30  zipfb101  zipfebu01  \n",
        "18336  1983-09-21  ziskr101   ziskri01  \n",
        "18337  2013-09-29  zitob001   zitoba01  \n",
        "18338  1929-09-25  zitzb101  zitzmbi01  \n",
        "18339  1911-06-01  zmice101  zmiched01  \n",
        "18340  2013-09-30  zobrb001  zobribe01  \n",
        "18341  2003-09-28  zoccp001  zoccope01  \n",
        "18342  1952-08-26  zolds101  zoldasa01  \n",
        "18343  2000-10-01  zoske001  zoskyed01  \n",
        "18344  1947-09-23  zubeb101  zuberbi01  \n",
        "18345  1998-09-27  zubej001  zuberjo01  \n",
        "18346  2001-06-25  zulej001  zuletju01  \n",
        "18347  2010-06-28  zumaj001  zumayjo01  \n",
        "18348  2013-09-29  zunim001  zuninmi01  \n",
        "18349  1994-08-04  zupcb001  zupcibo01  \n",
        "18350  1961-05-09  zupof101   zupofr01  \n",
        "18351  1991-05-02  zuvep001  zuvelpa01  \n",
        "18352  1959-06-15  zuveg101  zuverge01  \n",
        "18353  1916-07-12  zwild101  zwilldu01  \n",
        "\n",
        "[18354 rows x 24 columns]"
       ]
      }
     ],
     "prompt_number": 6
    },
    {
     "cell_type": "code",
     "collapsed": false,
     "input": [
      "# fill NA\n",
      "from pandas import *\n",
      "import numpy\n",
      "\n",
      "def imputation(filename):\n",
      "    # Pandas dataframes have a method called 'fillna(value)', such that you can\n",
      "    # pass in a single value to replace any NAs in a dataframe or series. You\n",
      "    # can call it like this: \n",
      "    #     dataframe['column'] = dataframe['column'].fillna(value)\n",
      "    #\n",
      "    # Using the numpy.mean function, which calculates the mean of a numpy\n",
      "    # array, impute any missing values in our Lahman baseball\n",
      "    # data sets 'weight' column by setting them equal to the average weight.\n",
      "    # \n",
      "    # You can access the 'weight' colum in the baseball data frame by\n",
      "    # calling baseball['weight']\n",
      "\n",
      "    baseball = pandas.read_csv(filename)\n",
      "    \n",
      "    #YOUR CODE GOES HERE\n",
      "    x = numpy.mean(baseball['weight'])\n",
      "    baseball['weight'] = baseball['weight'].fillna(x)\n",
      "\n",
      "    return baseball"
     ],
     "language": "python",
     "metadata": {},
     "outputs": [],
     "prompt_number": 4
    },
    {
     "cell_type": "code",
     "collapsed": false,
     "input": [
      "path=\"C:\\Vindico\\Projects\\Data\\Course\\Python\\Udacity\\Introduction to Data Science\\Lesson 2\\Lecture\\Lahman\\Master.csv\"\n",
      "imputation(path)"
     ],
     "language": "python",
     "metadata": {},
     "outputs": [
      {
       "html": [
        "<div style=\"max-height:1000px;max-width:1500px;overflow:auto;\">\n",
        "<table border=\"1\" class=\"dataframe\">\n",
        "  <thead>\n",
        "    <tr style=\"text-align: right;\">\n",
        "      <th></th>\n",
        "      <th>playerID</th>\n",
        "      <th>birthYear</th>\n",
        "      <th>birthMonth</th>\n",
        "      <th>birthDay</th>\n",
        "      <th>birthCountry</th>\n",
        "      <th>birthState</th>\n",
        "      <th>birthCity</th>\n",
        "      <th>deathYear</th>\n",
        "      <th>deathMonth</th>\n",
        "      <th>deathDay</th>\n",
        "      <th>...</th>\n",
        "      <th>nameLast</th>\n",
        "      <th>nameGiven</th>\n",
        "      <th>weight</th>\n",
        "      <th>height</th>\n",
        "      <th>bats</th>\n",
        "      <th>throws</th>\n",
        "      <th>debut</th>\n",
        "      <th>finalGame</th>\n",
        "      <th>retroID</th>\n",
        "      <th>bbrefID</th>\n",
        "    </tr>\n",
        "  </thead>\n",
        "  <tbody>\n",
        "    <tr>\n",
        "      <th>0    </th>\n",
        "      <td> aardsda01</td>\n",
        "      <td> 1981</td>\n",
        "      <td> 12</td>\n",
        "      <td> 27</td>\n",
        "      <td>    USA</td>\n",
        "      <td>        CO</td>\n",
        "      <td>           Denver</td>\n",
        "      <td>  NaN</td>\n",
        "      <td>NaN</td>\n",
        "      <td>NaN</td>\n",
        "      <td>...</td>\n",
        "      <td>     Aardsma</td>\n",
        "      <td>        David Allan</td>\n",
        "      <td> 205.000000</td>\n",
        "      <td> 75</td>\n",
        "      <td>   R</td>\n",
        "      <td>   R</td>\n",
        "      <td> 2004-04-06</td>\n",
        "      <td> 2013-09-28</td>\n",
        "      <td> aardd001</td>\n",
        "      <td> aardsda01</td>\n",
        "    </tr>\n",
        "    <tr>\n",
        "      <th>1    </th>\n",
        "      <td> aaronha01</td>\n",
        "      <td> 1934</td>\n",
        "      <td>  2</td>\n",
        "      <td>  5</td>\n",
        "      <td>    USA</td>\n",
        "      <td>        AL</td>\n",
        "      <td>           Mobile</td>\n",
        "      <td>  NaN</td>\n",
        "      <td>NaN</td>\n",
        "      <td>NaN</td>\n",
        "      <td>...</td>\n",
        "      <td>       Aaron</td>\n",
        "      <td>        Henry Louis</td>\n",
        "      <td> 180.000000</td>\n",
        "      <td> 72</td>\n",
        "      <td>   R</td>\n",
        "      <td>   R</td>\n",
        "      <td> 1954-04-13</td>\n",
        "      <td> 1976-10-03</td>\n",
        "      <td> aaroh101</td>\n",
        "      <td> aaronha01</td>\n",
        "    </tr>\n",
        "    <tr>\n",
        "      <th>2    </th>\n",
        "      <td> aaronto01</td>\n",
        "      <td> 1939</td>\n",
        "      <td>  8</td>\n",
        "      <td>  5</td>\n",
        "      <td>    USA</td>\n",
        "      <td>        AL</td>\n",
        "      <td>           Mobile</td>\n",
        "      <td> 1984</td>\n",
        "      <td>  8</td>\n",
        "      <td> 16</td>\n",
        "      <td>...</td>\n",
        "      <td>       Aaron</td>\n",
        "      <td>         Tommie Lee</td>\n",
        "      <td> 190.000000</td>\n",
        "      <td> 75</td>\n",
        "      <td>   R</td>\n",
        "      <td>   R</td>\n",
        "      <td> 1962-04-10</td>\n",
        "      <td> 1971-09-26</td>\n",
        "      <td> aarot101</td>\n",
        "      <td> aaronto01</td>\n",
        "    </tr>\n",
        "    <tr>\n",
        "      <th>3    </th>\n",
        "      <td>  aasedo01</td>\n",
        "      <td> 1954</td>\n",
        "      <td>  9</td>\n",
        "      <td>  8</td>\n",
        "      <td>    USA</td>\n",
        "      <td>        CA</td>\n",
        "      <td>           Orange</td>\n",
        "      <td>  NaN</td>\n",
        "      <td>NaN</td>\n",
        "      <td>NaN</td>\n",
        "      <td>...</td>\n",
        "      <td>        Aase</td>\n",
        "      <td>     Donald William</td>\n",
        "      <td> 190.000000</td>\n",
        "      <td> 75</td>\n",
        "      <td>   R</td>\n",
        "      <td>   R</td>\n",
        "      <td> 1977-07-26</td>\n",
        "      <td> 1990-10-03</td>\n",
        "      <td> aased001</td>\n",
        "      <td>  aasedo01</td>\n",
        "    </tr>\n",
        "    <tr>\n",
        "      <th>4    </th>\n",
        "      <td>  abadan01</td>\n",
        "      <td> 1972</td>\n",
        "      <td>  8</td>\n",
        "      <td> 25</td>\n",
        "      <td>    USA</td>\n",
        "      <td>        FL</td>\n",
        "      <td>       Palm Beach</td>\n",
        "      <td>  NaN</td>\n",
        "      <td>NaN</td>\n",
        "      <td>NaN</td>\n",
        "      <td>...</td>\n",
        "      <td>        Abad</td>\n",
        "      <td>      Fausto Andres</td>\n",
        "      <td> 184.000000</td>\n",
        "      <td> 73</td>\n",
        "      <td>   L</td>\n",
        "      <td>   L</td>\n",
        "      <td> 2001-09-10</td>\n",
        "      <td> 2006-04-13</td>\n",
        "      <td> abada001</td>\n",
        "      <td>  abadan01</td>\n",
        "    </tr>\n",
        "    <tr>\n",
        "      <th>5    </th>\n",
        "      <td>  abadfe01</td>\n",
        "      <td> 1985</td>\n",
        "      <td> 12</td>\n",
        "      <td> 17</td>\n",
        "      <td>   D.R.</td>\n",
        "      <td> La Romana</td>\n",
        "      <td>        La Romana</td>\n",
        "      <td>  NaN</td>\n",
        "      <td>NaN</td>\n",
        "      <td>NaN</td>\n",
        "      <td>...</td>\n",
        "      <td>        Abad</td>\n",
        "      <td>   Fernando Antonio</td>\n",
        "      <td> 220.000000</td>\n",
        "      <td> 73</td>\n",
        "      <td>   L</td>\n",
        "      <td>   L</td>\n",
        "      <td> 2010-07-28</td>\n",
        "      <td> 2013-09-27</td>\n",
        "      <td> abadf001</td>\n",
        "      <td>  abadfe01</td>\n",
        "    </tr>\n",
        "    <tr>\n",
        "      <th>6    </th>\n",
        "      <td> abadijo01</td>\n",
        "      <td> 1854</td>\n",
        "      <td> 11</td>\n",
        "      <td>  4</td>\n",
        "      <td>    USA</td>\n",
        "      <td>        PA</td>\n",
        "      <td>     Philadelphia</td>\n",
        "      <td> 1905</td>\n",
        "      <td>  5</td>\n",
        "      <td> 17</td>\n",
        "      <td>...</td>\n",
        "      <td>      Abadie</td>\n",
        "      <td>            John W.</td>\n",
        "      <td> 192.000000</td>\n",
        "      <td> 72</td>\n",
        "      <td>   R</td>\n",
        "      <td>   R</td>\n",
        "      <td> 1875-04-26</td>\n",
        "      <td> 1875-06-10</td>\n",
        "      <td> abadj101</td>\n",
        "      <td> abadijo01</td>\n",
        "    </tr>\n",
        "    <tr>\n",
        "      <th>7    </th>\n",
        "      <td> abbated01</td>\n",
        "      <td> 1877</td>\n",
        "      <td>  4</td>\n",
        "      <td> 15</td>\n",
        "      <td>    USA</td>\n",
        "      <td>        PA</td>\n",
        "      <td>          Latrobe</td>\n",
        "      <td> 1957</td>\n",
        "      <td>  1</td>\n",
        "      <td>  6</td>\n",
        "      <td>...</td>\n",
        "      <td> Abbaticchio</td>\n",
        "      <td>       Edward James</td>\n",
        "      <td> 170.000000</td>\n",
        "      <td> 71</td>\n",
        "      <td>   R</td>\n",
        "      <td>   R</td>\n",
        "      <td> 1897-09-04</td>\n",
        "      <td> 1910-09-15</td>\n",
        "      <td> abbae101</td>\n",
        "      <td> abbated01</td>\n",
        "    </tr>\n",
        "    <tr>\n",
        "      <th>8    </th>\n",
        "      <td> abbeybe01</td>\n",
        "      <td> 1869</td>\n",
        "      <td> 11</td>\n",
        "      <td> 11</td>\n",
        "      <td>    USA</td>\n",
        "      <td>        VT</td>\n",
        "      <td>            Essex</td>\n",
        "      <td> 1962</td>\n",
        "      <td>  6</td>\n",
        "      <td> 11</td>\n",
        "      <td>...</td>\n",
        "      <td>       Abbey</td>\n",
        "      <td>          Bert Wood</td>\n",
        "      <td> 175.000000</td>\n",
        "      <td> 71</td>\n",
        "      <td>   R</td>\n",
        "      <td>   R</td>\n",
        "      <td> 1892-06-14</td>\n",
        "      <td> 1896-09-23</td>\n",
        "      <td> abbeb101</td>\n",
        "      <td> abbeybe01</td>\n",
        "    </tr>\n",
        "    <tr>\n",
        "      <th>9    </th>\n",
        "      <td> abbeych01</td>\n",
        "      <td> 1866</td>\n",
        "      <td> 10</td>\n",
        "      <td> 14</td>\n",
        "      <td>    USA</td>\n",
        "      <td>        NE</td>\n",
        "      <td>       Falls City</td>\n",
        "      <td> 1926</td>\n",
        "      <td>  4</td>\n",
        "      <td> 27</td>\n",
        "      <td>...</td>\n",
        "      <td>       Abbey</td>\n",
        "      <td>         Charles S.</td>\n",
        "      <td> 169.000000</td>\n",
        "      <td> 68</td>\n",
        "      <td>   L</td>\n",
        "      <td>   L</td>\n",
        "      <td> 1893-08-16</td>\n",
        "      <td> 1897-08-19</td>\n",
        "      <td> abbec101</td>\n",
        "      <td> abbeych01</td>\n",
        "    </tr>\n",
        "    <tr>\n",
        "      <th>10   </th>\n",
        "      <td> abbotda01</td>\n",
        "      <td> 1862</td>\n",
        "      <td>  3</td>\n",
        "      <td> 16</td>\n",
        "      <td>    USA</td>\n",
        "      <td>        OH</td>\n",
        "      <td>          Portage</td>\n",
        "      <td> 1930</td>\n",
        "      <td>  2</td>\n",
        "      <td> 13</td>\n",
        "      <td>...</td>\n",
        "      <td>      Abbott</td>\n",
        "      <td>   Leander Franklin</td>\n",
        "      <td> 190.000000</td>\n",
        "      <td> 71</td>\n",
        "      <td>   R</td>\n",
        "      <td>   R</td>\n",
        "      <td> 1890-04-19</td>\n",
        "      <td> 1890-05-23</td>\n",
        "      <td> abbod101</td>\n",
        "      <td> abbotda01</td>\n",
        "    </tr>\n",
        "    <tr>\n",
        "      <th>11   </th>\n",
        "      <td> abbotfr01</td>\n",
        "      <td> 1874</td>\n",
        "      <td> 10</td>\n",
        "      <td> 22</td>\n",
        "      <td>    USA</td>\n",
        "      <td>        OH</td>\n",
        "      <td>       Versailles</td>\n",
        "      <td> 1935</td>\n",
        "      <td>  6</td>\n",
        "      <td> 11</td>\n",
        "      <td>...</td>\n",
        "      <td>      Abbott</td>\n",
        "      <td>    Harry Frederick</td>\n",
        "      <td> 180.000000</td>\n",
        "      <td> 70</td>\n",
        "      <td>   R</td>\n",
        "      <td>   R</td>\n",
        "      <td> 1903-04-25</td>\n",
        "      <td> 1905-09-20</td>\n",
        "      <td> abbof101</td>\n",
        "      <td> abbotfr01</td>\n",
        "    </tr>\n",
        "    <tr>\n",
        "      <th>12   </th>\n",
        "      <td> abbotgl01</td>\n",
        "      <td> 1951</td>\n",
        "      <td>  2</td>\n",
        "      <td> 16</td>\n",
        "      <td>    USA</td>\n",
        "      <td>        AR</td>\n",
        "      <td>      Little Rock</td>\n",
        "      <td>  NaN</td>\n",
        "      <td>NaN</td>\n",
        "      <td>NaN</td>\n",
        "      <td>...</td>\n",
        "      <td>      Abbott</td>\n",
        "      <td>      William Glenn</td>\n",
        "      <td> 200.000000</td>\n",
        "      <td> 78</td>\n",
        "      <td>   R</td>\n",
        "      <td>   R</td>\n",
        "      <td> 1973-07-29</td>\n",
        "      <td> 1984-08-08</td>\n",
        "      <td> abbog001</td>\n",
        "      <td> abbotgl01</td>\n",
        "    </tr>\n",
        "    <tr>\n",
        "      <th>13   </th>\n",
        "      <td> abbotje01</td>\n",
        "      <td> 1972</td>\n",
        "      <td>  8</td>\n",
        "      <td> 17</td>\n",
        "      <td>    USA</td>\n",
        "      <td>        GA</td>\n",
        "      <td>          Atlanta</td>\n",
        "      <td>  NaN</td>\n",
        "      <td>NaN</td>\n",
        "      <td>NaN</td>\n",
        "      <td>...</td>\n",
        "      <td>      Abbott</td>\n",
        "      <td>    Jeffrey William</td>\n",
        "      <td> 190.000000</td>\n",
        "      <td> 74</td>\n",
        "      <td>   R</td>\n",
        "      <td>   L</td>\n",
        "      <td> 1997-06-10</td>\n",
        "      <td> 2001-09-29</td>\n",
        "      <td> abboj002</td>\n",
        "      <td> abbotje01</td>\n",
        "    </tr>\n",
        "    <tr>\n",
        "      <th>14   </th>\n",
        "      <td> abbotji01</td>\n",
        "      <td> 1967</td>\n",
        "      <td>  9</td>\n",
        "      <td> 19</td>\n",
        "      <td>    USA</td>\n",
        "      <td>        MI</td>\n",
        "      <td>            Flint</td>\n",
        "      <td>  NaN</td>\n",
        "      <td>NaN</td>\n",
        "      <td>NaN</td>\n",
        "      <td>...</td>\n",
        "      <td>      Abbott</td>\n",
        "      <td>      James Anthony</td>\n",
        "      <td> 200.000000</td>\n",
        "      <td> 75</td>\n",
        "      <td>   L</td>\n",
        "      <td>   L</td>\n",
        "      <td> 1989-04-08</td>\n",
        "      <td> 1999-07-21</td>\n",
        "      <td> abboj001</td>\n",
        "      <td> abbotji01</td>\n",
        "    </tr>\n",
        "    <tr>\n",
        "      <th>15   </th>\n",
        "      <td> abbotku01</td>\n",
        "      <td> 1969</td>\n",
        "      <td>  6</td>\n",
        "      <td>  2</td>\n",
        "      <td>    USA</td>\n",
        "      <td>        OH</td>\n",
        "      <td>       Zanesville</td>\n",
        "      <td>  NaN</td>\n",
        "      <td>NaN</td>\n",
        "      <td>NaN</td>\n",
        "      <td>...</td>\n",
        "      <td>      Abbott</td>\n",
        "      <td>        Kurt Thomas</td>\n",
        "      <td> 180.000000</td>\n",
        "      <td> 71</td>\n",
        "      <td>   R</td>\n",
        "      <td>   R</td>\n",
        "      <td> 1993-09-07</td>\n",
        "      <td> 2001-04-13</td>\n",
        "      <td> abbok002</td>\n",
        "      <td> abbotku01</td>\n",
        "    </tr>\n",
        "    <tr>\n",
        "      <th>16   </th>\n",
        "      <td> abbotky01</td>\n",
        "      <td> 1968</td>\n",
        "      <td>  2</td>\n",
        "      <td> 18</td>\n",
        "      <td>    USA</td>\n",
        "      <td>        MA</td>\n",
        "      <td>      Newburyport</td>\n",
        "      <td>  NaN</td>\n",
        "      <td>NaN</td>\n",
        "      <td>NaN</td>\n",
        "      <td>...</td>\n",
        "      <td>      Abbott</td>\n",
        "      <td>      Lawrence Kyle</td>\n",
        "      <td> 200.000000</td>\n",
        "      <td> 76</td>\n",
        "      <td>   L</td>\n",
        "      <td>   L</td>\n",
        "      <td> 1991-09-10</td>\n",
        "      <td> 1996-08-24</td>\n",
        "      <td> abbok001</td>\n",
        "      <td> abbotky01</td>\n",
        "    </tr>\n",
        "    <tr>\n",
        "      <th>17   </th>\n",
        "      <td> abbotod01</td>\n",
        "      <td> 1888</td>\n",
        "      <td>  9</td>\n",
        "      <td>  5</td>\n",
        "      <td>    USA</td>\n",
        "      <td>        PA</td>\n",
        "      <td>        New Eagle</td>\n",
        "      <td> 1933</td>\n",
        "      <td>  4</td>\n",
        "      <td> 13</td>\n",
        "      <td>...</td>\n",
        "      <td>      Abbott</td>\n",
        "      <td>          Ody Cleon</td>\n",
        "      <td> 180.000000</td>\n",
        "      <td> 74</td>\n",
        "      <td>   R</td>\n",
        "      <td>   R</td>\n",
        "      <td> 1910-09-10</td>\n",
        "      <td> 1910-10-15</td>\n",
        "      <td> abboo101</td>\n",
        "      <td> abbotod01</td>\n",
        "    </tr>\n",
        "    <tr>\n",
        "      <th>18   </th>\n",
        "      <td> abbotpa01</td>\n",
        "      <td> 1967</td>\n",
        "      <td>  9</td>\n",
        "      <td> 15</td>\n",
        "      <td>    USA</td>\n",
        "      <td>        CA</td>\n",
        "      <td>         Van Nuys</td>\n",
        "      <td>  NaN</td>\n",
        "      <td>NaN</td>\n",
        "      <td>NaN</td>\n",
        "      <td>...</td>\n",
        "      <td>      Abbott</td>\n",
        "      <td>         Paul David</td>\n",
        "      <td> 185.000000</td>\n",
        "      <td> 75</td>\n",
        "      <td>   R</td>\n",
        "      <td>   R</td>\n",
        "      <td> 1990-08-21</td>\n",
        "      <td> 2004-08-07</td>\n",
        "      <td> abbop001</td>\n",
        "      <td> abbotpa01</td>\n",
        "    </tr>\n",
        "    <tr>\n",
        "      <th>19   </th>\n",
        "      <td>  aberal01</td>\n",
        "      <td> 1927</td>\n",
        "      <td>  7</td>\n",
        "      <td> 31</td>\n",
        "      <td>    USA</td>\n",
        "      <td>        OH</td>\n",
        "      <td>        Cleveland</td>\n",
        "      <td> 1993</td>\n",
        "      <td>  5</td>\n",
        "      <td> 20</td>\n",
        "      <td>...</td>\n",
        "      <td>        Aber</td>\n",
        "      <td>      Albert Julius</td>\n",
        "      <td> 195.000000</td>\n",
        "      <td> 74</td>\n",
        "      <td>   L</td>\n",
        "      <td>   L</td>\n",
        "      <td> 1950-09-15</td>\n",
        "      <td> 1957-09-11</td>\n",
        "      <td> abera101</td>\n",
        "      <td>  aberal01</td>\n",
        "    </tr>\n",
        "    <tr>\n",
        "      <th>20   </th>\n",
        "      <td> abercda01</td>\n",
        "      <td> 1850</td>\n",
        "      <td>  1</td>\n",
        "      <td>  2</td>\n",
        "      <td>    USA</td>\n",
        "      <td>        OK</td>\n",
        "      <td>      Fort Towson</td>\n",
        "      <td> 1939</td>\n",
        "      <td> 11</td>\n",
        "      <td> 11</td>\n",
        "      <td>...</td>\n",
        "      <td> Abercrombie</td>\n",
        "      <td>  Francis Patterson</td>\n",
        "      <td> 185.232134</td>\n",
        "      <td>NaN</td>\n",
        "      <td> NaN</td>\n",
        "      <td> NaN</td>\n",
        "      <td> 1871-10-21</td>\n",
        "      <td> 1871-10-21</td>\n",
        "      <td> aberd101</td>\n",
        "      <td> abercda01</td>\n",
        "    </tr>\n",
        "    <tr>\n",
        "      <th>21   </th>\n",
        "      <td> abercre01</td>\n",
        "      <td> 1980</td>\n",
        "      <td>  7</td>\n",
        "      <td> 15</td>\n",
        "      <td>    USA</td>\n",
        "      <td>        GA</td>\n",
        "      <td>         Columbus</td>\n",
        "      <td>  NaN</td>\n",
        "      <td>NaN</td>\n",
        "      <td>NaN</td>\n",
        "      <td>...</td>\n",
        "      <td> Abercrombie</td>\n",
        "      <td>  Reginald Damascus</td>\n",
        "      <td> 215.000000</td>\n",
        "      <td> 75</td>\n",
        "      <td>   R</td>\n",
        "      <td>   R</td>\n",
        "      <td> 2006-04-04</td>\n",
        "      <td> 2008-09-28</td>\n",
        "      <td> aberr001</td>\n",
        "      <td> abercre01</td>\n",
        "    </tr>\n",
        "    <tr>\n",
        "      <th>22   </th>\n",
        "      <td> abernbi01</td>\n",
        "      <td> 1929</td>\n",
        "      <td>  1</td>\n",
        "      <td> 30</td>\n",
        "      <td>    USA</td>\n",
        "      <td>        CA</td>\n",
        "      <td>         Torrance</td>\n",
        "      <td> 2006</td>\n",
        "      <td>  2</td>\n",
        "      <td> 19</td>\n",
        "      <td>...</td>\n",
        "      <td>  Abernathie</td>\n",
        "      <td>     William Edward</td>\n",
        "      <td> 190.000000</td>\n",
        "      <td> 70</td>\n",
        "      <td>   R</td>\n",
        "      <td>   R</td>\n",
        "      <td> 1952-09-27</td>\n",
        "      <td> 1952-09-27</td>\n",
        "      <td> aberb101</td>\n",
        "      <td> abernbi01</td>\n",
        "    </tr>\n",
        "    <tr>\n",
        "      <th>23   </th>\n",
        "      <td> abernbr01</td>\n",
        "      <td> 1977</td>\n",
        "      <td>  9</td>\n",
        "      <td> 23</td>\n",
        "      <td>    USA</td>\n",
        "      <td>        GA</td>\n",
        "      <td>          Atlanta</td>\n",
        "      <td>  NaN</td>\n",
        "      <td>NaN</td>\n",
        "      <td>NaN</td>\n",
        "      <td>...</td>\n",
        "      <td>   Abernathy</td>\n",
        "      <td>      Michael Brent</td>\n",
        "      <td> 185.000000</td>\n",
        "      <td> 73</td>\n",
        "      <td>   R</td>\n",
        "      <td>   R</td>\n",
        "      <td> 2001-06-25</td>\n",
        "      <td> 2005-09-29</td>\n",
        "      <td> aberb001</td>\n",
        "      <td> abernbr01</td>\n",
        "    </tr>\n",
        "    <tr>\n",
        "      <th>24   </th>\n",
        "      <td> abernte01</td>\n",
        "      <td> 1921</td>\n",
        "      <td> 10</td>\n",
        "      <td> 30</td>\n",
        "      <td>    USA</td>\n",
        "      <td>        NC</td>\n",
        "      <td>            Bynum</td>\n",
        "      <td> 2001</td>\n",
        "      <td> 11</td>\n",
        "      <td> 16</td>\n",
        "      <td>...</td>\n",
        "      <td>   Abernathy</td>\n",
        "      <td> Talmadge Lafayette</td>\n",
        "      <td> 210.000000</td>\n",
        "      <td> 74</td>\n",
        "      <td>   R</td>\n",
        "      <td>   L</td>\n",
        "      <td> 1942-09-19</td>\n",
        "      <td> 1944-04-29</td>\n",
        "      <td> abert102</td>\n",
        "      <td> abernte01</td>\n",
        "    </tr>\n",
        "    <tr>\n",
        "      <th>25   </th>\n",
        "      <td> abernte02</td>\n",
        "      <td> 1933</td>\n",
        "      <td>  3</td>\n",
        "      <td>  6</td>\n",
        "      <td>    USA</td>\n",
        "      <td>        NC</td>\n",
        "      <td>          Stanley</td>\n",
        "      <td> 2004</td>\n",
        "      <td> 12</td>\n",
        "      <td> 16</td>\n",
        "      <td>...</td>\n",
        "      <td>   Abernathy</td>\n",
        "      <td>      Theodore Wade</td>\n",
        "      <td> 215.000000</td>\n",
        "      <td> 76</td>\n",
        "      <td>   R</td>\n",
        "      <td>   R</td>\n",
        "      <td> 1955-04-13</td>\n",
        "      <td> 1972-09-30</td>\n",
        "      <td> abert101</td>\n",
        "      <td> abernte02</td>\n",
        "    </tr>\n",
        "    <tr>\n",
        "      <th>26   </th>\n",
        "      <td> abernwo01</td>\n",
        "      <td> 1915</td>\n",
        "      <td>  2</td>\n",
        "      <td>  1</td>\n",
        "      <td>    USA</td>\n",
        "      <td>        NC</td>\n",
        "      <td>      Forest City</td>\n",
        "      <td> 1994</td>\n",
        "      <td> 12</td>\n",
        "      <td>  5</td>\n",
        "      <td>...</td>\n",
        "      <td>   Abernathy</td>\n",
        "      <td>     Virgil Woodrow</td>\n",
        "      <td> 170.000000</td>\n",
        "      <td> 72</td>\n",
        "      <td>   L</td>\n",
        "      <td>   L</td>\n",
        "      <td> 1946-07-28</td>\n",
        "      <td> 1947-04-17</td>\n",
        "      <td> aberw101</td>\n",
        "      <td> abernwo01</td>\n",
        "    </tr>\n",
        "    <tr>\n",
        "      <th>27   </th>\n",
        "      <td> aberscl01</td>\n",
        "      <td> 1921</td>\n",
        "      <td>  8</td>\n",
        "      <td> 28</td>\n",
        "      <td>    USA</td>\n",
        "      <td>        IL</td>\n",
        "      <td>          Chicago</td>\n",
        "      <td> 1973</td>\n",
        "      <td>  6</td>\n",
        "      <td> 23</td>\n",
        "      <td>...</td>\n",
        "      <td>     Aberson</td>\n",
        "      <td> Clifford Alexander</td>\n",
        "      <td> 200.000000</td>\n",
        "      <td> 72</td>\n",
        "      <td>   R</td>\n",
        "      <td>   R</td>\n",
        "      <td> 1947-07-18</td>\n",
        "      <td> 1949-05-09</td>\n",
        "      <td> aberc101</td>\n",
        "      <td> aberscl01</td>\n",
        "    </tr>\n",
        "    <tr>\n",
        "      <th>28   </th>\n",
        "      <td> ablesha01</td>\n",
        "      <td> 1883</td>\n",
        "      <td> 10</td>\n",
        "      <td>  4</td>\n",
        "      <td>    USA</td>\n",
        "      <td>        TX</td>\n",
        "      <td>          Terrell</td>\n",
        "      <td> 1951</td>\n",
        "      <td>  2</td>\n",
        "      <td>  8</td>\n",
        "      <td>...</td>\n",
        "      <td>       Ables</td>\n",
        "      <td>      Harry Terrell</td>\n",
        "      <td> 200.000000</td>\n",
        "      <td> 74</td>\n",
        "      <td>   R</td>\n",
        "      <td>   L</td>\n",
        "      <td> 1905-09-04</td>\n",
        "      <td> 1911-05-05</td>\n",
        "      <td> ableh101</td>\n",
        "      <td> ablesha01</td>\n",
        "    </tr>\n",
        "    <tr>\n",
        "      <th>29   </th>\n",
        "      <td> abnersh01</td>\n",
        "      <td> 1966</td>\n",
        "      <td>  6</td>\n",
        "      <td> 17</td>\n",
        "      <td>    USA</td>\n",
        "      <td>        OH</td>\n",
        "      <td>         Hamilton</td>\n",
        "      <td>  NaN</td>\n",
        "      <td>NaN</td>\n",
        "      <td>NaN</td>\n",
        "      <td>...</td>\n",
        "      <td>       Abner</td>\n",
        "      <td>       Shawn Wesley</td>\n",
        "      <td> 190.000000</td>\n",
        "      <td> 73</td>\n",
        "      <td>   R</td>\n",
        "      <td>   R</td>\n",
        "      <td> 1987-09-08</td>\n",
        "      <td> 1992-10-03</td>\n",
        "      <td> abnes001</td>\n",
        "      <td> abnersh01</td>\n",
        "    </tr>\n",
        "    <tr>\n",
        "      <th>...</th>\n",
        "      <td>...</td>\n",
        "      <td>...</td>\n",
        "      <td>...</td>\n",
        "      <td>...</td>\n",
        "      <td>...</td>\n",
        "      <td>...</td>\n",
        "      <td>...</td>\n",
        "      <td>...</td>\n",
        "      <td>...</td>\n",
        "      <td>...</td>\n",
        "      <td>...</td>\n",
        "      <td>...</td>\n",
        "      <td>...</td>\n",
        "      <td>...</td>\n",
        "      <td>...</td>\n",
        "      <td>...</td>\n",
        "      <td>...</td>\n",
        "      <td>...</td>\n",
        "      <td>...</td>\n",
        "      <td>...</td>\n",
        "      <td>...</td>\n",
        "    </tr>\n",
        "    <tr>\n",
        "      <th>18324</th>\n",
        "      <td> zimmejo01</td>\n",
        "      <td> 1975</td>\n",
        "      <td>  4</td>\n",
        "      <td> 28</td>\n",
        "      <td>    CAN</td>\n",
        "      <td>        BC</td>\n",
        "      <td>          Kelowna</td>\n",
        "      <td>  NaN</td>\n",
        "      <td>NaN</td>\n",
        "      <td>NaN</td>\n",
        "      <td>...</td>\n",
        "      <td>   Zimmerman</td>\n",
        "      <td>     Jordan William</td>\n",
        "      <td> 200.000000</td>\n",
        "      <td> 72</td>\n",
        "      <td>   R</td>\n",
        "      <td>   L</td>\n",
        "      <td> 1999-05-17</td>\n",
        "      <td> 1999-07-02</td>\n",
        "      <td> zimmj002</td>\n",
        "      <td> zimmejo01</td>\n",
        "    </tr>\n",
        "    <tr>\n",
        "      <th>18325</th>\n",
        "      <td> zimmejo02</td>\n",
        "      <td> 1986</td>\n",
        "      <td>  5</td>\n",
        "      <td> 23</td>\n",
        "      <td>    USA</td>\n",
        "      <td>        WI</td>\n",
        "      <td>       Auburndale</td>\n",
        "      <td>  NaN</td>\n",
        "      <td>NaN</td>\n",
        "      <td>NaN</td>\n",
        "      <td>...</td>\n",
        "      <td>  Zimmermann</td>\n",
        "      <td>          Jordan M.</td>\n",
        "      <td> 220.000000</td>\n",
        "      <td> 74</td>\n",
        "      <td>   R</td>\n",
        "      <td>   R</td>\n",
        "      <td> 2009-04-20</td>\n",
        "      <td> 2013-09-25</td>\n",
        "      <td> zimmj003</td>\n",
        "      <td> zimmejo02</td>\n",
        "    </tr>\n",
        "    <tr>\n",
        "      <th>18326</th>\n",
        "      <td> zimmero01</td>\n",
        "      <td> 1916</td>\n",
        "      <td>  9</td>\n",
        "      <td> 13</td>\n",
        "      <td>    USA</td>\n",
        "      <td>        PA</td>\n",
        "      <td>       Pine Grove</td>\n",
        "      <td> 1991</td>\n",
        "      <td> 11</td>\n",
        "      <td> 22</td>\n",
        "      <td>...</td>\n",
        "      <td>   Zimmerman</td>\n",
        "      <td>       Roy Franklin</td>\n",
        "      <td> 187.000000</td>\n",
        "      <td> 74</td>\n",
        "      <td>   L</td>\n",
        "      <td>   L</td>\n",
        "      <td> 1945-08-27</td>\n",
        "      <td> 1945-09-30</td>\n",
        "      <td> zimmr101</td>\n",
        "      <td> zimmero01</td>\n",
        "    </tr>\n",
        "    <tr>\n",
        "      <th>18327</th>\n",
        "      <td> zimmery01</td>\n",
        "      <td> 1984</td>\n",
        "      <td>  9</td>\n",
        "      <td> 28</td>\n",
        "      <td>    USA</td>\n",
        "      <td>        NC</td>\n",
        "      <td>       Washington</td>\n",
        "      <td>  NaN</td>\n",
        "      <td>NaN</td>\n",
        "      <td>NaN</td>\n",
        "      <td>...</td>\n",
        "      <td>   Zimmerman</td>\n",
        "      <td>       Ryan Wallace</td>\n",
        "      <td> 230.000000</td>\n",
        "      <td> 75</td>\n",
        "      <td>   R</td>\n",
        "      <td>   R</td>\n",
        "      <td> 2005-09-01</td>\n",
        "      <td> 2013-09-28</td>\n",
        "      <td> zimmr001</td>\n",
        "      <td> zimmery01</td>\n",
        "    </tr>\n",
        "    <tr>\n",
        "      <th>18328</th>\n",
        "      <td>  zinkch01</td>\n",
        "      <td> 1979</td>\n",
        "      <td>  8</td>\n",
        "      <td> 26</td>\n",
        "      <td>    USA</td>\n",
        "      <td>        CA</td>\n",
        "      <td>       Carmichael</td>\n",
        "      <td>  NaN</td>\n",
        "      <td>NaN</td>\n",
        "      <td>NaN</td>\n",
        "      <td>...</td>\n",
        "      <td>        Zink</td>\n",
        "      <td>      Charles Tadao</td>\n",
        "      <td> 190.000000</td>\n",
        "      <td> 73</td>\n",
        "      <td>   R</td>\n",
        "      <td>   R</td>\n",
        "      <td> 2008-08-12</td>\n",
        "      <td> 2008-08-12</td>\n",
        "      <td> zinkc001</td>\n",
        "      <td>  zinkch01</td>\n",
        "    </tr>\n",
        "    <tr>\n",
        "      <th>18329</th>\n",
        "      <td>  zinkwa01</td>\n",
        "      <td> 1898</td>\n",
        "      <td> 11</td>\n",
        "      <td> 21</td>\n",
        "      <td>    USA</td>\n",
        "      <td>        MA</td>\n",
        "      <td>       Pittsfield</td>\n",
        "      <td> 1964</td>\n",
        "      <td>  6</td>\n",
        "      <td> 12</td>\n",
        "      <td>...</td>\n",
        "      <td>        Zink</td>\n",
        "      <td>       Walter Noble</td>\n",
        "      <td> 165.000000</td>\n",
        "      <td> 72</td>\n",
        "      <td>   R</td>\n",
        "      <td>   R</td>\n",
        "      <td> 1921-07-06</td>\n",
        "      <td> 1921-07-19</td>\n",
        "      <td> zinkw101</td>\n",
        "      <td>  zinkwa01</td>\n",
        "    </tr>\n",
        "    <tr>\n",
        "      <th>18330</th>\n",
        "      <td>  zinnfr01</td>\n",
        "      <td> 1865</td>\n",
        "      <td> 12</td>\n",
        "      <td> 21</td>\n",
        "      <td>    USA</td>\n",
        "      <td>        PA</td>\n",
        "      <td>     Phoenixville</td>\n",
        "      <td> 1936</td>\n",
        "      <td>  5</td>\n",
        "      <td> 12</td>\n",
        "      <td>...</td>\n",
        "      <td>        Zinn</td>\n",
        "      <td>      Frank Patrick</td>\n",
        "      <td> 150.000000</td>\n",
        "      <td> 68</td>\n",
        "      <td> NaN</td>\n",
        "      <td> NaN</td>\n",
        "      <td> 1888-04-18</td>\n",
        "      <td> 1888-05-03</td>\n",
        "      <td> zinnf101</td>\n",
        "      <td>  zinnfr01</td>\n",
        "    </tr>\n",
        "    <tr>\n",
        "      <th>18331</th>\n",
        "      <td>  zinngu01</td>\n",
        "      <td> 1887</td>\n",
        "      <td>  2</td>\n",
        "      <td> 13</td>\n",
        "      <td>    USA</td>\n",
        "      <td>        WV</td>\n",
        "      <td>         Holbrook</td>\n",
        "      <td> 1949</td>\n",
        "      <td> 10</td>\n",
        "      <td>  6</td>\n",
        "      <td>...</td>\n",
        "      <td>        Zinn</td>\n",
        "      <td>                Guy</td>\n",
        "      <td> 170.000000</td>\n",
        "      <td> 70</td>\n",
        "      <td>   L</td>\n",
        "      <td>   R</td>\n",
        "      <td> 1911-09-11</td>\n",
        "      <td> 1915-09-16</td>\n",
        "      <td> zinng101</td>\n",
        "      <td>  zinngu01</td>\n",
        "    </tr>\n",
        "    <tr>\n",
        "      <th>18332</th>\n",
        "      <td>  zinnji01</td>\n",
        "      <td> 1895</td>\n",
        "      <td>  1</td>\n",
        "      <td> 21</td>\n",
        "      <td>    USA</td>\n",
        "      <td>        AR</td>\n",
        "      <td>           Benton</td>\n",
        "      <td> 1991</td>\n",
        "      <td>  2</td>\n",
        "      <td> 26</td>\n",
        "      <td>...</td>\n",
        "      <td>        Zinn</td>\n",
        "      <td>       James Edward</td>\n",
        "      <td> 195.000000</td>\n",
        "      <td> 72</td>\n",
        "      <td>   L</td>\n",
        "      <td>   R</td>\n",
        "      <td> 1919-09-04</td>\n",
        "      <td> 1929-08-25</td>\n",
        "      <td> zinnj101</td>\n",
        "      <td>  zinnji01</td>\n",
        "    </tr>\n",
        "    <tr>\n",
        "      <th>18333</th>\n",
        "      <td> zinsebi01</td>\n",
        "      <td> 1918</td>\n",
        "      <td>  1</td>\n",
        "      <td>  6</td>\n",
        "      <td>    USA</td>\n",
        "      <td>        NY</td>\n",
        "      <td>          Astoria</td>\n",
        "      <td> 1993</td>\n",
        "      <td>  2</td>\n",
        "      <td> 16</td>\n",
        "      <td>...</td>\n",
        "      <td>      Zinser</td>\n",
        "      <td>    William Francis</td>\n",
        "      <td> 185.000000</td>\n",
        "      <td> 73</td>\n",
        "      <td>   R</td>\n",
        "      <td>   R</td>\n",
        "      <td> 1944-08-19</td>\n",
        "      <td> 1944-08-26</td>\n",
        "      <td> zinsb101</td>\n",
        "      <td> zinsebi01</td>\n",
        "    </tr>\n",
        "    <tr>\n",
        "      <th>18334</th>\n",
        "      <td> zinteal01</td>\n",
        "      <td> 1968</td>\n",
        "      <td>  5</td>\n",
        "      <td> 19</td>\n",
        "      <td>    USA</td>\n",
        "      <td>        TX</td>\n",
        "      <td>          El Paso</td>\n",
        "      <td>  NaN</td>\n",
        "      <td>NaN</td>\n",
        "      <td>NaN</td>\n",
        "      <td>...</td>\n",
        "      <td>      Zinter</td>\n",
        "      <td>       Alan Michael</td>\n",
        "      <td> 200.000000</td>\n",
        "      <td> 74</td>\n",
        "      <td>   B</td>\n",
        "      <td>   R</td>\n",
        "      <td> 2002-06-18</td>\n",
        "      <td> 2004-10-03</td>\n",
        "      <td> zinta001</td>\n",
        "      <td> zinteal01</td>\n",
        "    </tr>\n",
        "    <tr>\n",
        "      <th>18335</th>\n",
        "      <td> zipfebu01</td>\n",
        "      <td> 1938</td>\n",
        "      <td> 11</td>\n",
        "      <td> 18</td>\n",
        "      <td>    USA</td>\n",
        "      <td>        IL</td>\n",
        "      <td>       Belleville</td>\n",
        "      <td>  NaN</td>\n",
        "      <td>NaN</td>\n",
        "      <td>NaN</td>\n",
        "      <td>...</td>\n",
        "      <td>      Zipfel</td>\n",
        "      <td>   Marion Sylvester</td>\n",
        "      <td> 200.000000</td>\n",
        "      <td> 75</td>\n",
        "      <td>   L</td>\n",
        "      <td>   R</td>\n",
        "      <td> 1961-07-26</td>\n",
        "      <td> 1962-09-30</td>\n",
        "      <td> zipfb101</td>\n",
        "      <td> zipfebu01</td>\n",
        "    </tr>\n",
        "    <tr>\n",
        "      <th>18336</th>\n",
        "      <td>  ziskri01</td>\n",
        "      <td> 1949</td>\n",
        "      <td>  2</td>\n",
        "      <td>  6</td>\n",
        "      <td>    USA</td>\n",
        "      <td>        NY</td>\n",
        "      <td>         Brooklyn</td>\n",
        "      <td>  NaN</td>\n",
        "      <td>NaN</td>\n",
        "      <td>NaN</td>\n",
        "      <td>...</td>\n",
        "      <td>        Zisk</td>\n",
        "      <td>     Richard Walter</td>\n",
        "      <td> 200.000000</td>\n",
        "      <td> 73</td>\n",
        "      <td>   R</td>\n",
        "      <td>   R</td>\n",
        "      <td> 1971-09-08</td>\n",
        "      <td> 1983-09-21</td>\n",
        "      <td> ziskr101</td>\n",
        "      <td>  ziskri01</td>\n",
        "    </tr>\n",
        "    <tr>\n",
        "      <th>18337</th>\n",
        "      <td>  zitoba01</td>\n",
        "      <td> 1978</td>\n",
        "      <td>  5</td>\n",
        "      <td> 13</td>\n",
        "      <td>    USA</td>\n",
        "      <td>        NV</td>\n",
        "      <td>        Las Vegas</td>\n",
        "      <td>  NaN</td>\n",
        "      <td>NaN</td>\n",
        "      <td>NaN</td>\n",
        "      <td>...</td>\n",
        "      <td>        Zito</td>\n",
        "      <td>      Barry William</td>\n",
        "      <td> 205.000000</td>\n",
        "      <td> 74</td>\n",
        "      <td>   L</td>\n",
        "      <td>   L</td>\n",
        "      <td> 2000-07-22</td>\n",
        "      <td> 2013-09-29</td>\n",
        "      <td> zitob001</td>\n",
        "      <td>  zitoba01</td>\n",
        "    </tr>\n",
        "    <tr>\n",
        "      <th>18338</th>\n",
        "      <td> zitzmbi01</td>\n",
        "      <td> 1895</td>\n",
        "      <td> 11</td>\n",
        "      <td> 19</td>\n",
        "      <td>    USA</td>\n",
        "      <td>        NY</td>\n",
        "      <td> Long Island City</td>\n",
        "      <td> 1985</td>\n",
        "      <td>  5</td>\n",
        "      <td> 29</td>\n",
        "      <td>...</td>\n",
        "      <td>    Zitzmann</td>\n",
        "      <td>     William Arthur</td>\n",
        "      <td> 175.000000</td>\n",
        "      <td> 70</td>\n",
        "      <td>   R</td>\n",
        "      <td>   R</td>\n",
        "      <td> 1919-04-27</td>\n",
        "      <td> 1929-09-25</td>\n",
        "      <td> zitzb101</td>\n",
        "      <td> zitzmbi01</td>\n",
        "    </tr>\n",
        "    <tr>\n",
        "      <th>18339</th>\n",
        "      <td> zmiched01</td>\n",
        "      <td> 1884</td>\n",
        "      <td> 10</td>\n",
        "      <td>  1</td>\n",
        "      <td>    USA</td>\n",
        "      <td>        OH</td>\n",
        "      <td>        Cleveland</td>\n",
        "      <td> 1950</td>\n",
        "      <td>  8</td>\n",
        "      <td> 20</td>\n",
        "      <td>...</td>\n",
        "      <td>       Zmich</td>\n",
        "      <td>      Edward Albert</td>\n",
        "      <td> 180.000000</td>\n",
        "      <td> 72</td>\n",
        "      <td>   L</td>\n",
        "      <td>   L</td>\n",
        "      <td> 1910-07-23</td>\n",
        "      <td> 1911-06-01</td>\n",
        "      <td> zmice101</td>\n",
        "      <td> zmiched01</td>\n",
        "    </tr>\n",
        "    <tr>\n",
        "      <th>18340</th>\n",
        "      <td> zobribe01</td>\n",
        "      <td> 1981</td>\n",
        "      <td>  5</td>\n",
        "      <td> 26</td>\n",
        "      <td>    USA</td>\n",
        "      <td>        IL</td>\n",
        "      <td>           Eureka</td>\n",
        "      <td>  NaN</td>\n",
        "      <td>NaN</td>\n",
        "      <td>NaN</td>\n",
        "      <td>...</td>\n",
        "      <td>     Zobrist</td>\n",
        "      <td>    Benjamin Thomas</td>\n",
        "      <td> 210.000000</td>\n",
        "      <td> 75</td>\n",
        "      <td>   B</td>\n",
        "      <td>   R</td>\n",
        "      <td> 2006-08-01</td>\n",
        "      <td> 2013-09-30</td>\n",
        "      <td> zobrb001</td>\n",
        "      <td> zobribe01</td>\n",
        "    </tr>\n",
        "    <tr>\n",
        "      <th>18341</th>\n",
        "      <td> zoccope01</td>\n",
        "      <td> 1977</td>\n",
        "      <td>  2</td>\n",
        "      <td>  6</td>\n",
        "      <td>    USA</td>\n",
        "      <td>        NY</td>\n",
        "      <td>            Bronx</td>\n",
        "      <td>  NaN</td>\n",
        "      <td>NaN</td>\n",
        "      <td>NaN</td>\n",
        "      <td>...</td>\n",
        "      <td>  Zoccolillo</td>\n",
        "      <td>         Peter Jude</td>\n",
        "      <td> 200.000000</td>\n",
        "      <td> 74</td>\n",
        "      <td>   L</td>\n",
        "      <td>   R</td>\n",
        "      <td> 2003-09-05</td>\n",
        "      <td> 2003-09-28</td>\n",
        "      <td> zoccp001</td>\n",
        "      <td> zoccope01</td>\n",
        "    </tr>\n",
        "    <tr>\n",
        "      <th>18342</th>\n",
        "      <td> zoldasa01</td>\n",
        "      <td> 1918</td>\n",
        "      <td> 12</td>\n",
        "      <td>  8</td>\n",
        "      <td>    USA</td>\n",
        "      <td>        NY</td>\n",
        "      <td>         Brooklyn</td>\n",
        "      <td> 1966</td>\n",
        "      <td>  8</td>\n",
        "      <td> 25</td>\n",
        "      <td>...</td>\n",
        "      <td>      Zoldak</td>\n",
        "      <td>      Samuel Walter</td>\n",
        "      <td> 185.000000</td>\n",
        "      <td> 71</td>\n",
        "      <td>   L</td>\n",
        "      <td>   L</td>\n",
        "      <td> 1944-05-13</td>\n",
        "      <td> 1952-08-26</td>\n",
        "      <td> zolds101</td>\n",
        "      <td> zoldasa01</td>\n",
        "    </tr>\n",
        "    <tr>\n",
        "      <th>18343</th>\n",
        "      <td> zoskyed01</td>\n",
        "      <td> 1968</td>\n",
        "      <td>  2</td>\n",
        "      <td> 10</td>\n",
        "      <td>    USA</td>\n",
        "      <td>        CA</td>\n",
        "      <td>         Whittier</td>\n",
        "      <td>  NaN</td>\n",
        "      <td>NaN</td>\n",
        "      <td>NaN</td>\n",
        "      <td>...</td>\n",
        "      <td>       Zosky</td>\n",
        "      <td>       Edward James</td>\n",
        "      <td> 175.000000</td>\n",
        "      <td> 72</td>\n",
        "      <td>   R</td>\n",
        "      <td>   R</td>\n",
        "      <td> 1991-09-02</td>\n",
        "      <td> 2000-10-01</td>\n",
        "      <td> zoske001</td>\n",
        "      <td> zoskyed01</td>\n",
        "    </tr>\n",
        "    <tr>\n",
        "      <th>18344</th>\n",
        "      <td> zuberbi01</td>\n",
        "      <td> 1913</td>\n",
        "      <td>  3</td>\n",
        "      <td> 26</td>\n",
        "      <td>    USA</td>\n",
        "      <td>        IA</td>\n",
        "      <td>     Middle Amana</td>\n",
        "      <td> 1982</td>\n",
        "      <td> 11</td>\n",
        "      <td>  2</td>\n",
        "      <td>...</td>\n",
        "      <td>       Zuber</td>\n",
        "      <td>      William Henry</td>\n",
        "      <td> 195.000000</td>\n",
        "      <td> 74</td>\n",
        "      <td>   R</td>\n",
        "      <td>   R</td>\n",
        "      <td> 1936-09-16</td>\n",
        "      <td> 1947-09-23</td>\n",
        "      <td> zubeb101</td>\n",
        "      <td> zuberbi01</td>\n",
        "    </tr>\n",
        "    <tr>\n",
        "      <th>18345</th>\n",
        "      <td> zuberjo01</td>\n",
        "      <td> 1969</td>\n",
        "      <td> 12</td>\n",
        "      <td> 10</td>\n",
        "      <td>    USA</td>\n",
        "      <td>        CA</td>\n",
        "      <td>           Encino</td>\n",
        "      <td>  NaN</td>\n",
        "      <td>NaN</td>\n",
        "      <td>NaN</td>\n",
        "      <td>...</td>\n",
        "      <td>       Zuber</td>\n",
        "      <td>         Jon Edward</td>\n",
        "      <td> 190.000000</td>\n",
        "      <td> 73</td>\n",
        "      <td>   L</td>\n",
        "      <td>   L</td>\n",
        "      <td> 1996-04-19</td>\n",
        "      <td> 1998-09-27</td>\n",
        "      <td> zubej001</td>\n",
        "      <td> zuberjo01</td>\n",
        "    </tr>\n",
        "    <tr>\n",
        "      <th>18346</th>\n",
        "      <td> zuletju01</td>\n",
        "      <td> 1975</td>\n",
        "      <td>  3</td>\n",
        "      <td> 28</td>\n",
        "      <td> Panama</td>\n",
        "      <td>    Panama</td>\n",
        "      <td>           Panama</td>\n",
        "      <td>  NaN</td>\n",
        "      <td>NaN</td>\n",
        "      <td>NaN</td>\n",
        "      <td>...</td>\n",
        "      <td>      Zuleta</td>\n",
        "      <td>      Julio Ernesto</td>\n",
        "      <td> 230.000000</td>\n",
        "      <td> 78</td>\n",
        "      <td>   R</td>\n",
        "      <td>   R</td>\n",
        "      <td> 2000-04-06</td>\n",
        "      <td> 2001-06-25</td>\n",
        "      <td> zulej001</td>\n",
        "      <td> zuletju01</td>\n",
        "    </tr>\n",
        "    <tr>\n",
        "      <th>18347</th>\n",
        "      <td> zumayjo01</td>\n",
        "      <td> 1984</td>\n",
        "      <td> 11</td>\n",
        "      <td>  9</td>\n",
        "      <td>    USA</td>\n",
        "      <td>        CA</td>\n",
        "      <td>      Chula Vista</td>\n",
        "      <td>  NaN</td>\n",
        "      <td>NaN</td>\n",
        "      <td>NaN</td>\n",
        "      <td>...</td>\n",
        "      <td>      Zumaya</td>\n",
        "      <td>        Joel Martin</td>\n",
        "      <td> 215.000000</td>\n",
        "      <td> 75</td>\n",
        "      <td>   R</td>\n",
        "      <td>   R</td>\n",
        "      <td> 2006-04-03</td>\n",
        "      <td> 2010-06-28</td>\n",
        "      <td> zumaj001</td>\n",
        "      <td> zumayjo01</td>\n",
        "    </tr>\n",
        "    <tr>\n",
        "      <th>18348</th>\n",
        "      <td> zuninmi01</td>\n",
        "      <td> 1991</td>\n",
        "      <td>  3</td>\n",
        "      <td> 25</td>\n",
        "      <td>    USA</td>\n",
        "      <td>        FL</td>\n",
        "      <td>       Cape Coral</td>\n",
        "      <td>  NaN</td>\n",
        "      <td>NaN</td>\n",
        "      <td>NaN</td>\n",
        "      <td>...</td>\n",
        "      <td>      Zunino</td>\n",
        "      <td>    Michael Accorsi</td>\n",
        "      <td> 220.000000</td>\n",
        "      <td> 74</td>\n",
        "      <td>   R</td>\n",
        "      <td>   R</td>\n",
        "      <td> 2013-06-12</td>\n",
        "      <td> 2013-09-29</td>\n",
        "      <td> zunim001</td>\n",
        "      <td> zuninmi01</td>\n",
        "    </tr>\n",
        "    <tr>\n",
        "      <th>18349</th>\n",
        "      <td> zupcibo01</td>\n",
        "      <td> 1966</td>\n",
        "      <td>  8</td>\n",
        "      <td> 18</td>\n",
        "      <td>    USA</td>\n",
        "      <td>        PA</td>\n",
        "      <td>       Pittsburgh</td>\n",
        "      <td>  NaN</td>\n",
        "      <td>NaN</td>\n",
        "      <td>NaN</td>\n",
        "      <td>...</td>\n",
        "      <td>      Zupcic</td>\n",
        "      <td>             Robert</td>\n",
        "      <td> 220.000000</td>\n",
        "      <td> 76</td>\n",
        "      <td>   R</td>\n",
        "      <td>   R</td>\n",
        "      <td> 1991-09-07</td>\n",
        "      <td> 1994-08-04</td>\n",
        "      <td> zupcb001</td>\n",
        "      <td> zupcibo01</td>\n",
        "    </tr>\n",
        "    <tr>\n",
        "      <th>18350</th>\n",
        "      <td>  zupofr01</td>\n",
        "      <td> 1939</td>\n",
        "      <td>  8</td>\n",
        "      <td> 29</td>\n",
        "      <td>    USA</td>\n",
        "      <td>        CA</td>\n",
        "      <td>    San Francisco</td>\n",
        "      <td> 2005</td>\n",
        "      <td>  3</td>\n",
        "      <td> 25</td>\n",
        "      <td>...</td>\n",
        "      <td>        Zupo</td>\n",
        "      <td>       Frank Joseph</td>\n",
        "      <td> 182.000000</td>\n",
        "      <td> 71</td>\n",
        "      <td>   L</td>\n",
        "      <td>   R</td>\n",
        "      <td> 1957-07-01</td>\n",
        "      <td> 1961-05-09</td>\n",
        "      <td> zupof101</td>\n",
        "      <td>  zupofr01</td>\n",
        "    </tr>\n",
        "    <tr>\n",
        "      <th>18351</th>\n",
        "      <td> zuvelpa01</td>\n",
        "      <td> 1958</td>\n",
        "      <td> 10</td>\n",
        "      <td> 31</td>\n",
        "      <td>    USA</td>\n",
        "      <td>        CA</td>\n",
        "      <td>        San Mateo</td>\n",
        "      <td>  NaN</td>\n",
        "      <td>NaN</td>\n",
        "      <td>NaN</td>\n",
        "      <td>...</td>\n",
        "      <td>     Zuvella</td>\n",
        "      <td>               Paul</td>\n",
        "      <td> 173.000000</td>\n",
        "      <td> 72</td>\n",
        "      <td>   R</td>\n",
        "      <td>   R</td>\n",
        "      <td> 1982-09-04</td>\n",
        "      <td> 1991-05-02</td>\n",
        "      <td> zuvep001</td>\n",
        "      <td> zuvelpa01</td>\n",
        "    </tr>\n",
        "    <tr>\n",
        "      <th>18352</th>\n",
        "      <td> zuverge01</td>\n",
        "      <td> 1924</td>\n",
        "      <td>  8</td>\n",
        "      <td> 20</td>\n",
        "      <td>    USA</td>\n",
        "      <td>        MI</td>\n",
        "      <td>          Holland</td>\n",
        "      <td>  NaN</td>\n",
        "      <td>NaN</td>\n",
        "      <td>NaN</td>\n",
        "      <td>...</td>\n",
        "      <td>    Zuverink</td>\n",
        "      <td>             George</td>\n",
        "      <td> 195.000000</td>\n",
        "      <td> 76</td>\n",
        "      <td>   R</td>\n",
        "      <td>   R</td>\n",
        "      <td> 1951-04-21</td>\n",
        "      <td> 1959-06-15</td>\n",
        "      <td> zuveg101</td>\n",
        "      <td> zuverge01</td>\n",
        "    </tr>\n",
        "    <tr>\n",
        "      <th>18353</th>\n",
        "      <td> zwilldu01</td>\n",
        "      <td> 1888</td>\n",
        "      <td> 11</td>\n",
        "      <td>  2</td>\n",
        "      <td>    USA</td>\n",
        "      <td>        MO</td>\n",
        "      <td>        St. Louis</td>\n",
        "      <td> 1978</td>\n",
        "      <td>  3</td>\n",
        "      <td> 27</td>\n",
        "      <td>...</td>\n",
        "      <td>    Zwilling</td>\n",
        "      <td>    Edward Harrison</td>\n",
        "      <td> 160.000000</td>\n",
        "      <td> 66</td>\n",
        "      <td>   L</td>\n",
        "      <td>   L</td>\n",
        "      <td> 1910-08-14</td>\n",
        "      <td> 1916-07-12</td>\n",
        "      <td> zwild101</td>\n",
        "      <td> zwilldu01</td>\n",
        "    </tr>\n",
        "  </tbody>\n",
        "</table>\n",
        "<p>18354 rows \u00d7 24 columns</p>\n",
        "</div>"
       ],
       "metadata": {},
       "output_type": "pyout",
       "prompt_number": 5,
       "text": [
        "        playerID  birthYear  birthMonth  birthDay birthCountry birthState  \\\n",
        "0      aardsda01       1981          12        27          USA         CO   \n",
        "1      aaronha01       1934           2         5          USA         AL   \n",
        "2      aaronto01       1939           8         5          USA         AL   \n",
        "3       aasedo01       1954           9         8          USA         CA   \n",
        "4       abadan01       1972           8        25          USA         FL   \n",
        "5       abadfe01       1985          12        17         D.R.  La Romana   \n",
        "6      abadijo01       1854          11         4          USA         PA   \n",
        "7      abbated01       1877           4        15          USA         PA   \n",
        "8      abbeybe01       1869          11        11          USA         VT   \n",
        "9      abbeych01       1866          10        14          USA         NE   \n",
        "10     abbotda01       1862           3        16          USA         OH   \n",
        "11     abbotfr01       1874          10        22          USA         OH   \n",
        "12     abbotgl01       1951           2        16          USA         AR   \n",
        "13     abbotje01       1972           8        17          USA         GA   \n",
        "14     abbotji01       1967           9        19          USA         MI   \n",
        "15     abbotku01       1969           6         2          USA         OH   \n",
        "16     abbotky01       1968           2        18          USA         MA   \n",
        "17     abbotod01       1888           9         5          USA         PA   \n",
        "18     abbotpa01       1967           9        15          USA         CA   \n",
        "19      aberal01       1927           7        31          USA         OH   \n",
        "20     abercda01       1850           1         2          USA         OK   \n",
        "21     abercre01       1980           7        15          USA         GA   \n",
        "22     abernbi01       1929           1        30          USA         CA   \n",
        "23     abernbr01       1977           9        23          USA         GA   \n",
        "24     abernte01       1921          10        30          USA         NC   \n",
        "25     abernte02       1933           3         6          USA         NC   \n",
        "26     abernwo01       1915           2         1          USA         NC   \n",
        "27     aberscl01       1921           8        28          USA         IL   \n",
        "28     ablesha01       1883          10         4          USA         TX   \n",
        "29     abnersh01       1966           6        17          USA         OH   \n",
        "...          ...        ...         ...       ...          ...        ...   \n",
        "18324  zimmejo01       1975           4        28          CAN         BC   \n",
        "18325  zimmejo02       1986           5        23          USA         WI   \n",
        "18326  zimmero01       1916           9        13          USA         PA   \n",
        "18327  zimmery01       1984           9        28          USA         NC   \n",
        "18328   zinkch01       1979           8        26          USA         CA   \n",
        "18329   zinkwa01       1898          11        21          USA         MA   \n",
        "18330   zinnfr01       1865          12        21          USA         PA   \n",
        "18331   zinngu01       1887           2        13          USA         WV   \n",
        "18332   zinnji01       1895           1        21          USA         AR   \n",
        "18333  zinsebi01       1918           1         6          USA         NY   \n",
        "18334  zinteal01       1968           5        19          USA         TX   \n",
        "18335  zipfebu01       1938          11        18          USA         IL   \n",
        "18336   ziskri01       1949           2         6          USA         NY   \n",
        "18337   zitoba01       1978           5        13          USA         NV   \n",
        "18338  zitzmbi01       1895          11        19          USA         NY   \n",
        "18339  zmiched01       1884          10         1          USA         OH   \n",
        "18340  zobribe01       1981           5        26          USA         IL   \n",
        "18341  zoccope01       1977           2         6          USA         NY   \n",
        "18342  zoldasa01       1918          12         8          USA         NY   \n",
        "18343  zoskyed01       1968           2        10          USA         CA   \n",
        "18344  zuberbi01       1913           3        26          USA         IA   \n",
        "18345  zuberjo01       1969          12        10          USA         CA   \n",
        "18346  zuletju01       1975           3        28       Panama     Panama   \n",
        "18347  zumayjo01       1984          11         9          USA         CA   \n",
        "18348  zuninmi01       1991           3        25          USA         FL   \n",
        "18349  zupcibo01       1966           8        18          USA         PA   \n",
        "18350   zupofr01       1939           8        29          USA         CA   \n",
        "18351  zuvelpa01       1958          10        31          USA         CA   \n",
        "18352  zuverge01       1924           8        20          USA         MI   \n",
        "18353  zwilldu01       1888          11         2          USA         MO   \n",
        "\n",
        "              birthCity  deathYear  deathMonth  deathDay    ...     \\\n",
        "0                Denver        NaN         NaN       NaN    ...      \n",
        "1                Mobile        NaN         NaN       NaN    ...      \n",
        "2                Mobile       1984           8        16    ...      \n",
        "3                Orange        NaN         NaN       NaN    ...      \n",
        "4            Palm Beach        NaN         NaN       NaN    ...      \n",
        "5             La Romana        NaN         NaN       NaN    ...      \n",
        "6          Philadelphia       1905           5        17    ...      \n",
        "7               Latrobe       1957           1         6    ...      \n",
        "8                 Essex       1962           6        11    ...      \n",
        "9            Falls City       1926           4        27    ...      \n",
        "10              Portage       1930           2        13    ...      \n",
        "11           Versailles       1935           6        11    ...      \n",
        "12          Little Rock        NaN         NaN       NaN    ...      \n",
        "13              Atlanta        NaN         NaN       NaN    ...      \n",
        "14                Flint        NaN         NaN       NaN    ...      \n",
        "15           Zanesville        NaN         NaN       NaN    ...      \n",
        "16          Newburyport        NaN         NaN       NaN    ...      \n",
        "17            New Eagle       1933           4        13    ...      \n",
        "18             Van Nuys        NaN         NaN       NaN    ...      \n",
        "19            Cleveland       1993           5        20    ...      \n",
        "20          Fort Towson       1939          11        11    ...      \n",
        "21             Columbus        NaN         NaN       NaN    ...      \n",
        "22             Torrance       2006           2        19    ...      \n",
        "23              Atlanta        NaN         NaN       NaN    ...      \n",
        "24                Bynum       2001          11        16    ...      \n",
        "25              Stanley       2004          12        16    ...      \n",
        "26          Forest City       1994          12         5    ...      \n",
        "27              Chicago       1973           6        23    ...      \n",
        "28              Terrell       1951           2         8    ...      \n",
        "29             Hamilton        NaN         NaN       NaN    ...      \n",
        "...                 ...        ...         ...       ...    ...      \n",
        "18324           Kelowna        NaN         NaN       NaN    ...      \n",
        "18325        Auburndale        NaN         NaN       NaN    ...      \n",
        "18326        Pine Grove       1991          11        22    ...      \n",
        "18327        Washington        NaN         NaN       NaN    ...      \n",
        "18328        Carmichael        NaN         NaN       NaN    ...      \n",
        "18329        Pittsfield       1964           6        12    ...      \n",
        "18330      Phoenixville       1936           5        12    ...      \n",
        "18331          Holbrook       1949          10         6    ...      \n",
        "18332            Benton       1991           2        26    ...      \n",
        "18333           Astoria       1993           2        16    ...      \n",
        "18334           El Paso        NaN         NaN       NaN    ...      \n",
        "18335        Belleville        NaN         NaN       NaN    ...      \n",
        "18336          Brooklyn        NaN         NaN       NaN    ...      \n",
        "18337         Las Vegas        NaN         NaN       NaN    ...      \n",
        "18338  Long Island City       1985           5        29    ...      \n",
        "18339         Cleveland       1950           8        20    ...      \n",
        "18340            Eureka        NaN         NaN       NaN    ...      \n",
        "18341             Bronx        NaN         NaN       NaN    ...      \n",
        "18342          Brooklyn       1966           8        25    ...      \n",
        "18343          Whittier        NaN         NaN       NaN    ...      \n",
        "18344      Middle Amana       1982          11         2    ...      \n",
        "18345            Encino        NaN         NaN       NaN    ...      \n",
        "18346            Panama        NaN         NaN       NaN    ...      \n",
        "18347       Chula Vista        NaN         NaN       NaN    ...      \n",
        "18348        Cape Coral        NaN         NaN       NaN    ...      \n",
        "18349        Pittsburgh        NaN         NaN       NaN    ...      \n",
        "18350     San Francisco       2005           3        25    ...      \n",
        "18351         San Mateo        NaN         NaN       NaN    ...      \n",
        "18352           Holland        NaN         NaN       NaN    ...      \n",
        "18353         St. Louis       1978           3        27    ...      \n",
        "\n",
        "          nameLast           nameGiven      weight height bats throws  \\\n",
        "0          Aardsma         David Allan  205.000000     75    R      R   \n",
        "1            Aaron         Henry Louis  180.000000     72    R      R   \n",
        "2            Aaron          Tommie Lee  190.000000     75    R      R   \n",
        "3             Aase      Donald William  190.000000     75    R      R   \n",
        "4             Abad       Fausto Andres  184.000000     73    L      L   \n",
        "5             Abad    Fernando Antonio  220.000000     73    L      L   \n",
        "6           Abadie             John W.  192.000000     72    R      R   \n",
        "7      Abbaticchio        Edward James  170.000000     71    R      R   \n",
        "8            Abbey           Bert Wood  175.000000     71    R      R   \n",
        "9            Abbey          Charles S.  169.000000     68    L      L   \n",
        "10          Abbott    Leander Franklin  190.000000     71    R      R   \n",
        "11          Abbott     Harry Frederick  180.000000     70    R      R   \n",
        "12          Abbott       William Glenn  200.000000     78    R      R   \n",
        "13          Abbott     Jeffrey William  190.000000     74    R      L   \n",
        "14          Abbott       James Anthony  200.000000     75    L      L   \n",
        "15          Abbott         Kurt Thomas  180.000000     71    R      R   \n",
        "16          Abbott       Lawrence Kyle  200.000000     76    L      L   \n",
        "17          Abbott           Ody Cleon  180.000000     74    R      R   \n",
        "18          Abbott          Paul David  185.000000     75    R      R   \n",
        "19            Aber       Albert Julius  195.000000     74    L      L   \n",
        "20     Abercrombie   Francis Patterson  185.232134    NaN  NaN    NaN   \n",
        "21     Abercrombie   Reginald Damascus  215.000000     75    R      R   \n",
        "22      Abernathie      William Edward  190.000000     70    R      R   \n",
        "23       Abernathy       Michael Brent  185.000000     73    R      R   \n",
        "24       Abernathy  Talmadge Lafayette  210.000000     74    R      L   \n",
        "25       Abernathy       Theodore Wade  215.000000     76    R      R   \n",
        "26       Abernathy      Virgil Woodrow  170.000000     72    L      L   \n",
        "27         Aberson  Clifford Alexander  200.000000     72    R      R   \n",
        "28           Ables       Harry Terrell  200.000000     74    R      L   \n",
        "29           Abner        Shawn Wesley  190.000000     73    R      R   \n",
        "...            ...                 ...         ...    ...  ...    ...   \n",
        "18324    Zimmerman      Jordan William  200.000000     72    R      L   \n",
        "18325   Zimmermann           Jordan M.  220.000000     74    R      R   \n",
        "18326    Zimmerman        Roy Franklin  187.000000     74    L      L   \n",
        "18327    Zimmerman        Ryan Wallace  230.000000     75    R      R   \n",
        "18328         Zink       Charles Tadao  190.000000     73    R      R   \n",
        "18329         Zink        Walter Noble  165.000000     72    R      R   \n",
        "18330         Zinn       Frank Patrick  150.000000     68  NaN    NaN   \n",
        "18331         Zinn                 Guy  170.000000     70    L      R   \n",
        "18332         Zinn        James Edward  195.000000     72    L      R   \n",
        "18333       Zinser     William Francis  185.000000     73    R      R   \n",
        "18334       Zinter        Alan Michael  200.000000     74    B      R   \n",
        "18335       Zipfel    Marion Sylvester  200.000000     75    L      R   \n",
        "18336         Zisk      Richard Walter  200.000000     73    R      R   \n",
        "18337         Zito       Barry William  205.000000     74    L      L   \n",
        "18338     Zitzmann      William Arthur  175.000000     70    R      R   \n",
        "18339        Zmich       Edward Albert  180.000000     72    L      L   \n",
        "18340      Zobrist     Benjamin Thomas  210.000000     75    B      R   \n",
        "18341   Zoccolillo          Peter Jude  200.000000     74    L      R   \n",
        "18342       Zoldak       Samuel Walter  185.000000     71    L      L   \n",
        "18343        Zosky        Edward James  175.000000     72    R      R   \n",
        "18344        Zuber       William Henry  195.000000     74    R      R   \n",
        "18345        Zuber          Jon Edward  190.000000     73    L      L   \n",
        "18346       Zuleta       Julio Ernesto  230.000000     78    R      R   \n",
        "18347       Zumaya         Joel Martin  215.000000     75    R      R   \n",
        "18348       Zunino     Michael Accorsi  220.000000     74    R      R   \n",
        "18349       Zupcic              Robert  220.000000     76    R      R   \n",
        "18350         Zupo        Frank Joseph  182.000000     71    L      R   \n",
        "18351      Zuvella                Paul  173.000000     72    R      R   \n",
        "18352     Zuverink              George  195.000000     76    R      R   \n",
        "18353     Zwilling     Edward Harrison  160.000000     66    L      L   \n",
        "\n",
        "            debut   finalGame   retroID    bbrefID  \n",
        "0      2004-04-06  2013-09-28  aardd001  aardsda01  \n",
        "1      1954-04-13  1976-10-03  aaroh101  aaronha01  \n",
        "2      1962-04-10  1971-09-26  aarot101  aaronto01  \n",
        "3      1977-07-26  1990-10-03  aased001   aasedo01  \n",
        "4      2001-09-10  2006-04-13  abada001   abadan01  \n",
        "5      2010-07-28  2013-09-27  abadf001   abadfe01  \n",
        "6      1875-04-26  1875-06-10  abadj101  abadijo01  \n",
        "7      1897-09-04  1910-09-15  abbae101  abbated01  \n",
        "8      1892-06-14  1896-09-23  abbeb101  abbeybe01  \n",
        "9      1893-08-16  1897-08-19  abbec101  abbeych01  \n",
        "10     1890-04-19  1890-05-23  abbod101  abbotda01  \n",
        "11     1903-04-25  1905-09-20  abbof101  abbotfr01  \n",
        "12     1973-07-29  1984-08-08  abbog001  abbotgl01  \n",
        "13     1997-06-10  2001-09-29  abboj002  abbotje01  \n",
        "14     1989-04-08  1999-07-21  abboj001  abbotji01  \n",
        "15     1993-09-07  2001-04-13  abbok002  abbotku01  \n",
        "16     1991-09-10  1996-08-24  abbok001  abbotky01  \n",
        "17     1910-09-10  1910-10-15  abboo101  abbotod01  \n",
        "18     1990-08-21  2004-08-07  abbop001  abbotpa01  \n",
        "19     1950-09-15  1957-09-11  abera101   aberal01  \n",
        "20     1871-10-21  1871-10-21  aberd101  abercda01  \n",
        "21     2006-04-04  2008-09-28  aberr001  abercre01  \n",
        "22     1952-09-27  1952-09-27  aberb101  abernbi01  \n",
        "23     2001-06-25  2005-09-29  aberb001  abernbr01  \n",
        "24     1942-09-19  1944-04-29  abert102  abernte01  \n",
        "25     1955-04-13  1972-09-30  abert101  abernte02  \n",
        "26     1946-07-28  1947-04-17  aberw101  abernwo01  \n",
        "27     1947-07-18  1949-05-09  aberc101  aberscl01  \n",
        "28     1905-09-04  1911-05-05  ableh101  ablesha01  \n",
        "29     1987-09-08  1992-10-03  abnes001  abnersh01  \n",
        "...           ...         ...       ...        ...  \n",
        "18324  1999-05-17  1999-07-02  zimmj002  zimmejo01  \n",
        "18325  2009-04-20  2013-09-25  zimmj003  zimmejo02  \n",
        "18326  1945-08-27  1945-09-30  zimmr101  zimmero01  \n",
        "18327  2005-09-01  2013-09-28  zimmr001  zimmery01  \n",
        "18328  2008-08-12  2008-08-12  zinkc001   zinkch01  \n",
        "18329  1921-07-06  1921-07-19  zinkw101   zinkwa01  \n",
        "18330  1888-04-18  1888-05-03  zinnf101   zinnfr01  \n",
        "18331  1911-09-11  1915-09-16  zinng101   zinngu01  \n",
        "18332  1919-09-04  1929-08-25  zinnj101   zinnji01  \n",
        "18333  1944-08-19  1944-08-26  zinsb101  zinsebi01  \n",
        "18334  2002-06-18  2004-10-03  zinta001  zinteal01  \n",
        "18335  1961-07-26  1962-09-30  zipfb101  zipfebu01  \n",
        "18336  1971-09-08  1983-09-21  ziskr101   ziskri01  \n",
        "18337  2000-07-22  2013-09-29  zitob001   zitoba01  \n",
        "18338  1919-04-27  1929-09-25  zitzb101  zitzmbi01  \n",
        "18339  1910-07-23  1911-06-01  zmice101  zmiched01  \n",
        "18340  2006-08-01  2013-09-30  zobrb001  zobribe01  \n",
        "18341  2003-09-05  2003-09-28  zoccp001  zoccope01  \n",
        "18342  1944-05-13  1952-08-26  zolds101  zoldasa01  \n",
        "18343  1991-09-02  2000-10-01  zoske001  zoskyed01  \n",
        "18344  1936-09-16  1947-09-23  zubeb101  zuberbi01  \n",
        "18345  1996-04-19  1998-09-27  zubej001  zuberjo01  \n",
        "18346  2000-04-06  2001-06-25  zulej001  zuletju01  \n",
        "18347  2006-04-03  2010-06-28  zumaj001  zumayjo01  \n",
        "18348  2013-06-12  2013-09-29  zunim001  zuninmi01  \n",
        "18349  1991-09-07  1994-08-04  zupcb001  zupcibo01  \n",
        "18350  1957-07-01  1961-05-09  zupof101   zupofr01  \n",
        "18351  1982-09-04  1991-05-02  zuvep001  zuvelpa01  \n",
        "18352  1951-04-21  1959-06-15  zuveg101  zuverge01  \n",
        "18353  1910-08-14  1916-07-12  zwild101  zwilldu01  \n",
        "\n",
        "[18354 rows x 24 columns]"
       ]
      }
     ],
     "prompt_number": 5
    },
    {
     "cell_type": "code",
     "collapsed": false,
     "input": [],
     "language": "python",
     "metadata": {},
     "outputs": []
    }
   ],
   "metadata": {}
  }
 ]
}