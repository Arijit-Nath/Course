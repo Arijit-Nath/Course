{
 "metadata": {
  "name": "",
  "signature": "sha256:ab3e5e0454f6f981ac6f24f3ce306dec84dd41fe1b1e6d88f053974162967ef1"
 },
 "nbformat": 3,
 "nbformat_minor": 0,
 "worksheets": [
  {
   "cells": [
    {
     "cell_type": "code",
     "collapsed": false,
     "input": [
      "import json\n",
      "import requests\n",
      "\n",
      "def api_get_request(url):\n",
      "    # In this exercise, you want to call the last.fm API to get a list of the\n",
      "    # top artists in Spain.\n",
      "    #\n",
      "    # Once you've done this, return the name of the number 1 top artist in Spain.\n",
      "    url = 'last.fm'\n",
      "    data = requests.get(url).text\n",
      "    data = json.loads(data)    \n",
      "    \n",
      "    return data['topartists']['artist'][0]['name'] # return the top artist in Spain\n",
      "   "
     ],
     "language": "python",
     "metadata": {},
     "outputs": [],
     "prompt_number": 10
    },
    {
     "cell_type": "code",
     "collapsed": false,
     "input": [
      "import json\n",
      "import requests\n",
      "\n",
      "if __name__==\"main\":\n",
      "    url=\"blogname.blogspot.com/feeds/posts/default?alt=json-in-script&callback=myFunc\"\n",
      "    data=requests.get(url).text\n",
      "    print type(data)\n",
      "    print data"
     ],
     "language": "python",
     "metadata": {},
     "outputs": [],
     "prompt_number": 8
    },
    {
     "cell_type": "code",
     "collapsed": false,
     "input": [],
     "language": "python",
     "metadata": {},
     "outputs": []
    }
   ],
   "metadata": {}
  }
 ]
}