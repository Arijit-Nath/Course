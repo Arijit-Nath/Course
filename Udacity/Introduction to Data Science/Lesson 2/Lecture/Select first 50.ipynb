{
 "metadata": {
  "name": "",
  "signature": "sha256:8aa5a0fa8558cf401b4669c3615a3759f616529b8f8b014ee8195124e8f9ad93"
 },
 "nbformat": 3,
 "nbformat_minor": 0,
 "worksheets": [
  {
   "cells": [
    {
     "cell_type": "code",
     "collapsed": false,
     "input": [
      "import pandas\n",
      "import pandasql\n",
      "\n",
      "def select_first_50(filename):\n",
      "    # Read in our aadhaar_data csv to a pandas dataframe.  Afterwards, we rename the columns\n",
      "    # by replacing spaces with underscores and setting all characters to lowercase, so the\n",
      "    # column names more closely resemble columns names one might find in a table.\n",
      "    aadhaar_data = pandas.read_csv(filename)\n",
      "    aadhaar_data.rename(columns = lambda x: x.replace(' ', '_').lower(), inplace=True)\n",
      "\n",
      "    # Select out the first 50 values for \"registrar\" and \"enrolment_agency\"\n",
      "    # in the aadhaar_data table using SQL syntax. \n",
      "    #\n",
      "    # Note that \"enrolment_agency\" is spelled with one l. Also, the order\n",
      "    # of the select does matter. Make sure you select registrar then enrolment agency\n",
      "    # in your query.\n",
      "    q = \"\"\"Select registrar, enrolment_agency from aadhaar_data limit 50\"\"\"\n",
      "\n",
      "    #Execute your SQL command against the pandas frame\n",
      "    aadhaar_solution = pandasql.sqldf(q.lower(), locals())    \n",
      "    return aadhaar_solution "
     ],
     "language": "python",
     "metadata": {},
     "outputs": [],
     "prompt_number": 32
    },
    {
     "cell_type": "code",
     "collapsed": false,
     "input": [
      "path = \"C:\\Vindico\\Projects\\Data\\Course\\Python\\Udacity\\Introduction to Data Science\\Lesson 2\\Lecture\\AADHAAR\\UIDAI-ENR-GEOGRAPHY-20141029.csv\"\n",
      "select_first_50(path)"
     ],
     "language": "python",
     "metadata": {},
     "outputs": [],
     "prompt_number": 34
    },
    {
     "cell_type": "code",
     "collapsed": false,
     "input": [
      "import pandas\n",
      "import pandasql\n",
      "\n",
      "def aggregate_query(filename):\n",
      "    # Read in our aadhaar_data csv to a pandas dataframe.  Afterwards, we rename the columns\n",
      "    # by replacing spaces with underscores and setting all characters to lowercase, so the\n",
      "    # column names more closely resemble columns names one might find in a table.\n",
      "    \n",
      "    aadhaar_data = pandas.read_csv(filename)\n",
      "    aadhaar_data.rename(columns = lambda x: x.replace(' ', '_').lower(), inplace=True)\n",
      "\n",
      "    # Write a query that will select from the aadhaar_data table how many men and how \n",
      "    # many women over the age of 50 have had aadhaar generated for them in each district\n",
      "    #\n",
      "    # Note that in this quiz, the SQL query keywords are case sensitive. \n",
      "    # For example, if you want to do a sum make sure you type 'sum' rather than 'SUM'.\n",
      "    #\n",
      "\n",
      "    # The possible columns to select from aadhaar data are:\n",
      "    #     1) Registrar\n",
      "    #     2) Enrolment Agency\n",
      "    #     3) State\n",
      "    #     4) District\n",
      "    #     5) Sub District\n",
      "    #     6) Pin Code\n",
      "    #     7) Gender\n",
      "    #     8) Age\n",
      "    #     9) Aadhaar generated\n",
      "    #     10) Enrolment Rejected\n",
      "    #     11) Residents providing email,\n",
      "    #     12) Residents providing mobile number\n",
      "    #\n",
      "    # You can download a copy of the aadhaar data that we are passing \n",
      "    # into this exercise below:\n",
      "    # https://www.dropbox.com/s/vn8t4uulbsfmalo/aadhaar_data.csv\n",
      "        \n",
      "    q = \"\"\"SELECT Gender, District, \n",
      "    sum(Aadhaar_generated) from aadhaar_data WHERE Age>50 GROUP BY Gender, District\"\"\"\n",
      "\n",
      "    # Execute your SQL command against the pandas frame\n",
      "    aadhaar_solution = pandasql.sqldf(q.lower(), locals())\n",
      "    return aadhaar_solution    "
     ],
     "language": "python",
     "metadata": {},
     "outputs": [],
     "prompt_number": 44
    },
    {
     "cell_type": "code",
     "collapsed": false,
     "input": [
      "path = \"C:\\Vindico\\Projects\\Data\\Course\\Python\\Udacity\\Introduction to Data Science\\Lesson 2\\Lecture\\AADHAAR\\UIDAI-ENR-GEOGRAPHY-20141029.csv\"\n",
      "aggregate_query(path)"
     ],
     "language": "python",
     "metadata": {},
     "outputs": [],
     "prompt_number": 45
    }
   ],
   "metadata": {}
  }
 ]
}