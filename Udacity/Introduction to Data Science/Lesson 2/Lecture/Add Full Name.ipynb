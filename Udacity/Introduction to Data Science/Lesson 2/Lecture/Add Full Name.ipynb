{
 "metadata": {
  "name": "",
  "signature": "sha256:1f7a96194da94f49e94ec73719afcfa55b202c559c74c06e31c516149a92ad51"
 },
 "nbformat": 3,
 "nbformat_minor": 0,
 "worksheets": [
  {
   "cells": [
    {
     "cell_type": "code",
     "collapsed": false,
     "input": [
      "import pandas\n",
      "\n",
      "def add_full_name(path_to_csv, path_to_new_csv):\n",
      "    #Assume you will be reading in a csv file with the same columns that the\n",
      "    #Lahman baseball data set has -- most importantly, there are columns\n",
      "    #called 'nameFirst' and 'nameLast'.\n",
      "    #1) Write a function that reads a csv\n",
      "    #located at \"path_to_csv\" into a pandas dataframe, adds a new column\n",
      "    #called 'nameFull' with a players full name.\n",
      "    #\n",
      "    #For example:\n",
      "    #   for Hank Aaron, nameFull would be 'Hank Aaron', \n",
      "\t#\n",
      "\t#2) Write the data in the pandas dataFrame to a new csv file located at\n",
      "\t#path_to_new_csv\n",
      "\n",
      "    #WRITE YOUR CODE HERE\n",
      "    baseball_data = pandas.read_csv(path_to_csv)\n",
      "    baseball_data['nameFull'] = baseball_data['nameFirst'] + ' ' + baseball_data['nameLast']\n",
      "    baseball_data[:5]\n",
      "    baseball_data.to_csv(path_to_new_csv)"
     ],
     "language": "python",
     "metadata": {},
     "outputs": [],
     "prompt_number": 27
    },
    {
     "cell_type": "code",
     "collapsed": false,
     "input": [
      "oldpath = \"C:\\Vindico\\Projects\\Data\\Course\\Python\\Udacity\\Introduction to Data Science\\Lesson 2\\Lecture\\Lahman\\Master.csv\"\n",
      "newpath = \"C:\\Vindico\\Projects\\Data\\Course\\Python\\Udacity\\Introduction to Data Science\\Lesson 2\\Lecture\\Lahman\\NewMaster.csv\"\n",
      "add_full_name(oldpath, newpath)\n"
     ],
     "language": "python",
     "metadata": {},
     "outputs": [],
     "prompt_number": 26
    }
   ],
   "metadata": {}
  }
 ]
}