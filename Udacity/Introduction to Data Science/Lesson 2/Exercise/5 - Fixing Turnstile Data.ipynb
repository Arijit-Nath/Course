{
 "metadata": {
  "name": "",
  "signature": "sha256:ea064f87f25f4aafd46d863d1a8b88aba65d6dcd733fbc925c8830f8e3b72f4f"
 },
 "nbformat": 3,
 "nbformat_minor": 0,
 "worksheets": [
  {
   "cells": [
    {
     "cell_type": "code",
     "collapsed": false,
     "input": [
      "import os\n",
      "\n",
      "os.getcwd()\n",
      "os.chdir(\"C:\\Vindico\\Projects\\Data\\Course\\Python\\Udacity\\Introduction to Data Science\\Lesson 2\\Exercise\")\n",
      "os.getcwd()"
     ],
     "language": "python",
     "metadata": {},
     "outputs": [
      {
       "metadata": {},
       "output_type": "pyout",
       "prompt_number": 1,
       "text": [
        "'C:\\\\Vindico\\\\Projects\\\\Data\\\\Course\\\\Python\\\\Udacity\\\\Introduction to Data Science\\\\Lesson 2\\\\Exercise'"
       ]
      }
     ],
     "prompt_number": 1
    },
    {
     "cell_type": "code",
     "collapsed": false,
     "input": [
      "import csv\n",
      "\n",
      "def fix_turnstile_data(filenames):\n",
      "    '''\n",
      "    Filenames is a list of MTA Subway turnstile text files. A link to an example\n",
      "    MTA Subway turnstile text file can be seen at the URL below:\n",
      "    http://web.mta.info/developers/data/nyct/turnstile/turnstile_110507.txt\n",
      "    \n",
      "    As you can see, there are numerous data points included in each row of the\n",
      "    a MTA Subway turnstile text file. \n",
      "\n",
      "    You want to write a function that will update each row in the text\n",
      "    file so there is only one entry per row. A few examples below:\n",
      "    A002,R051,02-00-00,05-28-11,00:00:00,REGULAR,003178521,001100739\n",
      "    A002,R051,02-00-00,05-28-11,04:00:00,REGULAR,003178541,001100746\n",
      "    A002,R051,02-00-00,05-28-11,08:00:00,REGULAR,003178559,001100775\n",
      "    \n",
      "    Write the updates to a different text file in the format of \"updated_\" + filename.\n",
      "    For example:\n",
      "        1) if you read in a text file called \"turnstile_110521.txt\"\n",
      "        2) you should write the updated data to \"updated_turnstile_110521.txt\"\n",
      "\n",
      "    The order of the fields should be preserved. \n",
      "    \n",
      "    You can see a sample of the turnstile text file that's passed into this function\n",
      "    and the the corresponding updated file in the links below:\n",
      "    \n",
      "    Sample input file:\n",
      "    https://www.dropbox.com/s/mpin5zv4hgrx244/turnstile_110528.txt\n",
      "    Sample updated file:\n",
      "    https://www.dropbox.com/s/074xbgio4c39b7h/solution_turnstile_110528.txt\n",
      "    '''\n",
      "    for name in filenames:\n",
      "        # your code here\n",
      "        with open(name,'rb') as f:\n",
      "            reader = csv.reader(f)\n",
      "            with open('updated_' + name,'wb') as f:\n",
      "                writer = csv.writer(f)\n",
      "                updated_rows = []\n",
      "                for row in reader:\n",
      "                     updated_row = row[0:3]\n",
      "                     for i in range(0,len(row[3:len(row)])):\n",
      "                            updated_row.append(row[i+3])\n",
      "                            if (i + 1) % 5 == 0:\n",
      "                                updated_rows.append(updated_row)\n",
      "                                updated_row = row[0:3]\n",
      "                writer.writerows(updated_rows)"
     ],
     "language": "python",
     "metadata": {},
     "outputs": [],
     "prompt_number": 2
    },
    {
     "cell_type": "code",
     "collapsed": false,
     "input": [
      "filename =[\"turnstile_110528.csv\"]\n",
      "fix_turnstile_data(filename)"
     ],
     "language": "python",
     "metadata": {},
     "outputs": [],
     "prompt_number": 3
    },
    {
     "cell_type": "code",
     "collapsed": false,
     "input": [
      "import csv\n",
      "\n",
      "def fix_turnstile_data(name):\n",
      "    '''\n",
      "    Filenames is a list of MTA Subway turnstile text files. A link to an example\n",
      "    MTA Subway turnstile text file can be seen at the URL below:\n",
      "    http://web.mta.info/developers/data/nyct/turnstile/turnstile_110507.txt\n",
      "    \n",
      "    As you can see, there are numerous data points included in each row of the\n",
      "    a MTA Subway turnstile text file. \n",
      "\n",
      "    You want to write a function that will update each row in the text\n",
      "    file so there is only one entry per row. A few examples below:\n",
      "    A002,R051,02-00-00,05-28-11,00:00:00,REGULAR,003178521,001100739\n",
      "    A002,R051,02-00-00,05-28-11,04:00:00,REGULAR,003178541,001100746\n",
      "    A002,R051,02-00-00,05-28-11,08:00:00,REGULAR,003178559,001100775\n",
      "    \n",
      "    Write the updates to a different text file in the format of \"updated_\" + filename.\n",
      "    For example:\n",
      "        1) if you read in a text file called \"turnstile_110521.txt\"\n",
      "        2) you should write the updated data to \"updated_turnstile_110521.txt\"\n",
      "\n",
      "    The order of the fields should be preserved. \n",
      "    \n",
      "    You can see a sample of the turnstile text file that's passed into this function\n",
      "    and the the corresponding updated file in the links below:\n",
      "    \n",
      "    Sample input file:\n",
      "    https://www.dropbox.com/s/mpin5zv4hgrx244/turnstile_110528.txt\n",
      "    Sample updated file:\n",
      "    https://www.dropbox.com/s/074xbgio4c39b7h/solution_turnstile_110528.txt\n",
      "    '''\n",
      "    \n",
      "        # your code here\n",
      "    with open(name,'rb') as f:\n",
      "        reader = csv.reader(f)\n",
      "        with open('updated_' + name,'wb') as f:\n",
      "            writer = csv.writer(f)\n",
      "            updated_rows = []\n",
      "            for row in reader:\n",
      "                updated_row = row[0:3]\n",
      "                for i in range(0,len(row[3:len(row)])):\n",
      "                    updated_row.append(row[i+3])\n",
      "                    if (i + 1) % 5 == 0:\n",
      "                        updated_rows.append(updated_row)\n",
      "                        updated_row = row[0:3]\n",
      "            writer.writerows(updated_rows)\n"
     ],
     "language": "python",
     "metadata": {},
     "outputs": [],
     "prompt_number": 4
    },
    {
     "cell_type": "code",
     "collapsed": false,
     "input": [
      "filename =\"turnstile_110528.csv\"\n",
      "fix_turnstile_data(filename)"
     ],
     "language": "python",
     "metadata": {},
     "outputs": [],
     "prompt_number": 5
    }
   ],
   "metadata": {}
  }
 ]
}