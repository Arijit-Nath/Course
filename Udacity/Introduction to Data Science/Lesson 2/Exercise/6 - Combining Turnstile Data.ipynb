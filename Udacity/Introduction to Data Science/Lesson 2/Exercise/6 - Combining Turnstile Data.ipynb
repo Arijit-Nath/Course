{
 "metadata": {
  "name": "",
  "signature": "sha256:138923d807e41e808e51a22c625b4c9abe619242aeee85d5d89a13c8cf283c19"
 },
 "nbformat": 3,
 "nbformat_minor": 0,
 "worksheets": [
  {
   "cells": [
    {
     "cell_type": "code",
     "collapsed": false,
     "input": [
      "import os\n",
      "\n",
      "os.getcwd()\n",
      "os.chdir(\"C:\\Vindico\\Projects\\Data\\Course\\Python\\Udacity\\Introduction to Data Science\\Lesson 2\\Exercise\")\n",
      "os.getcwd()"
     ],
     "language": "python",
     "metadata": {},
     "outputs": [
      {
       "metadata": {},
       "output_type": "pyout",
       "prompt_number": 1,
       "text": [
        "'C:\\\\Vindico\\\\Projects\\\\Data\\\\Course\\\\Python\\\\Udacity\\\\Introduction to Data Science\\\\Lesson 2\\\\Exercise'"
       ]
      }
     ],
     "prompt_number": 1
    },
    {
     "cell_type": "code",
     "collapsed": false,
     "input": [
      "def create_master_turnstile_file(filenames, output_file):\n",
      "    '''\n",
      "    Write a function that takes the files in the list filenames, which all have the \n",
      "    columns 'C/A, UNIT, SCP, DATEn, TIMEn, DESCn, ENTRIESn, EXITSn', and consolidates\n",
      "    them into one file located at output_file.  There should be ONE row with the column\n",
      "    headers, located at the top of the file.\n",
      "    \n",
      "    For example, if file_1 has:\n",
      "    'C/A, UNIT, SCP, DATEn, TIMEn, DESCn, ENTRIESn, EXITSn'\n",
      "    line 1 ...\n",
      "    line 2 ...\n",
      "    \n",
      "    and another file, file_2 has:\n",
      "    'C/A, UNIT, SCP, DATEn, TIMEn, DESCn, ENTRIESn, EXITSn'\n",
      "    line 3 ...\n",
      "    line 4 ...\n",
      "    line 5 ...\n",
      "    \n",
      "    We need to combine file_1 and file_2 into a master_file like below:\n",
      "     'C/A, UNIT, SCP, DATEn, TIMEn, DESCn, ENTRIESn, EXITSn'\n",
      "    line 1 ...\n",
      "    line 2 ...\n",
      "    line 3 ...\n",
      "    line 4 ...\n",
      "    line 5 ...\n",
      "    '''\n",
      "    with open(output_file, 'w') as master_file:\n",
      "       master_file.write('C/A,UNIT,SCP,DATEn,TIMEn,DESCn,ENTRIESn,EXITSn\\n')\n",
      "       for filename in filenames:\n",
      "                # your code here\n",
      "           with open(filename, 'r') as data_file:\n",
      "\n",
      "                # Discard header\n",
      "                data_file.readline()\n",
      "\n",
      "                # Gather the remaining data\n",
      "                for line in data_file:\n",
      "\n",
      "                    # Save read content to master_file\n",
      "                    master_file.write(line)\n"
     ],
     "language": "python",
     "metadata": {},
     "outputs": [],
     "prompt_number": 2
    },
    {
     "cell_type": "code",
     "collapsed": false,
     "input": [
      "filename =[\"C:\\Vindico\\Projects\\Data\\Course\\Python\\Udacity\\Introduction to Data Science\\Lesson 2\\Exercise\\updated_turnstile_110528.csv\"]\n",
      "create_master_turnstile_file(filename, \"output.csv\")"
     ],
     "language": "python",
     "metadata": {},
     "outputs": [],
     "prompt_number": 3
    }
   ],
   "metadata": {}
  }
 ]
}