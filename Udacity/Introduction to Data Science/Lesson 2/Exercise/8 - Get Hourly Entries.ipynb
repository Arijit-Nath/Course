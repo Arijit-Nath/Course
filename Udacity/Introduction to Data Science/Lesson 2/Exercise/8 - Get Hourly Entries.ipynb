{
 "metadata": {
  "name": "",
  "signature": "sha256:a2e284b660e87d4be2abef74c4e9806bc435114bd9e37a9d5db64db22c5bb053"
 },
 "nbformat": 3,
 "nbformat_minor": 0,
 "worksheets": [
  {
   "cells": [
    {
     "cell_type": "code",
     "collapsed": false,
     "input": [
      "import os\n",
      "\n",
      "os.getcwd()\n",
      "os.chdir(\"C:\\Vindico\\Projects\\Data\\Course\\Python\\Udacity\\Introduction to Data Science\\Lesson 2\\Exercise\")\n",
      "os.getcwd()"
     ],
     "language": "python",
     "metadata": {},
     "outputs": [
      {
       "metadata": {},
       "output_type": "pyout",
       "prompt_number": 13,
       "text": [
        "'C:\\\\Vindico\\\\Projects\\\\Data\\\\Course\\\\Python\\\\Udacity\\\\Introduction to Data Science\\\\Lesson 2\\\\Exercise'"
       ]
      }
     ],
     "prompt_number": 13
    },
    {
     "cell_type": "code",
     "collapsed": false,
     "input": [
      "import pandas\n",
      "\n",
      "def get_hourly_entries(filename):\n",
      "    '''\n",
      "    The data in the MTA Subway Turnstile data reports on the cumulative\n",
      "    number of entries and exits per row.  Assume that you have a dataframe\n",
      "    called df that contains only the rows for a particular turnstile machine\n",
      "    (i.e., unique SCP, C/A, and UNIT).  This function should change\n",
      "    these cumulative entry numbers to a count of entries since the last reading\n",
      "    (i.e., entries since the last row in the dataframe).\n",
      "    \n",
      "    More specifically, you want to do two things:\n",
      "       1) Create a new column called ENTRIESn_hourly\n",
      "       2) Assign to the column the difference between ENTRIESn of the current row \n",
      "          and the previous row. If there is any NaN, fill/replace it with 1.\n",
      "    \n",
      "    You may find the pandas functions shift() and fillna() to be helpful in this exercise.\n",
      "    \n",
      "    Examples of what your dataframe should look like at the end of this exercise:\n",
      "    \n",
      "           C/A  UNIT       SCP     DATEn     TIMEn    DESCn  ENTRIESn    EXITSn  ENTRIESn_hourly\n",
      "    0     A002  R051  02-00-00  05-01-11  00:00:00  REGULAR   3144312   1088151                1\n",
      "    1     A002  R051  02-00-00  05-01-11  04:00:00  REGULAR   3144335   1088159               23\n",
      "    2     A002  R051  02-00-00  05-01-11  08:00:00  REGULAR   3144353   1088177               18\n",
      "    3     A002  R051  02-00-00  05-01-11  12:00:00  REGULAR   3144424   1088231               71\n",
      "    4     A002  R051  02-00-00  05-01-11  16:00:00  REGULAR   3144594   1088275              170\n",
      "    5     A002  R051  02-00-00  05-01-11  20:00:00  REGULAR   3144808   1088317              214\n",
      "    6     A002  R051  02-00-00  05-02-11  00:00:00  REGULAR   3144895   1088328               87\n",
      "    7     A002  R051  02-00-00  05-02-11  04:00:00  REGULAR   3144905   1088331               10\n",
      "    8     A002  R051  02-00-00  05-02-11  08:00:00  REGULAR   3144941   1088420               36\n",
      "    9     A002  R051  02-00-00  05-02-11  12:00:00  REGULAR   3145094   1088753              153\n",
      "    10    A002  R051  02-00-00  05-02-11  16:00:00  REGULAR   3145337   1088823              243\n",
      "    ...\n",
      "    ...\n",
      "\n",
      "    '''\n",
      "    #your code here\n",
      "    df = pandas.read_csv(filename)\n",
      "    df = df[df['DESCn']=='REGULAR']\n",
      "    df['ENTRIESn_hourly'] = df['ENTRIESn'] - df['ENTRIESn'].shift(1)\n",
      "    df['ENTRIESn_hourly'] = df['ENTRIESn_hourly'].fillna(1)\n",
      "    return df"
     ],
     "language": "python",
     "metadata": {},
     "outputs": [],
     "prompt_number": 14
    },
    {
     "cell_type": "code",
     "collapsed": false,
     "input": [
      "get_hourly_entries(\"output.csv\")"
     ],
     "language": "python",
     "metadata": {},
     "outputs": [
      {
       "html": [
        "<div style=\"max-height:1000px;max-width:1500px;overflow:auto;\">\n",
        "<table border=\"1\" class=\"dataframe\">\n",
        "  <thead>\n",
        "    <tr style=\"text-align: right;\">\n",
        "      <th></th>\n",
        "      <th>C/A</th>\n",
        "      <th>UNIT</th>\n",
        "      <th>SCP</th>\n",
        "      <th>DATEn</th>\n",
        "      <th>TIMEn</th>\n",
        "      <th>DESCn</th>\n",
        "      <th>ENTRIESn</th>\n",
        "      <th>EXITSn</th>\n",
        "      <th>ENTRIESn_hourly</th>\n",
        "    </tr>\n",
        "  </thead>\n",
        "  <tbody>\n",
        "    <tr>\n",
        "      <th>0   </th>\n",
        "      <td> A002</td>\n",
        "      <td> R051</td>\n",
        "      <td> 02-00-00</td>\n",
        "      <td> 05-21-11</td>\n",
        "      <td> 04:00:00</td>\n",
        "      <td> REGULAR</td>\n",
        "      <td> 3169415</td>\n",
        "      <td> 1097588</td>\n",
        "      <td>   1</td>\n",
        "    </tr>\n",
        "    <tr>\n",
        "      <th>1   </th>\n",
        "      <td> A002</td>\n",
        "      <td> R051</td>\n",
        "      <td> 02-00-00</td>\n",
        "      <td> 05-21-11</td>\n",
        "      <td> 08:00:00</td>\n",
        "      <td> REGULAR</td>\n",
        "      <td> 3169431</td>\n",
        "      <td> 1097607</td>\n",
        "      <td>  16</td>\n",
        "    </tr>\n",
        "    <tr>\n",
        "      <th>2   </th>\n",
        "      <td> A002</td>\n",
        "      <td> R051</td>\n",
        "      <td> 02-00-00</td>\n",
        "      <td> 05-21-11</td>\n",
        "      <td> 12:00:00</td>\n",
        "      <td> REGULAR</td>\n",
        "      <td> 3169506</td>\n",
        "      <td> 1097686</td>\n",
        "      <td>  75</td>\n",
        "    </tr>\n",
        "    <tr>\n",
        "      <th>3   </th>\n",
        "      <td> A002</td>\n",
        "      <td> R051</td>\n",
        "      <td> 02-00-00</td>\n",
        "      <td> 05-21-11</td>\n",
        "      <td> 16:00:00</td>\n",
        "      <td> REGULAR</td>\n",
        "      <td> 3169693</td>\n",
        "      <td> 1097734</td>\n",
        "      <td> 187</td>\n",
        "    </tr>\n",
        "    <tr>\n",
        "      <th>4   </th>\n",
        "      <td> A002</td>\n",
        "      <td> R051</td>\n",
        "      <td> 02-00-00</td>\n",
        "      <td> 05-21-11</td>\n",
        "      <td> 20:00:00</td>\n",
        "      <td> REGULAR</td>\n",
        "      <td> 3169998</td>\n",
        "      <td> 1097769</td>\n",
        "      <td> 305</td>\n",
        "    </tr>\n",
        "    <tr>\n",
        "      <th>5   </th>\n",
        "      <td> A002</td>\n",
        "      <td> R051</td>\n",
        "      <td> 02-00-00</td>\n",
        "      <td> 05-22-11</td>\n",
        "      <td> 00:00:00</td>\n",
        "      <td> REGULAR</td>\n",
        "      <td> 3170119</td>\n",
        "      <td> 1097792</td>\n",
        "      <td> 121</td>\n",
        "    </tr>\n",
        "    <tr>\n",
        "      <th>6   </th>\n",
        "      <td> A002</td>\n",
        "      <td> R051</td>\n",
        "      <td> 02-00-00</td>\n",
        "      <td> 05-22-11</td>\n",
        "      <td> 04:00:00</td>\n",
        "      <td> REGULAR</td>\n",
        "      <td> 3170146</td>\n",
        "      <td> 1097801</td>\n",
        "      <td>  27</td>\n",
        "    </tr>\n",
        "    <tr>\n",
        "      <th>7   </th>\n",
        "      <td> A002</td>\n",
        "      <td> R051</td>\n",
        "      <td> 02-00-00</td>\n",
        "      <td> 05-22-11</td>\n",
        "      <td> 08:00:00</td>\n",
        "      <td> REGULAR</td>\n",
        "      <td> 3170164</td>\n",
        "      <td> 1097820</td>\n",
        "      <td>  18</td>\n",
        "    </tr>\n",
        "    <tr>\n",
        "      <th>8   </th>\n",
        "      <td> A002</td>\n",
        "      <td> R051</td>\n",
        "      <td> 02-00-00</td>\n",
        "      <td> 05-22-11</td>\n",
        "      <td> 12:00:00</td>\n",
        "      <td> REGULAR</td>\n",
        "      <td> 3170240</td>\n",
        "      <td> 1097867</td>\n",
        "      <td>  76</td>\n",
        "    </tr>\n",
        "    <tr>\n",
        "      <th>9   </th>\n",
        "      <td> A002</td>\n",
        "      <td> R051</td>\n",
        "      <td> 02-00-00</td>\n",
        "      <td> 05-22-11</td>\n",
        "      <td> 16:00:00</td>\n",
        "      <td> REGULAR</td>\n",
        "      <td> 3170388</td>\n",
        "      <td> 1097912</td>\n",
        "      <td> 148</td>\n",
        "    </tr>\n",
        "    <tr>\n",
        "      <th>10  </th>\n",
        "      <td> A002</td>\n",
        "      <td> R051</td>\n",
        "      <td> 02-00-00</td>\n",
        "      <td> 05-22-11</td>\n",
        "      <td> 20:00:00</td>\n",
        "      <td> REGULAR</td>\n",
        "      <td> 3170611</td>\n",
        "      <td> 1097941</td>\n",
        "      <td> 223</td>\n",
        "    </tr>\n",
        "    <tr>\n",
        "      <th>11  </th>\n",
        "      <td> A002</td>\n",
        "      <td> R051</td>\n",
        "      <td> 02-00-00</td>\n",
        "      <td> 05-23-11</td>\n",
        "      <td> 00:00:00</td>\n",
        "      <td> REGULAR</td>\n",
        "      <td> 3170695</td>\n",
        "      <td> 1097964</td>\n",
        "      <td>  84</td>\n",
        "    </tr>\n",
        "    <tr>\n",
        "      <th>12  </th>\n",
        "      <td> A002</td>\n",
        "      <td> R051</td>\n",
        "      <td> 02-00-00</td>\n",
        "      <td> 05-23-11</td>\n",
        "      <td> 04:00:00</td>\n",
        "      <td> REGULAR</td>\n",
        "      <td> 3170701</td>\n",
        "      <td> 1097964</td>\n",
        "      <td>   6</td>\n",
        "    </tr>\n",
        "    <tr>\n",
        "      <th>13  </th>\n",
        "      <td> A002</td>\n",
        "      <td> R051</td>\n",
        "      <td> 02-00-00</td>\n",
        "      <td> 05-23-11</td>\n",
        "      <td> 08:00:00</td>\n",
        "      <td> REGULAR</td>\n",
        "      <td> 3170746</td>\n",
        "      <td> 1098069</td>\n",
        "      <td>  45</td>\n",
        "    </tr>\n",
        "    <tr>\n",
        "      <th>14  </th>\n",
        "      <td> A002</td>\n",
        "      <td> R051</td>\n",
        "      <td> 02-00-00</td>\n",
        "      <td> 05-23-11</td>\n",
        "      <td> 12:00:00</td>\n",
        "      <td> REGULAR</td>\n",
        "      <td> 3170897</td>\n",
        "      <td> 1098378</td>\n",
        "      <td> 151</td>\n",
        "    </tr>\n",
        "    <tr>\n",
        "      <th>15  </th>\n",
        "      <td> A002</td>\n",
        "      <td> R051</td>\n",
        "      <td> 02-00-00</td>\n",
        "      <td> 05-23-11</td>\n",
        "      <td> 16:00:00</td>\n",
        "      <td> REGULAR</td>\n",
        "      <td> 3171194</td>\n",
        "      <td> 1098447</td>\n",
        "      <td> 297</td>\n",
        "    </tr>\n",
        "    <tr>\n",
        "      <th>16  </th>\n",
        "      <td> A002</td>\n",
        "      <td> R051</td>\n",
        "      <td> 02-00-00</td>\n",
        "      <td> 05-23-11</td>\n",
        "      <td> 20:00:00</td>\n",
        "      <td> REGULAR</td>\n",
        "      <td> 3172059</td>\n",
        "      <td> 1098511</td>\n",
        "      <td> 865</td>\n",
        "    </tr>\n",
        "    <tr>\n",
        "      <th>17  </th>\n",
        "      <td> A002</td>\n",
        "      <td> R051</td>\n",
        "      <td> 02-00-00</td>\n",
        "      <td> 05-24-11</td>\n",
        "      <td> 00:00:00</td>\n",
        "      <td> REGULAR</td>\n",
        "      <td> 3172200</td>\n",
        "      <td> 1098528</td>\n",
        "      <td> 141</td>\n",
        "    </tr>\n",
        "    <tr>\n",
        "      <th>18  </th>\n",
        "      <td> A002</td>\n",
        "      <td> R051</td>\n",
        "      <td> 02-00-00</td>\n",
        "      <td> 05-24-11</td>\n",
        "      <td> 04:00:00</td>\n",
        "      <td> REGULAR</td>\n",
        "      <td> 3172214</td>\n",
        "      <td> 1098529</td>\n",
        "      <td>  14</td>\n",
        "    </tr>\n",
        "    <tr>\n",
        "      <th>19  </th>\n",
        "      <td> A002</td>\n",
        "      <td> R051</td>\n",
        "      <td> 02-00-00</td>\n",
        "      <td> 05-24-11</td>\n",
        "      <td> 08:00:00</td>\n",
        "      <td> REGULAR</td>\n",
        "      <td> 3172266</td>\n",
        "      <td> 1098628</td>\n",
        "      <td>  52</td>\n",
        "    </tr>\n",
        "    <tr>\n",
        "      <th>20  </th>\n",
        "      <td> A002</td>\n",
        "      <td> R051</td>\n",
        "      <td> 02-00-00</td>\n",
        "      <td> 05-24-11</td>\n",
        "      <td> 12:00:00</td>\n",
        "      <td> REGULAR</td>\n",
        "      <td> 3172407</td>\n",
        "      <td> 1098952</td>\n",
        "      <td> 141</td>\n",
        "    </tr>\n",
        "    <tr>\n",
        "      <th>21  </th>\n",
        "      <td> A002</td>\n",
        "      <td> R051</td>\n",
        "      <td> 02-00-00</td>\n",
        "      <td> 05-24-11</td>\n",
        "      <td> 16:00:00</td>\n",
        "      <td> REGULAR</td>\n",
        "      <td> 3172689</td>\n",
        "      <td> 1099010</td>\n",
        "      <td> 282</td>\n",
        "    </tr>\n",
        "    <tr>\n",
        "      <th>22  </th>\n",
        "      <td> A002</td>\n",
        "      <td> R051</td>\n",
        "      <td> 02-00-00</td>\n",
        "      <td> 05-24-11</td>\n",
        "      <td> 20:00:00</td>\n",
        "      <td> REGULAR</td>\n",
        "      <td> 3173590</td>\n",
        "      <td> 1099055</td>\n",
        "      <td> 901</td>\n",
        "    </tr>\n",
        "    <tr>\n",
        "      <th>23  </th>\n",
        "      <td> A002</td>\n",
        "      <td> R051</td>\n",
        "      <td> 02-00-00</td>\n",
        "      <td> 05-25-11</td>\n",
        "      <td> 00:00:00</td>\n",
        "      <td> REGULAR</td>\n",
        "      <td> 3173803</td>\n",
        "      <td> 1099079</td>\n",
        "      <td> 213</td>\n",
        "    </tr>\n",
        "    <tr>\n",
        "      <th>24  </th>\n",
        "      <td> A002</td>\n",
        "      <td> R051</td>\n",
        "      <td> 02-00-00</td>\n",
        "      <td> 05-25-11</td>\n",
        "      <td> 04:00:00</td>\n",
        "      <td> REGULAR</td>\n",
        "      <td> 3173826</td>\n",
        "      <td> 1099081</td>\n",
        "      <td>  23</td>\n",
        "    </tr>\n",
        "    <tr>\n",
        "      <th>25  </th>\n",
        "      <td> A002</td>\n",
        "      <td> R051</td>\n",
        "      <td> 02-00-00</td>\n",
        "      <td> 05-25-11</td>\n",
        "      <td> 08:00:00</td>\n",
        "      <td> REGULAR</td>\n",
        "      <td> 3173873</td>\n",
        "      <td> 1099178</td>\n",
        "      <td>  47</td>\n",
        "    </tr>\n",
        "    <tr>\n",
        "      <th>26  </th>\n",
        "      <td> A002</td>\n",
        "      <td> R051</td>\n",
        "      <td> 02-00-00</td>\n",
        "      <td> 05-25-11</td>\n",
        "      <td> 12:00:00</td>\n",
        "      <td> REGULAR</td>\n",
        "      <td> 3174022</td>\n",
        "      <td> 1099496</td>\n",
        "      <td> 149</td>\n",
        "    </tr>\n",
        "    <tr>\n",
        "      <th>27  </th>\n",
        "      <td> A002</td>\n",
        "      <td> R051</td>\n",
        "      <td> 02-00-00</td>\n",
        "      <td> 05-25-11</td>\n",
        "      <td> 16:00:00</td>\n",
        "      <td> REGULAR</td>\n",
        "      <td> 3174309</td>\n",
        "      <td> 1099572</td>\n",
        "      <td> 287</td>\n",
        "    </tr>\n",
        "    <tr>\n",
        "      <th>28  </th>\n",
        "      <td> A002</td>\n",
        "      <td> R051</td>\n",
        "      <td> 02-00-00</td>\n",
        "      <td> 05-25-11</td>\n",
        "      <td> 20:00:00</td>\n",
        "      <td> REGULAR</td>\n",
        "      <td> 3175172</td>\n",
        "      <td> 1099651</td>\n",
        "      <td> 863</td>\n",
        "    </tr>\n",
        "    <tr>\n",
        "      <th>29  </th>\n",
        "      <td> A002</td>\n",
        "      <td> R051</td>\n",
        "      <td> 02-00-00</td>\n",
        "      <td> 05-26-11</td>\n",
        "      <td> 00:00:00</td>\n",
        "      <td> REGULAR</td>\n",
        "      <td> 3175360</td>\n",
        "      <td> 1099675</td>\n",
        "      <td> 188</td>\n",
        "    </tr>\n",
        "    <tr>\n",
        "      <th>...</th>\n",
        "      <td>...</td>\n",
        "      <td>...</td>\n",
        "      <td>...</td>\n",
        "      <td>...</td>\n",
        "      <td>...</td>\n",
        "      <td>...</td>\n",
        "      <td>...</td>\n",
        "      <td>...</td>\n",
        "      <td>...</td>\n",
        "    </tr>\n",
        "    <tr>\n",
        "      <th>7310</th>\n",
        "      <td> A042</td>\n",
        "      <td> R086</td>\n",
        "      <td> 01-00-04</td>\n",
        "      <td> 05-22-11</td>\n",
        "      <td> 20:00:00</td>\n",
        "      <td> REGULAR</td>\n",
        "      <td>  912511</td>\n",
        "      <td> 4167549</td>\n",
        "      <td> 362</td>\n",
        "    </tr>\n",
        "    <tr>\n",
        "      <th>7311</th>\n",
        "      <td> A042</td>\n",
        "      <td> R086</td>\n",
        "      <td> 01-00-04</td>\n",
        "      <td> 05-23-11</td>\n",
        "      <td> 00:00:00</td>\n",
        "      <td> REGULAR</td>\n",
        "      <td>  912606</td>\n",
        "      <td> 4167828</td>\n",
        "      <td>  95</td>\n",
        "    </tr>\n",
        "    <tr>\n",
        "      <th>7312</th>\n",
        "      <td> A042</td>\n",
        "      <td> R086</td>\n",
        "      <td> 01-00-04</td>\n",
        "      <td> 05-23-11</td>\n",
        "      <td> 04:00:00</td>\n",
        "      <td> REGULAR</td>\n",
        "      <td>  912616</td>\n",
        "      <td> 4167855</td>\n",
        "      <td>  10</td>\n",
        "    </tr>\n",
        "    <tr>\n",
        "      <th>7313</th>\n",
        "      <td> A042</td>\n",
        "      <td> R086</td>\n",
        "      <td> 01-00-04</td>\n",
        "      <td> 05-23-11</td>\n",
        "      <td> 08:00:00</td>\n",
        "      <td> REGULAR</td>\n",
        "      <td>  912622</td>\n",
        "      <td> 4168025</td>\n",
        "      <td>   6</td>\n",
        "    </tr>\n",
        "    <tr>\n",
        "      <th>7314</th>\n",
        "      <td> A042</td>\n",
        "      <td> R086</td>\n",
        "      <td> 01-00-04</td>\n",
        "      <td> 05-23-11</td>\n",
        "      <td> 12:00:00</td>\n",
        "      <td> REGULAR</td>\n",
        "      <td>  912679</td>\n",
        "      <td> 4168923</td>\n",
        "      <td>  57</td>\n",
        "    </tr>\n",
        "    <tr>\n",
        "      <th>7315</th>\n",
        "      <td> A042</td>\n",
        "      <td> R086</td>\n",
        "      <td> 01-00-04</td>\n",
        "      <td> 05-23-11</td>\n",
        "      <td> 16:00:00</td>\n",
        "      <td> REGULAR</td>\n",
        "      <td>  912843</td>\n",
        "      <td> 4169719</td>\n",
        "      <td> 164</td>\n",
        "    </tr>\n",
        "    <tr>\n",
        "      <th>7316</th>\n",
        "      <td> A042</td>\n",
        "      <td> R086</td>\n",
        "      <td> 01-00-04</td>\n",
        "      <td> 05-23-11</td>\n",
        "      <td> 20:00:00</td>\n",
        "      <td> REGULAR</td>\n",
        "      <td>  913194</td>\n",
        "      <td> 4170521</td>\n",
        "      <td> 351</td>\n",
        "    </tr>\n",
        "    <tr>\n",
        "      <th>7317</th>\n",
        "      <td> A042</td>\n",
        "      <td> R086</td>\n",
        "      <td> 01-00-04</td>\n",
        "      <td> 05-24-11</td>\n",
        "      <td> 00:00:00</td>\n",
        "      <td> REGULAR</td>\n",
        "      <td>  913291</td>\n",
        "      <td> 4170682</td>\n",
        "      <td>  97</td>\n",
        "    </tr>\n",
        "    <tr>\n",
        "      <th>7318</th>\n",
        "      <td> A042</td>\n",
        "      <td> R086</td>\n",
        "      <td> 01-00-04</td>\n",
        "      <td> 05-24-11</td>\n",
        "      <td> 04:00:00</td>\n",
        "      <td> REGULAR</td>\n",
        "      <td>  913300</td>\n",
        "      <td> 4170711</td>\n",
        "      <td>   9</td>\n",
        "    </tr>\n",
        "    <tr>\n",
        "      <th>7319</th>\n",
        "      <td> A042</td>\n",
        "      <td> R086</td>\n",
        "      <td> 01-00-04</td>\n",
        "      <td> 05-24-11</td>\n",
        "      <td> 08:00:00</td>\n",
        "      <td> REGULAR</td>\n",
        "      <td>  913309</td>\n",
        "      <td> 4170890</td>\n",
        "      <td>   9</td>\n",
        "    </tr>\n",
        "    <tr>\n",
        "      <th>7320</th>\n",
        "      <td> A042</td>\n",
        "      <td> R086</td>\n",
        "      <td> 01-00-04</td>\n",
        "      <td> 05-24-11</td>\n",
        "      <td> 12:00:00</td>\n",
        "      <td> REGULAR</td>\n",
        "      <td>  913360</td>\n",
        "      <td> 4171856</td>\n",
        "      <td>  51</td>\n",
        "    </tr>\n",
        "    <tr>\n",
        "      <th>7321</th>\n",
        "      <td> A042</td>\n",
        "      <td> R086</td>\n",
        "      <td> 01-00-04</td>\n",
        "      <td> 05-24-11</td>\n",
        "      <td> 16:00:00</td>\n",
        "      <td> REGULAR</td>\n",
        "      <td>  913536</td>\n",
        "      <td> 4172582</td>\n",
        "      <td> 176</td>\n",
        "    </tr>\n",
        "    <tr>\n",
        "      <th>7322</th>\n",
        "      <td> A042</td>\n",
        "      <td> R086</td>\n",
        "      <td> 01-00-04</td>\n",
        "      <td> 05-24-11</td>\n",
        "      <td> 20:00:00</td>\n",
        "      <td> REGULAR</td>\n",
        "      <td>  913892</td>\n",
        "      <td> 4173464</td>\n",
        "      <td> 356</td>\n",
        "    </tr>\n",
        "    <tr>\n",
        "      <th>7323</th>\n",
        "      <td> A042</td>\n",
        "      <td> R086</td>\n",
        "      <td> 01-00-04</td>\n",
        "      <td> 05-25-11</td>\n",
        "      <td> 00:00:00</td>\n",
        "      <td> REGULAR</td>\n",
        "      <td>  914006</td>\n",
        "      <td> 4173624</td>\n",
        "      <td> 114</td>\n",
        "    </tr>\n",
        "    <tr>\n",
        "      <th>7326</th>\n",
        "      <td> A042</td>\n",
        "      <td> R086</td>\n",
        "      <td> 01-00-04</td>\n",
        "      <td> 05-25-11</td>\n",
        "      <td> 08:00:00</td>\n",
        "      <td> REGULAR</td>\n",
        "      <td>  914027</td>\n",
        "      <td> 4173813</td>\n",
        "      <td>  21</td>\n",
        "    </tr>\n",
        "    <tr>\n",
        "      <th>7327</th>\n",
        "      <td> A042</td>\n",
        "      <td> R086</td>\n",
        "      <td> 01-00-04</td>\n",
        "      <td> 05-25-11</td>\n",
        "      <td> 12:00:00</td>\n",
        "      <td> REGULAR</td>\n",
        "      <td>  914087</td>\n",
        "      <td> 4174759</td>\n",
        "      <td>  60</td>\n",
        "    </tr>\n",
        "    <tr>\n",
        "      <th>7328</th>\n",
        "      <td> A042</td>\n",
        "      <td> R086</td>\n",
        "      <td> 01-00-04</td>\n",
        "      <td> 05-25-11</td>\n",
        "      <td> 16:00:00</td>\n",
        "      <td> REGULAR</td>\n",
        "      <td>  914262</td>\n",
        "      <td> 4175544</td>\n",
        "      <td> 175</td>\n",
        "    </tr>\n",
        "    <tr>\n",
        "      <th>7329</th>\n",
        "      <td> A042</td>\n",
        "      <td> R086</td>\n",
        "      <td> 01-00-04</td>\n",
        "      <td> 05-25-11</td>\n",
        "      <td> 20:00:00</td>\n",
        "      <td> REGULAR</td>\n",
        "      <td>  914686</td>\n",
        "      <td> 4176445</td>\n",
        "      <td> 424</td>\n",
        "    </tr>\n",
        "    <tr>\n",
        "      <th>7330</th>\n",
        "      <td> A042</td>\n",
        "      <td> R086</td>\n",
        "      <td> 01-00-04</td>\n",
        "      <td> 05-26-11</td>\n",
        "      <td> 00:00:00</td>\n",
        "      <td> REGULAR</td>\n",
        "      <td>  914808</td>\n",
        "      <td> 4176633</td>\n",
        "      <td> 122</td>\n",
        "    </tr>\n",
        "    <tr>\n",
        "      <th>7331</th>\n",
        "      <td> A042</td>\n",
        "      <td> R086</td>\n",
        "      <td> 01-00-04</td>\n",
        "      <td> 05-26-11</td>\n",
        "      <td> 04:00:00</td>\n",
        "      <td> REGULAR</td>\n",
        "      <td>  914822</td>\n",
        "      <td> 4176664</td>\n",
        "      <td>  14</td>\n",
        "    </tr>\n",
        "    <tr>\n",
        "      <th>7332</th>\n",
        "      <td> A042</td>\n",
        "      <td> R086</td>\n",
        "      <td> 01-00-04</td>\n",
        "      <td> 05-26-11</td>\n",
        "      <td> 08:00:00</td>\n",
        "      <td> REGULAR</td>\n",
        "      <td>  914830</td>\n",
        "      <td> 4176849</td>\n",
        "      <td>   8</td>\n",
        "    </tr>\n",
        "    <tr>\n",
        "      <th>7333</th>\n",
        "      <td> A042</td>\n",
        "      <td> R086</td>\n",
        "      <td> 01-00-04</td>\n",
        "      <td> 05-26-11</td>\n",
        "      <td> 12:00:00</td>\n",
        "      <td> REGULAR</td>\n",
        "      <td>  914902</td>\n",
        "      <td> 4177778</td>\n",
        "      <td>  72</td>\n",
        "    </tr>\n",
        "    <tr>\n",
        "      <th>7334</th>\n",
        "      <td> A042</td>\n",
        "      <td> R086</td>\n",
        "      <td> 01-00-04</td>\n",
        "      <td> 05-26-11</td>\n",
        "      <td> 16:00:00</td>\n",
        "      <td> REGULAR</td>\n",
        "      <td>  915105</td>\n",
        "      <td> 4178603</td>\n",
        "      <td> 203</td>\n",
        "    </tr>\n",
        "    <tr>\n",
        "      <th>7335</th>\n",
        "      <td> A042</td>\n",
        "      <td> R086</td>\n",
        "      <td> 01-00-04</td>\n",
        "      <td> 05-26-11</td>\n",
        "      <td> 20:00:00</td>\n",
        "      <td> REGULAR</td>\n",
        "      <td>  915583</td>\n",
        "      <td> 4179421</td>\n",
        "      <td> 478</td>\n",
        "    </tr>\n",
        "    <tr>\n",
        "      <th>7336</th>\n",
        "      <td> A042</td>\n",
        "      <td> R086</td>\n",
        "      <td> 01-00-04</td>\n",
        "      <td> 05-27-11</td>\n",
        "      <td> 00:00:00</td>\n",
        "      <td> REGULAR</td>\n",
        "      <td>  915724</td>\n",
        "      <td> 4179647</td>\n",
        "      <td> 141</td>\n",
        "    </tr>\n",
        "    <tr>\n",
        "      <th>7337</th>\n",
        "      <td> A042</td>\n",
        "      <td> R086</td>\n",
        "      <td> 01-00-04</td>\n",
        "      <td> 05-27-11</td>\n",
        "      <td> 04:00:00</td>\n",
        "      <td> REGULAR</td>\n",
        "      <td>  915737</td>\n",
        "      <td> 4179675</td>\n",
        "      <td>  13</td>\n",
        "    </tr>\n",
        "    <tr>\n",
        "      <th>7338</th>\n",
        "      <td> A042</td>\n",
        "      <td> R086</td>\n",
        "      <td> 01-00-04</td>\n",
        "      <td> 05-27-11</td>\n",
        "      <td> 08:00:00</td>\n",
        "      <td> REGULAR</td>\n",
        "      <td>  915743</td>\n",
        "      <td> 4179820</td>\n",
        "      <td>   6</td>\n",
        "    </tr>\n",
        "    <tr>\n",
        "      <th>7339</th>\n",
        "      <td> A042</td>\n",
        "      <td> R086</td>\n",
        "      <td> 01-00-04</td>\n",
        "      <td> 05-27-11</td>\n",
        "      <td> 12:00:00</td>\n",
        "      <td> REGULAR</td>\n",
        "      <td>  915806</td>\n",
        "      <td> 4180746</td>\n",
        "      <td>  63</td>\n",
        "    </tr>\n",
        "    <tr>\n",
        "      <th>7340</th>\n",
        "      <td> A042</td>\n",
        "      <td> R086</td>\n",
        "      <td> 01-00-04</td>\n",
        "      <td> 05-27-11</td>\n",
        "      <td> 16:00:00</td>\n",
        "      <td> REGULAR</td>\n",
        "      <td>  916090</td>\n",
        "      <td> 4181746</td>\n",
        "      <td> 284</td>\n",
        "    </tr>\n",
        "    <tr>\n",
        "      <th>7341</th>\n",
        "      <td> A042</td>\n",
        "      <td> R086</td>\n",
        "      <td> 01-00-04</td>\n",
        "      <td> 05-27-11</td>\n",
        "      <td> 20:00:00</td>\n",
        "      <td> REGULAR</td>\n",
        "      <td>  916517</td>\n",
        "      <td> 4182631</td>\n",
        "      <td> 427</td>\n",
        "    </tr>\n",
        "  </tbody>\n",
        "</table>\n",
        "<p>6182 rows \u00d7 9 columns</p>\n",
        "</div>"
       ],
       "metadata": {},
       "output_type": "pyout",
       "prompt_number": 15,
       "text": [
        "       C/A  UNIT       SCP     DATEn     TIMEn    DESCn  ENTRIESn   EXITSn  \\\n",
        "0     A002  R051  02-00-00  05-21-11  04:00:00  REGULAR   3169415  1097588   \n",
        "1     A002  R051  02-00-00  05-21-11  08:00:00  REGULAR   3169431  1097607   \n",
        "2     A002  R051  02-00-00  05-21-11  12:00:00  REGULAR   3169506  1097686   \n",
        "3     A002  R051  02-00-00  05-21-11  16:00:00  REGULAR   3169693  1097734   \n",
        "4     A002  R051  02-00-00  05-21-11  20:00:00  REGULAR   3169998  1097769   \n",
        "5     A002  R051  02-00-00  05-22-11  00:00:00  REGULAR   3170119  1097792   \n",
        "6     A002  R051  02-00-00  05-22-11  04:00:00  REGULAR   3170146  1097801   \n",
        "7     A002  R051  02-00-00  05-22-11  08:00:00  REGULAR   3170164  1097820   \n",
        "8     A002  R051  02-00-00  05-22-11  12:00:00  REGULAR   3170240  1097867   \n",
        "9     A002  R051  02-00-00  05-22-11  16:00:00  REGULAR   3170388  1097912   \n",
        "10    A002  R051  02-00-00  05-22-11  20:00:00  REGULAR   3170611  1097941   \n",
        "11    A002  R051  02-00-00  05-23-11  00:00:00  REGULAR   3170695  1097964   \n",
        "12    A002  R051  02-00-00  05-23-11  04:00:00  REGULAR   3170701  1097964   \n",
        "13    A002  R051  02-00-00  05-23-11  08:00:00  REGULAR   3170746  1098069   \n",
        "14    A002  R051  02-00-00  05-23-11  12:00:00  REGULAR   3170897  1098378   \n",
        "15    A002  R051  02-00-00  05-23-11  16:00:00  REGULAR   3171194  1098447   \n",
        "16    A002  R051  02-00-00  05-23-11  20:00:00  REGULAR   3172059  1098511   \n",
        "17    A002  R051  02-00-00  05-24-11  00:00:00  REGULAR   3172200  1098528   \n",
        "18    A002  R051  02-00-00  05-24-11  04:00:00  REGULAR   3172214  1098529   \n",
        "19    A002  R051  02-00-00  05-24-11  08:00:00  REGULAR   3172266  1098628   \n",
        "20    A002  R051  02-00-00  05-24-11  12:00:00  REGULAR   3172407  1098952   \n",
        "21    A002  R051  02-00-00  05-24-11  16:00:00  REGULAR   3172689  1099010   \n",
        "22    A002  R051  02-00-00  05-24-11  20:00:00  REGULAR   3173590  1099055   \n",
        "23    A002  R051  02-00-00  05-25-11  00:00:00  REGULAR   3173803  1099079   \n",
        "24    A002  R051  02-00-00  05-25-11  04:00:00  REGULAR   3173826  1099081   \n",
        "25    A002  R051  02-00-00  05-25-11  08:00:00  REGULAR   3173873  1099178   \n",
        "26    A002  R051  02-00-00  05-25-11  12:00:00  REGULAR   3174022  1099496   \n",
        "27    A002  R051  02-00-00  05-25-11  16:00:00  REGULAR   3174309  1099572   \n",
        "28    A002  R051  02-00-00  05-25-11  20:00:00  REGULAR   3175172  1099651   \n",
        "29    A002  R051  02-00-00  05-26-11  00:00:00  REGULAR   3175360  1099675   \n",
        "...    ...   ...       ...       ...       ...      ...       ...      ...   \n",
        "7310  A042  R086  01-00-04  05-22-11  20:00:00  REGULAR    912511  4167549   \n",
        "7311  A042  R086  01-00-04  05-23-11  00:00:00  REGULAR    912606  4167828   \n",
        "7312  A042  R086  01-00-04  05-23-11  04:00:00  REGULAR    912616  4167855   \n",
        "7313  A042  R086  01-00-04  05-23-11  08:00:00  REGULAR    912622  4168025   \n",
        "7314  A042  R086  01-00-04  05-23-11  12:00:00  REGULAR    912679  4168923   \n",
        "7315  A042  R086  01-00-04  05-23-11  16:00:00  REGULAR    912843  4169719   \n",
        "7316  A042  R086  01-00-04  05-23-11  20:00:00  REGULAR    913194  4170521   \n",
        "7317  A042  R086  01-00-04  05-24-11  00:00:00  REGULAR    913291  4170682   \n",
        "7318  A042  R086  01-00-04  05-24-11  04:00:00  REGULAR    913300  4170711   \n",
        "7319  A042  R086  01-00-04  05-24-11  08:00:00  REGULAR    913309  4170890   \n",
        "7320  A042  R086  01-00-04  05-24-11  12:00:00  REGULAR    913360  4171856   \n",
        "7321  A042  R086  01-00-04  05-24-11  16:00:00  REGULAR    913536  4172582   \n",
        "7322  A042  R086  01-00-04  05-24-11  20:00:00  REGULAR    913892  4173464   \n",
        "7323  A042  R086  01-00-04  05-25-11  00:00:00  REGULAR    914006  4173624   \n",
        "7326  A042  R086  01-00-04  05-25-11  08:00:00  REGULAR    914027  4173813   \n",
        "7327  A042  R086  01-00-04  05-25-11  12:00:00  REGULAR    914087  4174759   \n",
        "7328  A042  R086  01-00-04  05-25-11  16:00:00  REGULAR    914262  4175544   \n",
        "7329  A042  R086  01-00-04  05-25-11  20:00:00  REGULAR    914686  4176445   \n",
        "7330  A042  R086  01-00-04  05-26-11  00:00:00  REGULAR    914808  4176633   \n",
        "7331  A042  R086  01-00-04  05-26-11  04:00:00  REGULAR    914822  4176664   \n",
        "7332  A042  R086  01-00-04  05-26-11  08:00:00  REGULAR    914830  4176849   \n",
        "7333  A042  R086  01-00-04  05-26-11  12:00:00  REGULAR    914902  4177778   \n",
        "7334  A042  R086  01-00-04  05-26-11  16:00:00  REGULAR    915105  4178603   \n",
        "7335  A042  R086  01-00-04  05-26-11  20:00:00  REGULAR    915583  4179421   \n",
        "7336  A042  R086  01-00-04  05-27-11  00:00:00  REGULAR    915724  4179647   \n",
        "7337  A042  R086  01-00-04  05-27-11  04:00:00  REGULAR    915737  4179675   \n",
        "7338  A042  R086  01-00-04  05-27-11  08:00:00  REGULAR    915743  4179820   \n",
        "7339  A042  R086  01-00-04  05-27-11  12:00:00  REGULAR    915806  4180746   \n",
        "7340  A042  R086  01-00-04  05-27-11  16:00:00  REGULAR    916090  4181746   \n",
        "7341  A042  R086  01-00-04  05-27-11  20:00:00  REGULAR    916517  4182631   \n",
        "\n",
        "      ENTRIESn_hourly  \n",
        "0                   1  \n",
        "1                  16  \n",
        "2                  75  \n",
        "3                 187  \n",
        "4                 305  \n",
        "5                 121  \n",
        "6                  27  \n",
        "7                  18  \n",
        "8                  76  \n",
        "9                 148  \n",
        "10                223  \n",
        "11                 84  \n",
        "12                  6  \n",
        "13                 45  \n",
        "14                151  \n",
        "15                297  \n",
        "16                865  \n",
        "17                141  \n",
        "18                 14  \n",
        "19                 52  \n",
        "20                141  \n",
        "21                282  \n",
        "22                901  \n",
        "23                213  \n",
        "24                 23  \n",
        "25                 47  \n",
        "26                149  \n",
        "27                287  \n",
        "28                863  \n",
        "29                188  \n",
        "...               ...  \n",
        "7310              362  \n",
        "7311               95  \n",
        "7312               10  \n",
        "7313                6  \n",
        "7314               57  \n",
        "7315              164  \n",
        "7316              351  \n",
        "7317               97  \n",
        "7318                9  \n",
        "7319                9  \n",
        "7320               51  \n",
        "7321              176  \n",
        "7322              356  \n",
        "7323              114  \n",
        "7326               21  \n",
        "7327               60  \n",
        "7328              175  \n",
        "7329              424  \n",
        "7330              122  \n",
        "7331               14  \n",
        "7332                8  \n",
        "7333               72  \n",
        "7334              203  \n",
        "7335              478  \n",
        "7336              141  \n",
        "7337               13  \n",
        "7338                6  \n",
        "7339               63  \n",
        "7340              284  \n",
        "7341              427  \n",
        "\n",
        "[6182 rows x 9 columns]"
       ]
      }
     ],
     "prompt_number": 15
    }
   ],
   "metadata": {}
  }
 ]
}