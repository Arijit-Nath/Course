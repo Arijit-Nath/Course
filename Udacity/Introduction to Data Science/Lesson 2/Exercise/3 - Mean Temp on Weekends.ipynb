{
 "metadata": {
  "name": "",
  "signature": "sha256:c0f3592e4d39795e9521b78f0059fd9f513cbcc2f3463da198af899f31b3f158"
 },
 "nbformat": 3,
 "nbformat_minor": 0,
 "worksheets": [
  {
   "cells": [
    {
     "cell_type": "code",
     "collapsed": false,
     "input": [
      "import pandas\n",
      "import pandasql\n",
      "\n",
      "def avg_min_temperature(filename):\n",
      "    '''\n",
      "    This function should run a SQL query on a dataframe of\n",
      "    weather data.  The SQL query should return one column and\n",
      "    one row - the average meantempi on days that are a Saturday\n",
      "    or Sunday (i.e., the the average mean temperature on weekends).\n",
      "    The dataframe will be titled 'weather_data' and you can access\n",
      "    the date in the dataframe via the 'date' column.\n",
      "    \n",
      "    You'll need to provide  the SQL query.\n",
      "    \n",
      "    You might also find that interpreting numbers as integers or floats may not\n",
      "    work initially.  In order to get around this issue, it may be equal to cast\n",
      "    these numbers as integers.  This can be done by writing cast(column as integer).\n",
      "    So for example, if we wanted to cast the maxtempi column as an integer, we would actually\n",
      "    write something like where cast(maxtempi as integer) = 76, as opposed to simply \n",
      "    where maxtempi = 76.\n",
      "    \n",
      "    Also, you can convert dates to days of the week via the 'strftime' keyword in SQL.\n",
      "    For example, cast (strftime('%w', date) as integer) will return 0 if the date\n",
      "    is a Sunday or 6 if the date is a Saturday.\n",
      "    \n",
      "    You can see the weather data that we are passing in below:\n",
      "    https://www.dropbox.com/s/7sf0yqc9ykpq3w8/weather_underground.csv\n",
      "    '''\n",
      "    weather_data = pandas.read_csv(filename)\n",
      "\n",
      "    q = \"\"\"\n",
      "    SELECT avg(cast (meantempi as integer))\n",
      "        FROM weather_data\n",
      "        WHERE cast(strftime('%w', date) as integer)= 0 or cast(strftime('%w', date) as integer) = 6\n",
      "    \"\"\"\n",
      "    \n",
      "    #Execute your SQL command against the pandas frame\n",
      "    mean_temp_weekends = pandasql.sqldf(q.lower(), locals())\n",
      "    return mean_temp_weekends"
     ],
     "language": "python",
     "metadata": {},
     "outputs": [],
     "prompt_number": 1
    },
    {
     "cell_type": "code",
     "collapsed": false,
     "input": [
      "filename =\"C:\\Vindico\\Projects\\Data\\Course\\Python\\Udacity\\Introduction to Data Science\\Lesson 2\\Exercise\\weather_underground.csv\"\n",
      "avg_min_temperature(filename)"
     ],
     "language": "python",
     "metadata": {},
     "outputs": [
      {
       "html": [
        "<div style=\"max-height:1000px;max-width:1500px;overflow:auto;\">\n",
        "<table border=\"1\" class=\"dataframe\">\n",
        "  <thead>\n",
        "    <tr style=\"text-align: right;\">\n",
        "      <th></th>\n",
        "      <th>avg(cast (meantempi as integer))</th>\n",
        "    </tr>\n",
        "  </thead>\n",
        "  <tbody>\n",
        "    <tr>\n",
        "      <th>0</th>\n",
        "      <td> 65.111111</td>\n",
        "    </tr>\n",
        "  </tbody>\n",
        "</table>\n",
        "</div>"
       ],
       "metadata": {},
       "output_type": "pyout",
       "prompt_number": 2,
       "text": [
        "   avg(cast (meantempi as integer))\n",
        "0                         65.111111"
       ]
      }
     ],
     "prompt_number": 2
    },
    {
     "cell_type": "code",
     "collapsed": false,
     "input": [],
     "language": "python",
     "metadata": {},
     "outputs": []
    }
   ],
   "metadata": {}
  }
 ]
}