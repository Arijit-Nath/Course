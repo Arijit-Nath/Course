{
 "metadata": {
  "name": "",
  "signature": "sha256:ce9d0c8191fc517dde4f4d4e12c76e509148ebc211808abfe0e5564ddb888117"
 },
 "nbformat": 3,
 "nbformat_minor": 0,
 "worksheets": [
  {
   "cells": [
    {
     "cell_type": "code",
     "collapsed": false,
     "input": [
      "import numpy\n",
      "import pandas\n",
      "import statsmodels.api as sm"
     ],
     "language": "python",
     "metadata": {},
     "outputs": [],
     "prompt_number": 1
    },
    {
     "cell_type": "code",
     "collapsed": false,
     "input": [
      "def simple_heuristic(file_path):\n",
      "    '''\n",
      "    In this exercise, we will perform some rudimentary practices similar to those of\n",
      "    an actual data scientist.\n",
      "    \n",
      "    Part of a data scientist's job is to use her or his intuition and insight to\n",
      "    write algorithms and heuristics. A data scientist also creates mathematical models \n",
      "    to make predictions based on some attributes from the data that they are examining.\n",
      "\n",
      "    We would like for you to take your knowledge and intuition about the Titanic\n",
      "    and its passengers' attributes to predict whether or not the passengers survived\n",
      "    or perished. You can read more about the Titanic and specifics about this dataset at:\n",
      "    http://en.wikipedia.org/wiki/RMS_Titanic\n",
      "    http://www.kaggle.com/c/titanic-gettingStarted\n",
      "        \n",
      "    In this exercise and the following ones, you are given a list of Titantic passengers\n",
      "    and their associating information. More information about the data can be seen at the \n",
      "    link below:\n",
      "    http://www.kaggle.com/c/titanic-gettingStarted/data. \n",
      "\n",
      "    For this exercise, you need to write a simple heuristic that will use\n",
      "    the passengers' gender to predict if that person survived the Titanic diaster.\n",
      "    \n",
      "    You prediction should be 78% accurate or higher.\n",
      "        \n",
      "    Here's a simple heuristic to start off:\n",
      "       1) If the passenger is female, your heuristic should assume that the\n",
      "       passenger survived.\n",
      "       2) If the passenger is male, you heuristic should\n",
      "       assume that the passenger did not surive.\n",
      "    \n",
      "    You can access the gender of a passenger via passenger['Sex'].\n",
      "    If the passenger is male, passenger['Sex'] will return a string \"male\".\n",
      "    If the passenger is female, passenger['Sex'] will return a string \"female\".\n",
      "\n",
      "    Write your prediction back into the \"predictions\" dictionary. The\n",
      "    key of the dictionary should be the Passenger's id (which can be accessed\n",
      "    via passenger[\"PassengerId\"]) and the associating value should be 1 if the\n",
      "    passenger survied or 0 otherwise. \n",
      "\n",
      "    For example, if a passenger survived:\n",
      "    passenger_id = passenger['PassengerId']\n",
      "    predictions[passenger_id] = 1\n",
      "\n",
      "    Or if a passenger perished in the disaster:\n",
      "    passenger_id = passenger['PassengerId']\n",
      "    predictions[passenger_id] = 0\n",
      "    \n",
      "    You can also look at the titantic data that you will be working with\n",
      "    at the link below:\n",
      "    https://www.dropbox.com/s/r5f9aos8p9ri9sa/titanic_data.csv\n",
      "    '''"
     ],
     "language": "python",
     "metadata": {},
     "outputs": [],
     "prompt_number": 2
    },
    {
     "cell_type": "code",
     "collapsed": false,
     "input": [
      "predictions = {}"
     ],
     "language": "python",
     "metadata": {},
     "outputs": []
    }
   ],
   "metadata": {}
  }
 ]
}