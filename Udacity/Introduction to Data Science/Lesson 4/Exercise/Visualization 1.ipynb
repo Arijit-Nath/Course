{
 "metadata": {
  "name": "",
  "signature": "sha256:082b668a5e22e47acf88c8154b35f67921375a07ee43755c72a07e1848d88008"
 },
 "nbformat": 3,
 "nbformat_minor": 0,
 "worksheets": [
  {
   "cells": [
    {
     "cell_type": "code",
     "collapsed": false,
     "input": [
      "import pandas as pd\n",
      "from datetime import datetime\n",
      "from ggplot import *\n",
      "# %matplotlib inline\n",
      "\n",
      "def plot_weather_data(turnstile_weather):\n",
      "    '''\n",
      "    You are passed in a dataframe called turnstile_weather. \n",
      "    Use turnstile_weather along with ggplot to make a data visualization\n",
      "    focused on the MTA and weather data we used in assignment #3.  \n",
      "    You should feel free to implement something that we discussed in class \n",
      "    (e.g., scatterplots, line plots, or histograms) or attempt to implement\n",
      "    something more advanced if you'd like.  \n",
      "\n",
      "    Here are some suggestions for things to investigate and illustrate:\n",
      "     * Ridership by time of day or day of week\n",
      "     * How ridership varies based on Subway station\n",
      "     * Which stations have more exits or entries at different times of day\n",
      "\n",
      "    If you'd like to learn more about ggplot and its capabilities, take\n",
      "    a look at the documentation at:\n",
      "    https://pypi.python.org/pypi/ggplot/\n",
      "     \n",
      "    You can check out:\n",
      "    https://www.dropbox.com/s/meyki2wl9xfa7yk/turnstile_data_master_with_weather.csv\n",
      "     \n",
      "    To see all the columns and data points included in the turnstile_weather \n",
      "    dataframe. \n",
      "     \n",
      "    However, due to the limitation of our Amazon EC2 server, we are giving you about 1/3\n",
      "    of the actual data in the turnstile_weather dataframe\n",
      "    '''    \n",
      "    turnstile_weather = pd.read_csv(turnstile_weather)\n",
      "    daysn = []\n",
      "\n",
      "    def get_day(date):\n",
      "        return datetime.strftime(datetime.strptime(date,'%Y-%m-%d').date(),'%a')\n",
      "\n",
      "    for the_date in turnstile_weather['DATEn']:\n",
      "        daysn.append(get_day(the_date))\n",
      "\n",
      "    turnstile_weather['Dayn'] = daysn\n",
      "\n",
      "    grouped = turnstile_weather.groupby('Dayn',as_index=False).sum()\n",
      "    plot = ggplot(grouped, aes(x='Dayn',y='ENTRIESn_hourly')) + \\\n",
      "           geom_bar(aes(weight='ENTRIESn_hourly'), fill='blue')\n",
      "\n",
      "    return plot"
     ],
     "language": "python",
     "metadata": {},
     "outputs": [],
     "prompt_number": 3
    },
    {
     "cell_type": "code",
     "collapsed": false,
     "input": [
      "plot_weather_data('C:/Vindico/Projects/Data/Course/Python/Udacity/Introduction to Data Science/Lesson 4/turnstile_data_master_with_weather.csv')"
     ],
     "language": "python",
     "metadata": {},
     "outputs": [
      {
       "output_type": "stream",
       "stream": "stderr",
       "text": [
        "A variable was mapped to y.\n",
        "    stat_bin sets the y value to the count of cases in each group.\n",
        "    The mapping to y was ignored.\n",
        "    If you want y to represent values in the data, use stat=\"bar\".\n",
        "C:\\Anaconda\\lib\\site-packages\\pandas\\util\\decorators.py:81: FutureWarning: the 'rows' keyword is deprecated, use 'index' instead\n",
        "  warnings.warn(msg, FutureWarning)\n"
       ]
      },
      {
       "metadata": {},
       "output_type": "pyout",
       "prompt_number": 2,
       "text": [
        "<ggplot: (4109067)>"
       ]
      }
     ],
     "prompt_number": 2
    },
    {
     "cell_type": "code",
     "collapsed": false,
     "input": [
      "def plot_weather_data(turnstile_weather):\n",
      "    '''\n",
      "    You are passed in a dataframe called turnstile_weather. \n",
      "    Use turnstile_weather along with ggplot to make a data visualization\n",
      "    focused on the MTA and weather data we used in assignment #3.  \n",
      "    You should feel free to implement something that we discussed in class \n",
      "    (e.g., scatterplots, line plots, or histograms) or attempt to implement\n",
      "    something more advanced if you'd like.  \n",
      "\n",
      "    Here are some suggestions for things to investigate and illustrate:\n",
      "     * Ridership by time of day or day of week\n",
      "     * How ridership varies based on Subway station\n",
      "     * Which stations have more exits or entries at different times of day\n",
      "\n",
      "    If you'd like to learn more about ggplot and its capabilities, take\n",
      "    a look at the documentation at:\n",
      "    https://pypi.python.org/pypi/ggplot/\n",
      "     \n",
      "    You can check out:\n",
      "    https://www.dropbox.com/s/meyki2wl9xfa7yk/turnstile_data_master_with_weather.csv\n",
      "     \n",
      "    To see all the columns and data points included in the turnstile_weather \n",
      "    dataframe. \n",
      "     \n",
      "    However, due to the limitation of our Amazon EC2 server, we are giving you about 1/3\n",
      "    of the actual data in the turnstile_weather dataframe\n",
      "    '''    \n",
      "    turnstile_weather = pd.read_csv(turnstile_weather)\n",
      "    turnstile_weather.DATEn = pd.to_datetime(turnstile_weather.DATEn) \n",
      "    grouped = turnstile_weather.groupby('DATEn', as_index=False).sum()\n",
      "    grouped.index.name = \"DATEn\"\n",
      "    plot  = ggplot(grouped, aes(x = 'DATEn', y = 'EXITSn_hourly'))\n",
      "    plot = plot + geom_line()\n",
      "    return plot"
     ],
     "language": "python",
     "metadata": {},
     "outputs": [],
     "prompt_number": 4
    },
    {
     "cell_type": "code",
     "collapsed": false,
     "input": [
      "plot_weather_data('C:/Vindico/Projects/Data/Course/Python/Udacity/Introduction to Data Science/Lesson 4/turnstile_data_master_with_weather.csv')"
     ],
     "language": "python",
     "metadata": {},
     "outputs": [
      {
       "metadata": {},
       "output_type": "pyout",
       "prompt_number": 5,
       "text": [
        "<ggplot: (22284253)>"
       ]
      }
     ],
     "prompt_number": 5
    }
   ],
   "metadata": {}
  }
 ]
}