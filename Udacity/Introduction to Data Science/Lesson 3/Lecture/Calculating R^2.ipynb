{
 "metadata": {
  "name": "",
  "signature": "sha256:60a8082dd301553f0535010e5edde68e6a15581799cb431a05fae044fd3fe9de"
 },
 "nbformat": 3,
 "nbformat_minor": 0,
 "worksheets": [
  {
   "cells": [
    {
     "cell_type": "code",
     "collapsed": false,
     "input": [
      "import numpy as np\n",
      "\n",
      "def compute_r_squared(data, predictions):\n",
      "    # Write a function that, given two input numpy arrays, 'data', and 'predictions,'\n",
      "    # returns the coefficient of determination, R^2, for the model that produced \n",
      "    # predictions.\n",
      "    # \n",
      "    # Numpy has a couple of functions -- np.mean() and np.sum() --\n",
      "    # that you might find useful, but you don't have to use them.\n",
      "\n",
      "    # YOUR CODE GOES HERE\n",
      "    # Calculate denominator\n",
      "    SST = ((data - np.mean(data)) **2).sum()\n",
      "    # Calculate numerator\n",
      "    SSReg = ((predictions-data)**2).sum()\n",
      "    r_squared = 1 - SSReg / SST\n",
      "\n",
      "    return r_squared"
     ],
     "language": "python",
     "metadata": {},
     "outputs": [],
     "prompt_number": 1
    }
   ],
   "metadata": {}
  }
 ]
}