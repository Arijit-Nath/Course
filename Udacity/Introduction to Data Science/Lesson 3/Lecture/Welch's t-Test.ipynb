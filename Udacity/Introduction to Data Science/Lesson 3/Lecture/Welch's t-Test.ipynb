{
 "metadata": {
  "name": "",
  "signature": "sha256:ed851f25e4179e89adaf2281886833990c24d4c919721188dd212ef26641c34e"
 },
 "nbformat": 3,
 "nbformat_minor": 0,
 "worksheets": [
  {
   "cells": [
    {
     "cell_type": "code",
     "collapsed": false,
     "input": [
      "import numpy\n",
      "import scipy.stats\n",
      "import pandas\n",
      "\n",
      "def compare_averages(filename):\n",
      "    \"\"\"\n",
      "    Performs a t-test on two sets of baseball data (left-handed and right-handed hitters).\n",
      "\n",
      "    You will be given a csv file that has three columns.  A player's\n",
      "    name, handedness (L for lefthanded or R for righthanded) and their\n",
      "    career batting average (called 'avg'). You can look at the csv\n",
      "    file via the following link:\n",
      "    https://www.dropbox.com/s/xcn0u2uxm8c4n6l/baseball_data.csv\n",
      "    \n",
      "    Write a function that will read that the csv file into a pandas data frame,\n",
      "    and run Welch's t-test on the two cohorts defined by handedness.\n",
      "    \n",
      "    One cohort should be a data frame of right-handed batters. And the other\n",
      "    cohort should be a data frame of left-handed batters.\n",
      "    \n",
      "    We have included the scipy.stats library to help you write\n",
      "    or implement Welch's t-test:\n",
      "    http://docs.scipy.org/doc/scipy/reference/stats.html\n",
      "    \n",
      "    With a significance level of 95%, if there is no difference\n",
      "    between the two cohorts, return a tuple consisting of\n",
      "    True, and then the tuple returned by scipy.stats.ttest.  \n",
      "    \n",
      "    If there is a difference, return a tuple consisting of\n",
      "    False, and then the tuple returned by scipy.stats.ttest.\n",
      "    \n",
      "    For example, the tuple that you return may look like:\n",
      "    (True, (9.93570222, 0.000023))\n",
      "    \"\"\"\n",
      "    data = pandas.read_csv(filename)\n",
      "    right = data[data[\"handedness\"] == \"R\"]\n",
      "    left = data[data[\"handedness\"] == \"L\"]\n",
      "    ttest = scipy.stats.ttest_ind(right[\"avg\"],left[\"avg\"], equal_var = False)\n",
      "\n",
      "    if ttest[1] <= 0.05:\n",
      "        return (False,ttest)\n",
      "    else:\n",
      "        return (True,ttest)"
     ],
     "language": "python",
     "metadata": {},
     "outputs": [],
     "prompt_number": 7
    },
    {
     "cell_type": "code",
     "collapsed": false,
     "input": [
      "filename =\"C:/Vindico/Projects/Data/Course/Python/Udacity/Introduction to Data Science/Lesson 3/baseball_data.csv\"\n",
      "compare_averages(filename)"
     ],
     "language": "python",
     "metadata": {},
     "outputs": [
      {
       "metadata": {},
       "output_type": "pyout",
       "prompt_number": 8,
       "text": [
        "(False, (-3.9867064465971302, 7.482391590970722e-05))"
       ]
      }
     ],
     "prompt_number": 8
    }
   ],
   "metadata": {}
  }
 ]
}