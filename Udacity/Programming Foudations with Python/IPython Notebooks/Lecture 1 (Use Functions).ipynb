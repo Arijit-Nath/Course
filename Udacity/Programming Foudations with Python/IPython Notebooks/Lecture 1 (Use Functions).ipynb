{
 "metadata": {
  "name": "",
  "signature": "sha256:b9551e16f157a2d8035b437805cb5c3d5bc0975a1b6a9788ad8fe1a8094eacb4"
 },
 "nbformat": 3,
 "nbformat_minor": 0,
 "worksheets": [
  {
   "cells": [
    {
     "cell_type": "code",
     "collapsed": false,
     "input": [
      "## Show video after a break time\n",
      "import time\n",
      "import webbrowser\n",
      "\n",
      "total_breaks = 3\n",
      "break_count = 0\n",
      "\n",
      "print(\"This program started on \"+time.ctime())\n",
      "while (break_count < total_breaks):\n",
      "    time.sleep(2*60*60)\n",
      "    webbrowser.open(\"http://www.youtube.com/watch?v=nfWlot6h_JM\")\n",
      "    break_count = break_count + 1"
     ],
     "language": "python",
     "metadata": {},
     "outputs": [],
     "prompt_number": 10
    },
    {
     "cell_type": "code",
     "collapsed": false,
     "input": [
      "# Change file names\n",
      "\n",
      "import os\n",
      "def rename_files():\n",
      "    # (1) get file names from a folder\n",
      "    file_list = os.listdir(r\"C:\\temp\\prank\")\n",
      "    #print(file_list)\n",
      "    saved_path = os.getcwd()\n",
      "    print(\"Current working directory is \"+ saved_path)\n",
      "    os.chdir(r\"C:\\temp\\prank\")\n",
      "    \n",
      "    # (2) for each file, rename filename\n",
      "    for file_name in file_list:\n",
      "        print(\"Old Name - \"+file_name)\n",
      "        print(\"New Name -\"+file_name.translate(None, \"0123456789\"))\n",
      "        os.rename(file_name, file_name.translate(None, \"0123456789\"))\n",
      "    os.chdir(saved_path)\n",
      "    \n",
      "rename_files()"
     ],
     "language": "python",
     "metadata": {},
     "outputs": [
      {
       "output_type": "stream",
       "stream": "stdout",
       "text": [
        "Current working directory is C:\\Users\\tvu\\Documents\\IPython Notebooks\\Course\\Udacity\\Programming Foundations with Python\n",
        "Old Name - .DS_Store\n",
        "New Name -.DS_Store\n",
        "Old Name - 16los angeles.jpg\n",
        "New Name -los angeles.jpg\n",
        "Old Name - 17cairo.jpg\n",
        "New Name -cairo.jpg\n",
        "Old Name - 22rochester.jpg\n",
        "New Name -rochester.jpg\n",
        "Old Name - 25madrid.jpg\n",
        "New Name -madrid.jpg\n",
        "Old Name - 28houston.jpg\n",
        "New Name -houston.jpg\n",
        "Old Name - 29bristol.jpg\n",
        "New Name -bristol.jpg\n",
        "Old Name - 29buenos aires.jpg\n",
        "New Name -buenos aires.jpg\n",
        "Old Name - 2chennai.jpg\n",
        "New Name -chennai.jpg\n",
        "Old Name - 2hyderabad.jpg\n",
        "New Name -hyderabad.jpg\n",
        "Old Name - 35miami.jpg\n",
        "New Name -miami.jpg\n",
        "Old Name - 36sydney.jpg\n",
        "New Name -sydney.jpg\n",
        "Old Name - 37athens.jpg\n",
        "New Name -athens.jpg\n",
        "Old Name - 41seoul.jpg\n",
        "New Name -seoul.jpg\n",
        "Old Name - 45austin.jpg\n",
        "New Name -austin.jpg\n",
        "Old Name - 45ithaca.jpg\n",
        "New Name -ithaca.jpg\n",
        "Old Name - 46colombo.jpg\n",
        "New Name -colombo.jpg\n",
        "Old Name - 47london.jpg\n",
        "New Name -london.jpg\n",
        "Old Name - 47sao paulo.jpg\n",
        "New Name -sao paulo.jpg\n",
        "Old Name - 47singapore.jpg\n",
        "New Name -singapore.jpg\n",
        "Old Name - 48sunnyvale.jpg\n",
        "New Name -sunnyvale.jpg\n",
        "Old Name - 4istanbul.jpg\n",
        "New Name -istanbul.jpg\n",
        "Old Name - 50san diego.jpg\n",
        "New Name -san diego.jpg\n",
        "Old Name - 52new york.jpg\n",
        "New Name -new york.jpg\n",
        "Old Name - 54dallas.jpg\n",
        "New Name -dallas.jpg\n",
        "Old Name - 55kiev.jpg\n",
        "New Name -kiev.jpg\n",
        "Old Name - 5bogota.jpg\n",
        "New Name -bogota.jpg\n",
        "Old Name - 61edinbrugh.jpg\n",
        "New Name -edinbrugh.jpg\n",
        "Old Name - 64seattle.jpg\n",
        "New Name -seattle.jpg\n",
        "Old Name - 66san jose.jpg\n",
        "New Name -san jose.jpg\n",
        "Old Name - 68pune.jpg\n",
        "New Name -pune.jpg\n",
        "Old Name - 69chicago.jpg\n",
        "New Name -chicago.jpg\n",
        "Old Name - 69shanghai.jpg\n",
        "New Name -shanghai.jpg\n",
        "Old Name - 72bangalore.jpg\n",
        "New Name -bangalore.jpg\n",
        "Old Name - 72bucharest.jpg\n",
        "New Name -bucharest.jpg\n",
        "Old Name - 73delhi.jpg\n",
        "New Name -delhi.jpg\n",
        "Old Name - 74tel aviv.jpg\n",
        "New Name -tel aviv.jpg\n",
        "Old Name - 83gainesville.jpg\n",
        "New Name -gainesville.jpg\n",
        "Old Name - 88jacksonville.jpg\n",
        "New Name -jacksonville.jpg\n",
        "Old Name - 89berkeley.jpg\n",
        "New Name -berkeley.jpg\n",
        "Old Name - 90beijing.jpg\n",
        "New Name -beijing.jpg\n",
        "Old Name - 93manchester.jpg\n",
        "New Name -manchester.jpg\n",
        "Old Name - 96karachi.jpg\n",
        "New Name -karachi.jpg\n",
        "Old Name - 97oakland.jpg\n",
        "New Name -oakland.jpg\n",
        "Old Name - 9barcelona.jpg\n",
        "New Name -barcelona.jpg\n"
       ]
      }
     ],
     "prompt_number": 1
    },
    {
     "cell_type": "code",
     "collapsed": false,
     "input": [],
     "language": "python",
     "metadata": {},
     "outputs": [
      {
       "output_type": "stream",
       "stream": "stdout",
       "text": [
        "['.DS_Store', '16los angeles.jpg', '17cairo.jpg', '22rochester.jpg', '25madrid.jpg', '28houston.jpg', '29bristol.jpg', '29buenos aires.jpg', '2chennai.jpg', '2hyderabad.jpg', '35miami.jpg', '36sydney.jpg', '37athens.jpg', '41seoul.jpg', '45austin.jpg', '45ithaca.jpg', '46colombo.jpg', '47london.jpg', '47sao paulo.jpg', '47singapore.jpg', '48sunnyvale.jpg', '4istanbul.jpg', '50san diego.jpg', '52new york.jpg', '54dallas.jpg', '55kiev.jpg', '5bogota.jpg', '61edinbrugh.jpg', '64seattle.jpg', '66san jose.jpg', '68pune.jpg', '69chicago.jpg', '69shanghai.jpg', '72bangalore.jpg', '72bucharest.jpg', '73delhi.jpg', '74tel aviv.jpg', '83gainesville.jpg', '88jacksonville.jpg', '89berkeley.jpg', '90beijing.jpg', '93manchester.jpg', '96karachi.jpg', '97oakland.jpg', '9barcelona.jpg']\n"
       ]
      }
     ],
     "prompt_number": 8
    }
   ],
   "metadata": {}
  }
 ]
}