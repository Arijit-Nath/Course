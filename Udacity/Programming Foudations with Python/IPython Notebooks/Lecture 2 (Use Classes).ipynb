{
 "metadata": {
  "name": "",
  "signature": "sha256:d61783eb4e120433a0c91c2ee33e40785a5749fe3a903d647673f923504cc09c"
 },
 "nbformat": 3,
 "nbformat_minor": 0,
 "worksheets": [
  {
   "cells": [
    {
     "cell_type": "code",
     "collapsed": false,
     "input": [
      "# Drawing\n",
      "import turtle\n",
      "\n",
      "def draw_square(some_turtle):\n",
      "    for i in range(1,5):\n",
      "        some_turtle.forward(100)\n",
      "        some_turtle.right(90)\n",
      "\n",
      "def draw_art():\n",
      "    window = turtle.Screen()\n",
      "    window.bgcolor(\"red\")\n",
      "    \n",
      "    # Create a turtle Brad - Draws a square\n",
      "    brad = turtle.Turtle()\n",
      "    brad.shape(\"turtle\")\n",
      "    brad.color(\"yellow\")\n",
      "    brad.speed(20)  \n",
      "    for i in range(1,37):\n",
      "        draw_square(brad)\n",
      "        brad.right(10)\n",
      "    \n",
      "    # Create the turtle Angie - Draws a circle\n",
      "    # angie = turtle.Turtle()\n",
      "    # angie.shape(\"arrow\")\n",
      "    # angie.color(\"blue\")\n",
      "    # angie.circle(100)\n",
      "    \n",
      "    window.exitonclick()\n",
      "        \n",
      "draw_art()"
     ],
     "language": "python",
     "metadata": {},
     "outputs": [],
     "prompt_number": 2
    },
    {
     "cell_type": "code",
     "collapsed": false,
     "input": [
      "# Send Text Message\n",
      "from twilio import rest\n",
      " \n",
      "# Your Account Sid and Auth Token from twilio.com/user/account\n",
      "account_sid = \"ACb5759855970c9efe63e670e417da294c\"\n",
      "auth_token  = \"176583c110385a342dd15305c05a627c\"\n",
      "client = rest.TwilioRestClient(account_sid, auth_token)\n",
      " \n",
      "message = client.messages.create(\n",
      "    body=\"My name is Tuan!!!\",\n",
      "    to=\"+17149305270\",    # Replace with your phone number\n",
      "    from_=\"+17146811708\") # Replace with your Twilio number\n",
      "print message.sid"
     ],
     "language": "python",
     "metadata": {},
     "outputs": [
      {
       "output_type": "stream",
       "stream": "stdout",
       "text": [
        "SM80b878ce094c4e4c8875e8aa04214e15\n"
       ]
      }
     ],
     "prompt_number": 18
    },
    {
     "cell_type": "code",
     "collapsed": false,
     "input": [
      "# Profanity Editor\n",
      "import urllib\n",
      "\n",
      "def read_text():\n",
      "    quotes = open(r\"C:\\temp\\movie_quotes.txt\")\n",
      "    contents_of_file = quotes.read()\n",
      "    print(contents_of_file)\n",
      "    quotes.close()\n",
      "    check_profanity(contents_of_file)\n",
      "    \n",
      "def check_profanity(text_to_check):\n",
      "    connection = urllib.urlopen(\"http://www.wdyl.com/profanity?q=\"+text_to_check)\n",
      "    output = connection.read()\n",
      "    print(output)\n",
      "    connection.close()\n",
      "    if \"true\" in output:\n",
      "        print(\"Profanity Alert!!\")\n",
      "    elif \"false\" in output:\n",
      "        print(\"This document has no curse words!\")\n",
      "    else:\n",
      "        print(\"Could not scan the document properly.\")    \n",
      "    \n",
      "read_text()"
     ],
     "language": "python",
     "metadata": {},
     "outputs": [
      {
       "output_type": "stream",
       "stream": "stdout",
       "text": [
        "{\"response\": \"false\"}\n",
        "This document has no curse words!\n"
       ]
      }
     ],
     "prompt_number": 32
    }
   ],
   "metadata": {}
  }
 ]
}