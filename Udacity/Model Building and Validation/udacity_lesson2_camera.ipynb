{
 "cells": [
  {
   "cell_type": "code",
   "execution_count": 1,
   "metadata": {
    "collapsed": false
   },
   "outputs": [
    {
     "name": "stdout",
     "output_type": "stream",
     "text": [
      "Populating the interactive namespace from numpy and matplotlib\n"
     ]
    }
   ],
   "source": [
    "%pylab inline"
   ]
  },
  {
   "cell_type": "code",
   "execution_count": 2,
   "metadata": {
    "collapsed": false
   },
   "outputs": [],
   "source": [
    "import scipy\n",
    "import numpy\n",
    "import pandas"
   ]
  },
  {
   "cell_type": "code",
   "execution_count": 153,
   "metadata": {
    "collapsed": false
   },
   "outputs": [],
   "source": [
    "import matplotlib.pyplot as pyplt"
   ]
  },
  {
   "cell_type": "code",
   "execution_count": 154,
   "metadata": {
    "collapsed": false
   },
   "outputs": [],
   "source": [
    "import seaborn as sns"
   ]
  },
  {
   "cell_type": "raw",
   "metadata": {},
   "source": [
    "Navigate to data points"
   ]
  },
  {
   "cell_type": "code",
   "execution_count": 155,
   "metadata": {
    "collapsed": false
   },
   "outputs": [
    {
     "name": "stdout",
     "output_type": "stream",
     "text": [
      "/Users/dondini/Udacity/lesson_2/ud919/lesson2/twitter\n"
     ]
    }
   ],
   "source": [
    "cd /Users/dondini/Udacity/lesson_2/ud919/lesson2/twitter/"
   ]
  },
  {
   "cell_type": "markdown",
   "metadata": {},
   "source": [
    "#### Form data points"
   ]
  },
  {
   "cell_type": "code",
   "execution_count": 156,
   "metadata": {
    "collapsed": false
   },
   "outputs": [],
   "source": [
    "tweetsDF = pandas.io.json.read_json(\"new_gruber_tweets.json\")"
   ]
  },
  {
   "cell_type": "code",
   "execution_count": 157,
   "metadata": {
    "collapsed": false
   },
   "outputs": [],
   "source": [
    "createdDF = tweetsDF.ix[0:, [\"created_at\"]]\n",
    "createdTextDF = tweetsDF.ix[0:, [\"created_at\", \"text\"]]\n",
    "createdTextVals = createdTextDF.values"
   ]
  },
  {
   "cell_type": "code",
   "execution_count": 158,
   "metadata": {
    "collapsed": false
   },
   "outputs": [],
   "source": [
    "tweetTimes = []\n",
    "for i,row in createdDF.iterrows():\n",
    "    tweetTimes.append(row[\"created_at\"])\n",
    "tweetTimes.sort()"
   ]
  },
  {
   "cell_type": "code",
   "execution_count": 159,
   "metadata": {
    "collapsed": false
   },
   "outputs": [],
   "source": [
    "timeUntilNext = []\n",
    "for i in xrange(1, len(tweetTimes)-1):\n",
    "    timeDiff = (tweetTimes[i]-tweetTimes[i-1]).seconds\n",
    "    timeUntilNext.append(timeDiff)"
   ]
  },
  {
   "cell_type": "markdown",
   "metadata": {},
   "source": [
    "#### Create initial histogram"
   ]
  },
  {
   "cell_type": "code",
   "execution_count": 160,
   "metadata": {
    "collapsed": false
   },
   "outputs": [],
   "source": [
    "timeToNextSeries = pandas.Series(timeUntilNext)"
   ]
  },
  {
   "cell_type": "code",
   "execution_count": 161,
   "metadata": {
    "collapsed": false
   },
   "outputs": [
    {
     "data": {
      "text/plain": [
       "<matplotlib.axes.AxesSubplot at 0x10e9118d0>"
      ]
     },
     "execution_count": 161,
     "metadata": {},
     "output_type": "execute_result"
    },
    {
     "data": {
      "image/png": "[encoded data removed]",
      "text/plain": [
       "<matplotlib.figure.Figure at 0x10e911fd0>"
      ]
     },
     "metadata": {},
     "output_type": "display_data"
    }
   ],
   "source": [
    "timeToNextSeries.hist(bins=30, normed=True)"
   ]
  },
  {
   "cell_type": "markdown",
   "metadata": {},
   "source": [
    "#### Fit an exponential"
   ]
  },
  {
   "cell_type": "code",
   "execution_count": 162,
   "metadata": {
    "collapsed": false
   },
   "outputs": [],
   "source": [
    "from scipy.optimize import curve_fit"
   ]
  },
  {
   "cell_type": "code",
   "execution_count": 163,
   "metadata": {
    "collapsed": false
   },
   "outputs": [],
   "source": [
    "def fitFunc(t, b):\n",
    "    return b*numpy.exp(-b*t)"
   ]
  },
  {
   "cell_type": "code",
   "execution_count": 164,
   "metadata": {
    "collapsed": false
   },
   "outputs": [],
   "source": [
    "count,division = np.histogram(timeUntilNext, bins=100, normed=True)"
   ]
  },
  {
   "cell_type": "code",
   "execution_count": 165,
   "metadata": {
    "collapsed": false
   },
   "outputs": [],
   "source": [
    "fitParams, fitCov = curve_fit(fitFunc, division[0:len(division)-1], count, p0=1e-4)"
   ]
  },
  {
   "cell_type": "code",
   "execution_count": 166,
   "metadata": {
    "collapsed": false
   },
   "outputs": [
    {
     "data": {
      "text/plain": [
       "array([ 0.00068895])"
      ]
     },
     "execution_count": 166,
     "metadata": {},
     "output_type": "execute_result"
    }
   ],
   "source": [
    "fitParams"
   ]
  },
  {
   "cell_type": "code",
   "execution_count": 167,
   "metadata": {
    "collapsed": false
   },
   "outputs": [
    {
     "data": {
      "text/plain": [
       "1451.4883194175982"
      ]
     },
     "execution_count": 167,
     "metadata": {},
     "output_type": "execute_result"
    }
   ],
   "source": [
    "1/fitParams[0]"
   ]
  },
  {
   "cell_type": "code",
   "execution_count": 168,
   "metadata": {
    "collapsed": false
   },
   "outputs": [
    {
     "data": {
      "text/plain": [
       "array([[  1.04040926e-09]])"
      ]
     },
     "execution_count": 168,
     "metadata": {},
     "output_type": "execute_result"
    }
   ],
   "source": [
    "fitCov"
   ]
  },
  {
   "cell_type": "markdown",
   "metadata": {},
   "source": [
    "#### Evaluate exponential"
   ]
  },
  {
   "cell_type": "code",
   "execution_count": 169,
   "metadata": {
    "collapsed": false
   },
   "outputs": [
    {
     "data": {
      "text/plain": [
       "[<matplotlib.lines.Line2D at 0x141c15c90>]"
      ]
     },
     "execution_count": 169,
     "metadata": {},
     "output_type": "execute_result"
    },
    {
     "data": {
      "image/png": "[encoded data removed]",
      "text/plain": [
       "<matplotlib.figure.Figure at 0x141c15c10>"
      ]
     },
     "metadata": {},
     "output_type": "display_data"
    }
   ],
   "source": [
    "t = division[0:len(division)-1]\n",
    "timeToNextSeries.hist(bins=50, normed=True, color=\"blue\")\n",
    "pyplt.plot(t, fitFunc(t, fitParams[0]), color=\"yellow\")"
   ]
  },
  {
   "cell_type": "code",
   "execution_count": 170,
   "metadata": {
    "collapsed": false
   },
   "outputs": [],
   "source": [
    "exp_diffs = []\n",
    "for t in timeUntilNext:\n",
    "    exp_diffs.append(t-1/fitParams[0])"
   ]
  },
  {
   "cell_type": "code",
   "execution_count": 171,
   "metadata": {
    "collapsed": false
   },
   "outputs": [
    {
     "data": {
      "text/plain": [
       "<matplotlib.axes.AxesSubplot at 0x10e826b90>"
      ]
     },
     "execution_count": 171,
     "metadata": {},
     "output_type": "execute_result"
    },
    {
     "data": {
      "image/png": "[encoded data removed]",
      "text/plain": [
       "<matplotlib.figure.Figure at 0x10e5e3990>"
      ]
     },
     "metadata": {},
     "output_type": "display_data"
    }
   ],
   "source": [
    "pandas.Series(exp_diffs).hist(bins=50)"
   ]
  },
  {
   "cell_type": "code",
   "execution_count": 172,
   "metadata": {
    "collapsed": false
   },
   "outputs": [
    {
     "data": {
      "text/plain": [
       "count     3232.000000\n",
       "mean      2843.046025\n",
       "std      11064.424336\n",
       "min      -1450.488319\n",
       "25%      -1368.488319\n",
       "50%      -1115.488319\n",
       "75%       1032.261681\n",
       "max      83356.511681\n",
       "dtype: float64"
      ]
     },
     "execution_count": 172,
     "metadata": {},
     "output_type": "execute_result"
    }
   ],
   "source": [
    "pandas.Series(exp_diffs).describe()"
   ]
  },
  {
   "cell_type": "markdown",
   "metadata": {},
   "source": [
    "#### Evaluate absolute difference of values"
   ]
  },
  {
   "cell_type": "code",
   "execution_count": 173,
   "metadata": {
    "collapsed": false
   },
   "outputs": [],
   "source": [
    "import math\n",
    "exp_diffs = []\n",
    "abs_diffs = []\n",
    "for t in timeUntilNext:\n",
    "    exp_diffs.append(t-1/fitParams[0])\n",
    "    abs_diffs.append(math.fabs(t-1/fitParams[0]))"
   ]
  },
  {
   "cell_type": "code",
   "execution_count": 174,
   "metadata": {
    "collapsed": false
   },
   "outputs": [
    {
     "data": {
      "text/plain": [
       "<matplotlib.axes.AxesSubplot at 0x10d303950>"
      ]
     },
     "execution_count": 174,
     "metadata": {},
     "output_type": "execute_result"
    },
    {
     "data": {
      "image/png": "[encoded data removed]",
      "text/plain": [
       "<matplotlib.figure.Figure at 0x10d2e7910>"
      ]
     },
     "metadata": {},
     "output_type": "display_data"
    }
   ],
   "source": [
    "pandas.Series(abs_diffs).hist()"
   ]
  },
  {
   "cell_type": "code",
   "execution_count": 175,
   "metadata": {
    "collapsed": false
   },
   "outputs": [
    {
     "data": {
      "text/plain": [
       "count     3232.000000\n",
       "mean      4446.834434\n",
       "std      10522.663236\n",
       "min          0.488319\n",
       "25%       1110.505840\n",
       "50%       1363.488319\n",
       "75%       1437.488319\n",
       "max      83356.511681\n",
       "dtype: float64"
      ]
     },
     "execution_count": 175,
     "metadata": {},
     "output_type": "execute_result"
    }
   ],
   "source": [
    "pandas.Series(abs_diffs).describe()"
   ]
  },
  {
   "cell_type": "markdown",
   "metadata": {},
   "source": [
    "#### Observe effect of adding offset"
   ]
  },
  {
   "cell_type": "raw",
   "metadata": {},
   "source": [
    "Note that much of the histogram occurs *before* zero. Perhaps by adding an offset, we can improve performance."
   ]
  },
  {
   "cell_type": "markdown",
   "metadata": {},
   "source": [
    "#### Fit more generalized exponential"
   ]
  },
  {
   "cell_type": "code",
   "execution_count": 176,
   "metadata": {
    "collapsed": false
   },
   "outputs": [],
   "source": [
    "def fitFunc_gen(t, a, b, c):\n",
    "    return a*(b)*numpy.exp(-b*t)+c"
   ]
  },
  {
   "cell_type": "code",
   "execution_count": 177,
   "metadata": {
    "collapsed": false
   },
   "outputs": [],
   "source": [
    "fitParams_gen, fitCov_gen = curve_fit(fitFunc_gen, division[0:len(division)-1], count, p0=[0, 3e-4, 0])"
   ]
  },
  {
   "cell_type": "code",
   "execution_count": 178,
   "metadata": {
    "collapsed": false
   },
   "outputs": [
    {
     "data": {
      "text/plain": [
       "array([  3.34149579e-01,   2.17218731e-03,   3.18496895e-06])"
      ]
     },
     "execution_count": 178,
     "metadata": {},
     "output_type": "execute_result"
    }
   ],
   "source": [
    "fitParams_gen"
   ]
  },
  {
   "cell_type": "code",
   "execution_count": 179,
   "metadata": {
    "collapsed": false
   },
   "outputs": [
    {
     "data": {
      "text/plain": [
       "array([[  1.10186661e-04,  -6.83152391e-07,  -1.07612154e-09],\n",
       "       [ -6.83152391e-07,   4.65228418e-09,   5.59703963e-12],\n",
       "       [ -1.07612154e-09,   5.59703963e-12,   4.82402257e-13]])"
      ]
     },
     "execution_count": 179,
     "metadata": {},
     "output_type": "execute_result"
    }
   ],
   "source": [
    "fitCov_gen"
   ]
  },
  {
   "cell_type": "code",
   "execution_count": 180,
   "metadata": {
    "collapsed": false
   },
   "outputs": [
    {
     "data": {
      "text/plain": [
       "153.83309518722578"
      ]
     },
     "execution_count": 180,
     "metadata": {},
     "output_type": "execute_result"
    }
   ],
   "source": [
    "(1/fitParams_gen[1])*fitParams_gen[0]+fitParams_gen[1]"
   ]
  },
  {
   "cell_type": "markdown",
   "metadata": {},
   "source": [
    "#### Evaluate adjusted exponential"
   ]
  },
  {
   "cell_type": "code",
   "execution_count": 181,
   "metadata": {
    "collapsed": false
   },
   "outputs": [
    {
     "data": {
      "text/plain": [
       "[<matplotlib.lines.Line2D at 0x12606ba10>]"
      ]
     },
     "execution_count": 181,
     "metadata": {},
     "output_type": "execute_result"
    },
    {
     "data": {
      "image/png": "[encoded data removed]",
      "text/plain": [
       "<matplotlib.figure.Figure at 0x10d132490>"
      ]
     },
     "metadata": {},
     "output_type": "display_data"
    }
   ],
   "source": [
    "t = division[0:len(division)-1]\n",
    "timeToNextSeries.hist(bins=50, normed=True, color=\"blue\")\n",
    "pyplt.plot(t, fitFunc(t, fitParams[0]), color=\"yellow\")\n",
    "pyplt.plot(t, fitFunc_gen(t, fitParams_gen[0], fitParams_gen[1], fitParams_gen[2]), color=\"red\")"
   ]
  },
  {
   "cell_type": "code",
   "execution_count": 182,
   "metadata": {
    "collapsed": false
   },
   "outputs": [],
   "source": [
    "exp_gen_diffs = []\n",
    "exp_gen_abs = []\n",
    "for t in timeUntilNext:\n",
    "    exp_gen_diffs.append((t-1/fitParams_gen[1])*fitParams_gen[0]+fitParams_gen[1])\n",
    "    exp_gen_abs.append(math.fabs((t-1/fitParams_gen[1])*fitParams_gen[0]+fitParams_gen[1]))"
   ]
  },
  {
   "cell_type": "code",
   "execution_count": 183,
   "metadata": {
    "collapsed": false
   },
   "outputs": [
    {
     "data": {
      "text/plain": [
       "count     3232.000000\n",
       "mean      1281.188091\n",
       "std       3697.172730\n",
       "min       -153.494601\n",
       "25%       -126.094336\n",
       "50%        -41.554492\n",
       "75%        676.115265\n",
       "max      28184.728714\n",
       "dtype: float64"
      ]
     },
     "execution_count": 183,
     "metadata": {},
     "output_type": "execute_result"
    }
   ],
   "source": [
    "pandas.Series(exp_gen_diffs).describe()"
   ]
  },
  {
   "cell_type": "code",
   "execution_count": 184,
   "metadata": {
    "collapsed": false
   },
   "outputs": [
    {
     "data": {
      "text/plain": [
       "count     3232.000000\n",
       "mean      1400.959394\n",
       "std       3653.456236\n",
       "min          0.119945\n",
       "25%        107.716109\n",
       "50%        139.126169\n",
       "75%        676.115265\n",
       "max      28184.728714\n",
       "dtype: float64"
      ]
     },
     "execution_count": 184,
     "metadata": {},
     "output_type": "execute_result"
    }
   ],
   "source": [
    "pandas.Series(exp_gen_abs).describe()"
   ]
  },
  {
   "cell_type": "markdown",
   "metadata": {},
   "source": [
    "### Depection of variance in data"
   ]
  },
  {
   "cell_type": "code",
   "execution_count": 185,
   "metadata": {
    "collapsed": false
   },
   "outputs": [
    {
     "name": "stdout",
     "output_type": "stream",
     "text": [
      "/Users/dondini/Udacity/lesson_2/ud919/lesson2/twitter\n"
     ]
    }
   ],
   "source": [
    "cd /Users/dondini/Udacity/lesson_2/ud919/lesson2/twitter/"
   ]
  },
  {
   "cell_type": "code",
   "execution_count": 186,
   "metadata": {
    "collapsed": false
   },
   "outputs": [],
   "source": [
    "tweetsDF = pandas.io.json.read_json(\"new_gruber_tweets.json\")"
   ]
  },
  {
   "cell_type": "markdown",
   "metadata": {},
   "source": [
    "#### Obtaining time-to-tweet vs. delta-t data points"
   ]
  },
  {
   "cell_type": "code",
   "execution_count": 187,
   "metadata": {
    "collapsed": false
   },
   "outputs": [],
   "source": [
    "step_size = 10\n",
    "data_points = []\n",
    "for v in timeUntilNext:\n",
    "    bin_left_edges = np.arange(0, v, step_size)\n",
    "    \n",
    "    for l_edge in bin_left_edges:\n",
    "        tempNewPoint = [l_edge, v-l_edge]\n",
    "        data_points.append(tempNewPoint)"
   ]
  },
  {
   "cell_type": "code",
   "execution_count": 188,
   "metadata": {
    "collapsed": false
   },
   "outputs": [],
   "source": [
    "data_points.sort()"
   ]
  },
  {
   "cell_type": "code",
   "execution_count": 189,
   "metadata": {
    "collapsed": false
   },
   "outputs": [],
   "source": [
    "deltat_100 = [v[1] for v in data_points if v[0]==100]\n",
    "deltat_150 = [v[1] for v in data_points if v[0]==150]\n",
    "deltat_10 = [v[1] for v in data_points if v[0]==10]"
   ]
  },
  {
   "cell_type": "code",
   "execution_count": 190,
   "metadata": {
    "collapsed": false
   },
   "outputs": [
    {
     "data": {
      "text/plain": [
       "<matplotlib.axes.AxesSubplot at 0x14838fbd0>"
      ]
     },
     "execution_count": 190,
     "metadata": {},
     "output_type": "execute_result"
    },
    {
     "data": {
      "image/png": "[encoded data removed]",
      "text/plain": [
       "<matplotlib.figure.Figure at 0x14847a190>"
      ]
     },
     "metadata": {},
     "output_type": "display_data"
    }
   ],
   "source": [
    "pandas.Series(deltat_10).hist(bins=30, alpha=0.5, color=\"blue\")\n",
    "#pandas.Series(deltat_100).hist(bins=30)\n",
    "d_150 = pandas.Series(deltat_150)\n",
    "pandas.Series(deltat_150).hist(bins=30, alpha=0.3, color=\"red\")"
   ]
  },
  {
   "cell_type": "code",
   "execution_count": 191,
   "metadata": {
    "collapsed": false
   },
   "outputs": [],
   "source": [
    "xVals = [v[0] for v in deltatToStd]\n",
    "yVals = [v[1] for v in deltatToStd]"
   ]
  },
  {
   "cell_type": "code",
   "execution_count": 192,
   "metadata": {
    "collapsed": false
   },
   "outputs": [
    {
     "data": {
      "text/plain": [
       "13381.170443594028"
      ]
     },
     "execution_count": 192,
     "metadata": {},
     "output_type": "execute_result"
    }
   ],
   "source": [
    "scipy.std(deltat_150)"
   ]
  },
  {
   "cell_type": "code",
   "execution_count": 193,
   "metadata": {
    "collapsed": false
   },
   "outputs": [],
   "source": [
    "deltatToStd = []\n",
    "deltaToDist = []\n",
    "for i in np.arange(0, 100, 10):\n",
    "    tempDeltas = [v[1] for v in data_points if v[0] == i]\n",
    "    tempStd = scipy.std(tempDeltas)\n",
    "    deltatToStd.append([i, tempStd])\n",
    "    deltaToDist.append([i, tempDeltas])"
   ]
  },
  {
   "cell_type": "code",
   "execution_count": 194,
   "metadata": {
    "collapsed": false
   },
   "outputs": [
    {
     "data": {
      "text/plain": [
       "<matplotlib.legend.Legend at 0x148001510>"
      ]
     },
     "execution_count": 194,
     "metadata": {},
     "output_type": "execute_result"
    },
    {
     "data": {
      "image/png": "[encoded data removed]",
      "text/plain": [
       "<matplotlib.figure.Figure at 0x148251ed0>"
      ]
     },
     "metadata": {},
     "output_type": "display_data"
    }
   ],
   "source": [
    "p1 = pyplt.plot(xVals, yVals, label=\"std dev (sec)\")\n",
    "pyplt.legend(loc=2, prop={'size':18})"
   ]
  },
  {
   "cell_type": "markdown",
   "metadata": {},
   "source": [
    "#### Obtain bounds on bootstrapped 95% confidence interval"
   ]
  },
  {
   "cell_type": "code",
   "execution_count": 195,
   "metadata": {
    "collapsed": false
   },
   "outputs": [],
   "source": [
    "deltaToBounds = []\n",
    "for v in deltaToDist:\n",
    "    topBound = numpy.percentile(v[1], 95)\n",
    "    bottomBound = numpy.percentile(v[1], 5)\n",
    "    deltaToBounds.append([v[0], (topBound, bottomBound)])"
   ]
  },
  {
   "cell_type": "code",
   "execution_count": 196,
   "metadata": {
    "collapsed": false
   },
   "outputs": [
    {
     "data": {
      "text/plain": [
       "<matplotlib.collections.PolyCollection at 0x1250baad0>"
      ]
     },
     "execution_count": 196,
     "metadata": {},
     "output_type": "execute_result"
    },
    {
     "data": {
      "image/png": "[encoded data removed]",
      "text/plain": [
       "<matplotlib.figure.Figure at 0x1256ff810>"
      ]
     },
     "metadata": {},
     "output_type": "display_data"
    }
   ],
   "source": [
    "p1 = pyplt.plot(xVals, [e[1][0] for e in deltaToBounds], color=\"red\")\n",
    "p2 = pyplt.plot(xVals, [e[1][1] for e in deltaToBounds], color=\"red\")\n",
    "pyplt.fill_between(xVals, [e[1][0] for e in deltaToBounds], [e[1][1] for e in deltaToBounds], alpha=0.4, color=\"orange\")"
   ]
  },
  {
   "cell_type": "markdown",
   "metadata": {},
   "source": [
    "### Impact of unmeasured features"
   ]
  },
  {
   "cell_type": "markdown",
   "metadata": {},
   "source": [
    "#### One variable plus gaussian noise"
   ]
  },
  {
   "cell_type": "code",
   "execution_count": 197,
   "metadata": {
    "collapsed": false
   },
   "outputs": [],
   "source": [
    "dataPoints_1 = []\n",
    "x = np.arange(0, 100, 10)\n",
    "for j in xrange(100):\n",
    "    points = [(i, i*2 + 3 + numpy.random.normal(scale=50.0)) for i in x]\n",
    "    dataPoints_1.extend(points)"
   ]
  },
  {
   "cell_type": "code",
   "execution_count": 198,
   "metadata": {
    "collapsed": false
   },
   "outputs": [],
   "source": [
    "pointToVals = []\n",
    "pointToBounds = []\n",
    "for i in np.arange(0, 100, 10):\n",
    "    valsForDataPoint = [v for v in dataPoints_1 if v[0]==i]\n",
    "    pointToVals.append(valsForDataPoint)\n",
    "    upperBound = numpy.percentile(valsForDataPoint, 95)\n",
    "    lowerBound = numpy.percentile(valsForDataPoint, 5)\n",
    "    pointToBounds.append([i, (upperBound, lowerBound)])"
   ]
  },
  {
   "cell_type": "code",
   "execution_count": 199,
   "metadata": {
    "collapsed": false
   },
   "outputs": [
    {
     "data": {
      "text/plain": [
       "<matplotlib.legend.Legend at 0x148ca22d0>"
      ]
     },
     "execution_count": 199,
     "metadata": {},
     "output_type": "execute_result"
    },
    {
     "data": {
      "image/png": "[encoded data removed]",
      "text/plain": [
       "<matplotlib.figure.Figure at 0x12528a990>"
      ]
     },
     "metadata": {},
     "output_type": "display_data"
    }
   ],
   "source": [
    "pyplt.plot(x, [v[1][0] for v in pointToBounds])\n",
    "pyplt.plot(x, [v[1][1] for v in pointToBounds])\n",
    "pyplt.plot(x, [[i*2+3] for i in x], color=\"red\", label=\"true model\")\n",
    "pyplt.fill_between(x, [v[1][0] for v in pointToBounds], [v[1][1] for v in pointToBounds], color=\"orange\", alpha=0.4)\n",
    "pyplt.legend(loc=2, prop={'size':18})"
   ]
  },
  {
   "cell_type": "markdown",
   "metadata": {},
   "source": [
    "#### Two variables plus gaussian noise"
   ]
  },
  {
   "cell_type": "code",
   "execution_count": 200,
   "metadata": {
    "collapsed": false
   },
   "outputs": [],
   "source": [
    "dataPoints_2 = []\n",
    "x = np.arange(0, 100, 10)\n",
    "y = np.arange(50, 150, 10)\n",
    "for j in xrange(100):\n",
    "    yVal = random.choice(y)\n",
    "    points = [(i, i*2 + yVal*2 + 3 + numpy.random.normal(scale=50.0)) for i in x]\n",
    "    dataPoints_2.extend(points)"
   ]
  },
  {
   "cell_type": "code",
   "execution_count": 201,
   "metadata": {
    "collapsed": false
   },
   "outputs": [],
   "source": [
    "avgYAtX = {}\n",
    "for i in x:\n",
    "    lineVals = [(i*2 + yVal*2 + 3 ) for yVal in np.arange(50, 150, 10)]\n",
    "    avgY = reduce(lambda x,y: x+y, lineVals)/len(lineVals)\n",
    "    avgYAtX[i] = avgY"
   ]
  },
  {
   "cell_type": "code",
   "execution_count": 202,
   "metadata": {
    "collapsed": false
   },
   "outputs": [],
   "source": [
    "pointToVals = []\n",
    "pointToBounds = []\n",
    "for i in np.arange(0, 100, 10):\n",
    "    valsForDataPoint = [v for v in dataPoints_2 if v[0]==i]\n",
    "    pointToVals.append(valsForDataPoint)\n",
    "    upperBound = numpy.percentile(valsForDataPoint, 95)\n",
    "    lowerBound = numpy.percentile(valsForDataPoint, 5)\n",
    "    pointToBounds.append([i, (upperBound, lowerBound)])"
   ]
  },
  {
   "cell_type": "code",
   "execution_count": 203,
   "metadata": {
    "collapsed": false
   },
   "outputs": [
    {
     "data": {
      "text/plain": [
       "<matplotlib.legend.Legend at 0x10e9cf250>"
      ]
     },
     "execution_count": 203,
     "metadata": {},
     "output_type": "execute_result"
    },
    {
     "data": {
      "image/png": "[encoded data removed]",
      "text/plain": [
       "<matplotlib.figure.Figure at 0x1250baed0>"
      ]
     },
     "metadata": {},
     "output_type": "display_data"
    }
   ],
   "source": [
    "pyplt.plot(x, [v[1][0] for v in pointToBounds])\n",
    "pyplt.plot(x, [v[1][1] for v in pointToBounds])\n",
    "pyplt.plot(x, [avgYAtX[i] for i in x], color=\"red\", label=\"true model (best estimate)\")\n",
    "pyplt.fill_between(x, [v[1][0] for v in pointToBounds], [v[1][1] for v in pointToBounds], color=\"orange\", alpha=0.4)\n",
    "pyplt.legend(loc=2, prop={'size':18})"
   ]
  },
  {
   "cell_type": "markdown",
   "metadata": {},
   "source": [
    "### Feature selection"
   ]
  },
  {
   "cell_type": "raw",
   "metadata": {},
   "source": [
    "Proposed list of features to consider for influence upon intertweet time:\n",
    "-mention distance\n",
    "-time of day\n",
    "-contains mention\n",
    "-contains URL\n",
    "-length of tweet (num chars)\n",
    "-contains hashtags\n",
    "-is_reply"
   ]
  },
  {
   "cell_type": "raw",
   "metadata": {},
   "source": [
    "We now need to form the features described above. The most non-trivial one to create is \"mention distance\", as defined in lecture. We do this now. "
   ]
  },
  {
   "cell_type": "markdown",
   "metadata": {},
   "source": [
    "#### Forming mention distance"
   ]
  },
  {
   "cell_type": "code",
   "execution_count": 204,
   "metadata": {
    "collapsed": false
   },
   "outputs": [],
   "source": [
    "import twitter_tools\n",
    "from twitter_tools import *"
   ]
  },
  {
   "cell_type": "raw",
   "metadata": {},
   "source": [
    "Obtain your own data files here!"
   ]
  },
  {
   "cell_type": "code",
   "execution_count": 205,
   "metadata": {
    "collapsed": false
   },
   "outputs": [],
   "source": [
    "tweetFile = open(\"/Users/dondini/Udacity/lesson_2/ud919/lesson2/twitter/new_gruber_tweets.json\")"
   ]
  },
  {
   "cell_type": "code",
   "execution_count": 206,
   "metadata": {
    "collapsed": false
   },
   "outputs": [],
   "source": [
    "import json\n",
    "jsonFile = json.load(tweetFile)"
   ]
  },
  {
   "cell_type": "code",
   "execution_count": 207,
   "metadata": {
    "collapsed": false
   },
   "outputs": [],
   "source": [
    "tweetFile.close()"
   ]
  },
  {
   "cell_type": "code",
   "execution_count": 208,
   "metadata": {
    "collapsed": false
   },
   "outputs": [],
   "source": [
    "gruberTweetsDF = pandas.io.json.read_json(\"/Users/dondini/Udacity/lesson_2/ud919/lesson2/twitter/new_gruber_tweets.json\")\n",
    "siracusaTweetsDF = pandas.io.json.read_json(\"/Users/dondini/Udacity/lesson_2/ud919/lesson2/twitter/new_siracusa_tweets.json\")\n",
    "armentTweetsDF = pandas.io.json.read_json(\"/Users/dondini/Udacity/lesson_2/ud919/lesson2/twitter/new_arment_tweets.json\")"
   ]
  },
  {
   "cell_type": "code",
   "execution_count": 209,
   "metadata": {
    "collapsed": false
   },
   "outputs": [],
   "source": [
    "gruberTimeDiffs = []\n",
    "gruberTweetTimes = []\n",
    "gruberTimeToDiff = {}\n",
    "gruberTimeToText = {}\n",
    "siracusaMentionTimes = []\n",
    "armentMentionTimes = []"
   ]
  },
  {
   "cell_type": "code",
   "execution_count": 210,
   "metadata": {
    "collapsed": false
   },
   "outputs": [],
   "source": [
    "gruberCreatedDF = gruberTweetsDF.ix[0:, [\"created_at\"]]\n",
    "gruberCreatedTextDF = gruberTweetsDF.ix[0:, [\"created_at\", \"text\"]]\n",
    "createdTextVals = gruberCreatedTextDF.values\n",
    "\n",
    "for i, row in gruberCreatedDF.iterrows():\n",
    "    gruberTweetTimes.append(row[\"created_at\"])"
   ]
  },
  {
   "cell_type": "code",
   "execution_count": 211,
   "metadata": {
    "collapsed": false
   },
   "outputs": [],
   "source": [
    "gruberTweetTimes.sort()"
   ]
  },
  {
   "cell_type": "code",
   "execution_count": 212,
   "metadata": {
    "collapsed": false
   },
   "outputs": [],
   "source": [
    "for i in xrange(1, len(gruberTweetTimes)):\n",
    "    timeDiff = (gruberTweetTimes[i]-gruberTweetTimes[i-1]).seconds\n",
    "    gruberTimeDiffs.append(timeDiff)\n",
    "    gruberTimeToDiff[gruberTweetTimes[i]] = timeDiff\n",
    "    gruberTimeToText[gruberTweetTimes[i]] = gruberCreatedTextDF[ gruberCreatedTextDF[\"created_at\"]==gruberTweetTimes[i] ]"
   ]
  },
  {
   "cell_type": "markdown",
   "metadata": {},
   "source": [
    "##### Capture time of mentions"
   ]
  },
  {
   "cell_type": "code",
   "execution_count": 213,
   "metadata": {
    "collapsed": false
   },
   "outputs": [],
   "source": [
    "nearestMentionToTimeDiff = []\n",
    "tweetIndexToNearestMention = {}"
   ]
  },
  {
   "cell_type": "code",
   "execution_count": 214,
   "metadata": {
    "collapsed": false
   },
   "outputs": [],
   "source": [
    "def findTweetFollowingTime(timeStamp, tweetTimes):\n",
    "    returnTweetTime = None\n",
    "    \n",
    "    for t in tweetTimes:\n",
    "        if t>timeStamp:\n",
    "            returnTweetTime = t\n",
    "            break\n",
    "    \n",
    "    return returnTweetTime\n",
    "\n",
    "def findTweetPreceedingTime(timeStamp, tweetTimes):\n",
    "    returnTweetTime = None\n",
    "    \n",
    "    i = len(tweetTimes)-1\n",
    "    \n",
    "    while i>=0:\n",
    "        t = tweetTimes[i]\n",
    "        if t<timeStamp:\n",
    "            returnTweetTime = t\n",
    "            break\n",
    "        \n",
    "        i-=1\n",
    "    \n",
    "    return returnTweetTime"
   ]
  },
  {
   "cell_type": "code",
   "execution_count": 215,
   "metadata": {
    "collapsed": false
   },
   "outputs": [],
   "source": [
    "siracusaTimeOfGruberMentions = []\n",
    "armentTimeOfGruberMentions = []"
   ]
  },
  {
   "cell_type": "code",
   "execution_count": 216,
   "metadata": {
    "collapsed": false
   },
   "outputs": [],
   "source": [
    "for i, row in armentTweetsDF.iterrows():\n",
    "    if \"user_mentions\" in row:\n",
    "        if type(row[\"user_mentions\"]) == list:\n",
    "            if len([e for e in row[\"user_mentions\"] if e[\"screen_name\"]==\"gruber\"])>0:\n",
    "                armentTimeOfGruberMentions.append(row[\"created_at\"])"
   ]
  },
  {
   "cell_type": "code",
   "execution_count": 217,
   "metadata": {
    "collapsed": false
   },
   "outputs": [],
   "source": [
    "for i, row in siracusaTweetsDF.iterrows():\n",
    "    if \"user_mentions\" in row:\n",
    "        if type(row[\"user_mentions\"]) == list:\n",
    "            if len([e for e in row[\"user_mentions\"] if e[\"screen_name\"]==\"gruber\"])>0:\n",
    "                siracusaTimeOfGruberMentions.append(row[\"created_at\"])"
   ]
  },
  {
   "cell_type": "markdown",
   "metadata": {},
   "source": [
    "##### Mention distance for each @gruber tweet"
   ]
  },
  {
   "cell_type": "raw",
   "metadata": {},
   "source": [
    "For each gruber tweet, let's find the tweet belonging to either @siracusa or @marcoarment which is the closest, in time, to mention @gruber"
   ]
  },
  {
   "cell_type": "code",
   "execution_count": 218,
   "metadata": {
    "collapsed": false
   },
   "outputs": [],
   "source": [
    "gruberTweetTimes.sort()\n",
    "siracusaTimeOfGruberMentions.sort()\n",
    "armentTimeOfGruberMentions.sort()\n",
    "for i in xrange(len(gruberTweetTimes)):\n",
    "    t = gruberTweetTimes[i]\n",
    "    t_next = None\n",
    "    if i+1<len(gruberTweetTimes):\n",
    "        t_next = gruberTweetTimes[i+1]\n",
    "        \n",
    "        #print \"t_next: %s\" % t_next\n",
    "        t_s = findTweetFollowingTime(t, siracusaTimeOfGruberMentions)\n",
    "        t_s_prev = findTweetPreceedingTime(t, siracusaTimeOfGruberMentions)\n",
    "        \n",
    "        #print \"t_s: %s\" % t_s\n",
    "        \n",
    "        t_a = findTweetFollowingTime(t, armentTimeOfGruberMentions)\n",
    "        t_a_prev = findTweetPreceedingTime(t, armentTimeOfGruberMentions)\n",
    "        \n",
    "        sDiff = None\n",
    "        aDiff = None\n",
    "        if t_s_prev is not None and t_s is not None: \n",
    "            sDiff = math.fabs((t_s - t).seconds)\n",
    "            if sDiff >math.fabs((t-t_s_prev).seconds):\n",
    "                sDiff = math.fabs((t-t_s_prev).seconds)\n",
    "            \n",
    "        if t_a_prev is not None and t_a is not None:\n",
    "            aDiff = math.fabs((t_a - t).seconds)\n",
    "            if aDiff > math.fabs((t-t_a_prev).seconds):\n",
    "                aDiff = math.fabs((t - t_a_prev).seconds)\n",
    "        \n",
    "        closestMention = None\n",
    "        \n",
    "        if sDiff is not None:\n",
    "            closestMention = sDiff\n",
    "        elif aDiff is not None:\n",
    "            closestMention = aDiff\n",
    "        \n",
    "        if aDiff is not None and sDiff is not None:\n",
    "            if aDiff < sDiff:\n",
    "                closestMention = aDiff\n",
    "                \n",
    "        if closestMention is not None:\n",
    "            nearestMentionToTimeDiff.append((closestMention, (t_next-t).seconds))\n",
    "            tweetIndexToNearestMention[i] = closestMention"
   ]
  },
  {
   "cell_type": "markdown",
   "metadata": {},
   "source": [
    "#### Extract remaining features"
   ]
  },
  {
   "cell_type": "code",
   "execution_count": 219,
   "metadata": {
    "collapsed": false
   },
   "outputs": [],
   "source": [
    "features_list = extract_features(jsonFile)"
   ]
  },
  {
   "cell_type": "code",
   "execution_count": 220,
   "metadata": {
    "collapsed": false
   },
   "outputs": [],
   "source": [
    "featuresWithLabel = []\n",
    "for i in range(len(gruberTimeDiffs)):\n",
    "    timeDiff = gruberTimeDiffs[i]\n",
    "    if timeDiff<4000:\n",
    "        label = \"short\"\n",
    "    else:\n",
    "        label = \"long\"\n",
    "    \n",
    "    featuresForTweet = features_list[i]\n",
    "    \n",
    "    nearestMention = 0\n",
    "    if i in tweetIndexToNearestMention:\n",
    "        nearestMention = tweetIndexToNearestMention[i]\n",
    "    \n",
    "    completeItem = []\n",
    "    completeItem.append(label)\n",
    "    completeItem.extend(list(featuresForTweet))\n",
    "    completeItem.append(nearestMention)\n",
    "    featuresWithLabel.append(completeItem)"
   ]
  },
  {
   "cell_type": "markdown",
   "metadata": {},
   "source": [
    "#### Evaluate features by mutual information gain"
   ]
  },
  {
   "cell_type": "raw",
   "metadata": {},
   "source": [
    "Get info_gain library from your local path!"
   ]
  },
  {
   "cell_type": "code",
   "execution_count": 221,
   "metadata": {
    "collapsed": false
   },
   "outputs": [
    {
     "name": "stdout",
     "output_type": "stream",
     "text": [
      "/Users/dondini/Udacity\n"
     ]
    }
   ],
   "source": [
    "cd /Users/dondini/Udacity/"
   ]
  },
  {
   "cell_type": "code",
   "execution_count": 222,
   "metadata": {
    "collapsed": false
   },
   "outputs": [],
   "source": [
    "from info_gain import *"
   ]
  },
  {
   "cell_type": "markdown",
   "metadata": {},
   "source": [
    "#### 1 Time of day"
   ]
  },
  {
   "cell_type": "code",
   "execution_count": 223,
   "metadata": {
    "collapsed": false
   },
   "outputs": [],
   "source": [
    "valsY = [\"short\", \"long\"]\n",
    "binsY = None"
   ]
  },
  {
   "cell_type": "code",
   "execution_count": 224,
   "metadata": {
    "collapsed": false
   },
   "outputs": [],
   "source": [
    "joint_list = [(v[1], v[0]) for v in featuresWithLabel]\n",
    "valsX = [\"morning\", \"afternoon\", \"evening\", \"night\"]\n",
    "binsX = None"
   ]
  },
  {
   "cell_type": "code",
   "execution_count": 225,
   "metadata": {
    "collapsed": false
   },
   "outputs": [],
   "source": [
    "jpTable = compute_joint_prob(joint_list, valsX, valsY, None, None)"
   ]
  },
  {
   "cell_type": "code",
   "execution_count": 226,
   "metadata": {
    "collapsed": false
   },
   "outputs": [
    {
     "data": {
      "text/plain": [
       "0.00029792328911204535"
      ]
     },
     "execution_count": 226,
     "metadata": {},
     "output_type": "execute_result"
    }
   ],
   "source": [
    "entropy_loss(jpTable, valsX, valsY)"
   ]
  },
  {
   "cell_type": "markdown",
   "metadata": {},
   "source": [
    "#### 2 Contains mention"
   ]
  },
  {
   "cell_type": "code",
   "execution_count": 227,
   "metadata": {
    "collapsed": false
   },
   "outputs": [],
   "source": [
    "joint_list = [(v[2], v[0]) for v in featuresWithLabel]\n",
    "valsX = None\n",
    "binsX = [[0, .9], [1.0, 100]]"
   ]
  },
  {
   "cell_type": "code",
   "execution_count": 228,
   "metadata": {
    "collapsed": false
   },
   "outputs": [],
   "source": [
    "jpTable = compute_joint_prob(joint_list, valsX, valsY, bins1=binsX)"
   ]
  },
  {
   "cell_type": "code",
   "execution_count": 229,
   "metadata": {
    "collapsed": false
   },
   "outputs": [
    {
     "data": {
      "text/plain": [
       "0.00018592171588510675"
      ]
     },
     "execution_count": 229,
     "metadata": {},
     "output_type": "execute_result"
    }
   ],
   "source": [
    "entropy_loss(jpTable, [0.0, 1.0], valsY)"
   ]
  },
  {
   "cell_type": "markdown",
   "metadata": {},
   "source": [
    "#### 3 Contains URL"
   ]
  },
  {
   "cell_type": "code",
   "execution_count": 230,
   "metadata": {
    "collapsed": false
   },
   "outputs": [],
   "source": [
    "joint_list = [(v[3], v[0]) for v in featuresWithLabel]\n",
    "valsX = None\n",
    "binsX = [[0, .9], [1.0, 100]]"
   ]
  },
  {
   "cell_type": "code",
   "execution_count": 231,
   "metadata": {
    "collapsed": false
   },
   "outputs": [],
   "source": [
    "jpTable = compute_joint_prob(joint_list, valsX, valsY, bins1=binsX)"
   ]
  },
  {
   "cell_type": "code",
   "execution_count": 232,
   "metadata": {
    "collapsed": false
   },
   "outputs": [
    {
     "data": {
      "text/plain": [
       "0.0006917841288795468"
      ]
     },
     "execution_count": 232,
     "metadata": {},
     "output_type": "execute_result"
    }
   ],
   "source": [
    "entropy_loss(jpTable, [0.0, 1.0], valsY)"
   ]
  },
  {
   "cell_type": "markdown",
   "metadata": {},
   "source": [
    "#### 4 Length of tweet"
   ]
  },
  {
   "cell_type": "code",
   "execution_count": 233,
   "metadata": {
    "collapsed": false
   },
   "outputs": [],
   "source": [
    "joint_list = [(v[4], v[0]) for v in featuresWithLabel]\n",
    "valsX = None\n",
    "binsX = [[0, 14], [14, 28], [28, 42], [42, 56], [56, 70], [70, 84], [84, 98], [98, 112], [112, 126]]"
   ]
  },
  {
   "cell_type": "code",
   "execution_count": 234,
   "metadata": {
    "collapsed": false
   },
   "outputs": [],
   "source": [
    "jpTable = compute_joint_prob(joint_list, valsX, valsY, bins1=binsX)"
   ]
  },
  {
   "cell_type": "code",
   "execution_count": 235,
   "metadata": {
    "collapsed": false
   },
   "outputs": [
    {
     "data": {
      "text/plain": [
       "3.184467596637892"
      ]
     },
     "execution_count": 235,
     "metadata": {},
     "output_type": "execute_result"
    }
   ],
   "source": [
    "entropy_loss(jpTable, [v[4] for v in featuresWithLabel], valsY)"
   ]
  },
  {
   "cell_type": "markdown",
   "metadata": {},
   "source": [
    "#### 5 Contains hashtags"
   ]
  },
  {
   "cell_type": "code",
   "execution_count": 236,
   "metadata": {
    "collapsed": false
   },
   "outputs": [],
   "source": [
    "joint_list = [(v[5], v[0]) for v in featuresWithLabel]\n",
    "valsX = None\n",
    "binsX = [[0, .9], [1.0, 100]]"
   ]
  },
  {
   "cell_type": "code",
   "execution_count": 237,
   "metadata": {
    "collapsed": false
   },
   "outputs": [],
   "source": [
    "jpTable = compute_joint_prob(joint_list, valsX, valsY, bins1=binsX)"
   ]
  },
  {
   "cell_type": "code",
   "execution_count": 238,
   "metadata": {
    "collapsed": false
   },
   "outputs": [
    {
     "data": {
      "text/plain": [
       "2.471814972664077e-05"
      ]
     },
     "execution_count": 238,
     "metadata": {},
     "output_type": "execute_result"
    }
   ],
   "source": [
    "entropy_loss(jpTable, [0.0, 1.0], valsY)"
   ]
  },
  {
   "cell_type": "markdown",
   "metadata": {},
   "source": [
    "#### 6 Is reply"
   ]
  },
  {
   "cell_type": "code",
   "execution_count": 239,
   "metadata": {
    "collapsed": false
   },
   "outputs": [],
   "source": [
    "joint_list = [(v[6], v[0]) for v in featuresWithLabel]\n",
    "valsX = None\n",
    "binsX = [[0, .9], [1.0, 100]]"
   ]
  },
  {
   "cell_type": "code",
   "execution_count": 240,
   "metadata": {
    "collapsed": false
   },
   "outputs": [],
   "source": [
    "jpTable = compute_joint_prob(joint_list, valsX, valsY, bins1=binsX)"
   ]
  },
  {
   "cell_type": "code",
   "execution_count": 241,
   "metadata": {
    "collapsed": false
   },
   "outputs": [
    {
     "data": {
      "text/plain": [
       "7.188753133346992e-05"
      ]
     },
     "execution_count": 241,
     "metadata": {},
     "output_type": "execute_result"
    }
   ],
   "source": [
    "entropy_loss(jpTable, [0.0, 1.0], valsY)"
   ]
  },
  {
   "cell_type": "markdown",
   "metadata": {},
   "source": [
    "#### 7 Mention distance"
   ]
  },
  {
   "cell_type": "code",
   "execution_count": 242,
   "metadata": {
    "collapsed": false
   },
   "outputs": [],
   "source": [
    "joint_list = [(v[7], v[0]) for v in featuresWithLabel]\n",
    "valsX = None\n",
    "binsX = [[0, 1000], [1000, 5000], [5000, 8000], [8000, 10000], [10000, 20000], [20000, 30000], [30000, 60000], [60000, 80000], [80000, 10000], [100000, 800000]]"
   ]
  },
  {
   "cell_type": "code",
   "execution_count": 243,
   "metadata": {
    "collapsed": false
   },
   "outputs": [],
   "source": [
    "jpTable = compute_joint_prob(joint_list, valsX, valsY, bins1=binsX)"
   ]
  },
  {
   "cell_type": "code",
   "execution_count": 244,
   "metadata": {
    "collapsed": false
   },
   "outputs": [
    {
     "data": {
      "text/plain": [
       "2.065038542452612"
      ]
     },
     "execution_count": 244,
     "metadata": {},
     "output_type": "execute_result"
    }
   ],
   "source": [
    "entropy_loss(jpTable, [0.0, 1.0], valsY)"
   ]
  },
  {
   "cell_type": "markdown",
   "metadata": {},
   "source": [
    "### Fitting a model "
   ]
  },
  {
   "cell_type": "raw",
   "metadata": {},
   "source": [
    "Obtain data points - each point is of the form (delta-t, mention distance, text-length of last tweet) - label with time until next tweet"
   ]
  },
  {
   "cell_type": "markdown",
   "metadata": {},
   "source": [
    "#### kNN"
   ]
  },
  {
   "cell_type": "raw",
   "metadata": {},
   "source": [
    "Form data points to be used with kNN model"
   ]
  },
  {
   "cell_type": "code",
   "execution_count": 245,
   "metadata": {
    "collapsed": false
   },
   "outputs": [],
   "source": [
    "step_size = 10\n",
    "knn_data_points = []\n",
    "tweet_index = 0\n",
    "for v in timeUntilNext:\n",
    "    bin_left_edges = np.arange(0, v, step_size)\n",
    "    \n",
    "    features_for_tweet = features_list[tweet_index]\n",
    "    \n",
    "    if tweet_index in tweetIndexToNearestMention:\n",
    "        for l_edge in bin_left_edges:\n",
    "            newDeltaT = l_edge\n",
    "            mentionDist = tweetIndexToNearestMention[tweet_index] + newDeltaT\n",
    "            textLength = features_for_tweet[3]\n",
    "            label = v-l_edge\n",
    "            \n",
    "            newPoint = [newDeltaT, mentionDist, textLength, label]\n",
    "            knn_data_points.append(newPoint)\n",
    "    \n",
    "    tweet_index+=1"
   ]
  },
  {
   "cell_type": "code",
   "execution_count": 246,
   "metadata": {
    "collapsed": false
   },
   "outputs": [],
   "source": [
    "import sklearn\n",
    "from sklearn.neighbors import KNeighborsRegressor"
   ]
  },
  {
   "cell_type": "code",
   "execution_count": 247,
   "metadata": {
    "collapsed": false
   },
   "outputs": [],
   "source": [
    "knn = KNeighborsRegressor(5)"
   ]
  },
  {
   "cell_type": "code",
   "execution_count": 248,
   "metadata": {
    "collapsed": false
   },
   "outputs": [],
   "source": [
    "knn_3 = KNeighborsRegressor(3)"
   ]
  },
  {
   "cell_type": "code",
   "execution_count": 249,
   "metadata": {
    "collapsed": false
   },
   "outputs": [
    {
     "data": {
      "text/plain": [
       "1381258"
      ]
     },
     "execution_count": 249,
     "metadata": {},
     "output_type": "execute_result"
    }
   ],
   "source": [
    "len(knn_data_points)"
   ]
  },
  {
   "cell_type": "code",
   "execution_count": 250,
   "metadata": {
    "collapsed": false
   },
   "outputs": [
    {
     "data": {
      "text/plain": [
       "966880.6"
      ]
     },
     "execution_count": 250,
     "metadata": {},
     "output_type": "execute_result"
    }
   ],
   "source": [
    ".70*len(knn_data_points)"
   ]
  },
  {
   "cell_type": "code",
   "execution_count": 251,
   "metadata": {
    "collapsed": false
   },
   "outputs": [
    {
     "data": {
      "text/plain": [
       "414377.39999999997"
      ]
     },
     "execution_count": 251,
     "metadata": {},
     "output_type": "execute_result"
    }
   ],
   "source": [
    ".30*len(knn_data_points)"
   ]
  },
  {
   "cell_type": "code",
   "execution_count": 252,
   "metadata": {
    "collapsed": false
   },
   "outputs": [],
   "source": [
    "import random"
   ]
  },
  {
   "cell_type": "code",
   "execution_count": 253,
   "metadata": {
    "collapsed": false
   },
   "outputs": [],
   "source": [
    "trainingPoints = [random.choice(knn_data_points) for i in xrange(966880)]"
   ]
  },
  {
   "cell_type": "code",
   "execution_count": 254,
   "metadata": {
    "collapsed": false
   },
   "outputs": [],
   "source": [
    "trainingX = [(v[0], v[1], v[2]) for v in trainingPoints]"
   ]
  },
  {
   "cell_type": "code",
   "execution_count": 255,
   "metadata": {
    "collapsed": false
   },
   "outputs": [],
   "source": [
    "trainingY = [v[3] for v in trainingPoints]"
   ]
  },
  {
   "cell_type": "code",
   "execution_count": 256,
   "metadata": {
    "collapsed": false
   },
   "outputs": [],
   "source": [
    "m_3 = knn_3.fit(trainingX, trainingY)"
   ]
  },
  {
   "cell_type": "code",
   "execution_count": 257,
   "metadata": {
    "collapsed": false
   },
   "outputs": [],
   "source": [
    "m = knn.fit(trainingX, trainingY)"
   ]
  },
  {
   "cell_type": "markdown",
   "metadata": {},
   "source": [
    "#### Performance on training set"
   ]
  },
  {
   "cell_type": "code",
   "execution_count": 258,
   "metadata": {
    "collapsed": false
   },
   "outputs": [],
   "source": [
    "y_ = m.predict(trainingX)"
   ]
  },
  {
   "cell_type": "code",
   "execution_count": 259,
   "metadata": {
    "collapsed": false
   },
   "outputs": [],
   "source": [
    "y = m_3.predict(trainingX)"
   ]
  },
  {
   "cell_type": "code",
   "execution_count": 260,
   "metadata": {
    "collapsed": false
   },
   "outputs": [],
   "source": [
    "train_diffs = []\n",
    "for i in xrange(len(trainingY)):\n",
    "    train_diffs.append(trainingY[i] - y_[i])"
   ]
  },
  {
   "cell_type": "code",
   "execution_count": 261,
   "metadata": {
    "collapsed": false
   },
   "outputs": [
    {
     "data": {
      "text/plain": [
       "count    966880.000000\n",
       "mean       1876.546200\n",
       "std        4720.141228\n",
       "min           0.000000\n",
       "25%           4.000000\n",
       "50%           8.000000\n",
       "75%        1062.000000\n",
       "max       65938.400000\n",
       "dtype: float64"
      ]
     },
     "execution_count": 261,
     "metadata": {},
     "output_type": "execute_result"
    }
   ],
   "source": [
    "pandas.Series([math.fabs(x) for x in train_diffs]).describe()"
   ]
  },
  {
   "cell_type": "code",
   "execution_count": 262,
   "metadata": {
    "collapsed": false
   },
   "outputs": [
    {
     "data": {
      "text/plain": [
       "<matplotlib.axes.AxesSubplot at 0x12316d210>"
      ]
     },
     "execution_count": 262,
     "metadata": {},
     "output_type": "execute_result"
    },
    {
     "data": {
      "image/png": "[encoded data removed]",
      "text/plain": [
       "<matplotlib.figure.Figure at 0x12316d6d0>"
      ]
     },
     "metadata": {},
     "output_type": "display_data"
    }
   ],
   "source": [
    "pandas.Series(train_diffs).hist(bins=50)"
   ]
  },
  {
   "cell_type": "markdown",
   "metadata": {},
   "source": [
    "#### Performance on test set"
   ]
  },
  {
   "cell_type": "code",
   "execution_count": 263,
   "metadata": {
    "collapsed": false
   },
   "outputs": [],
   "source": [
    "testPoints = [random.choice(knn_data_points) for i in xrange(414377)]"
   ]
  },
  {
   "cell_type": "code",
   "execution_count": 264,
   "metadata": {
    "collapsed": false
   },
   "outputs": [],
   "source": [
    "testX = [(v[0], v[1], v[2]) for v in testPoints]"
   ]
  },
  {
   "cell_type": "code",
   "execution_count": 265,
   "metadata": {
    "collapsed": false
   },
   "outputs": [],
   "source": [
    "testY = [v[3] for v in testPoints]"
   ]
  },
  {
   "cell_type": "code",
   "execution_count": 266,
   "metadata": {
    "collapsed": false
   },
   "outputs": [],
   "source": [
    "test_pred = m_3.predict(testX)"
   ]
  },
  {
   "cell_type": "code",
   "execution_count": 267,
   "metadata": {
    "collapsed": false
   },
   "outputs": [],
   "source": [
    "test_diffs = []\n",
    "for i in xrange(len(testY)):\n",
    "    test_diffs.append(math.fabs(testY[i] - test_pred[i]))"
   ]
  },
  {
   "cell_type": "code",
   "execution_count": 268,
   "metadata": {
    "collapsed": false
   },
   "outputs": [
    {
     "name": "stderr",
     "output_type": "stream",
     "text": [
      "//anaconda/lib/python2.7/site-packages/pandas/compat/scipy.py:68: DeprecationWarning: using a non-integer number instead of an integer will result in an error in the future\n",
      "  score = values[idx]\n",
      "//anaconda/lib/python2.7/site-packages/pandas/compat/scipy.py:68: DeprecationWarning: using a non-integer number instead of an integer will result in an error in the future\n",
      "  score = values[idx]\n"
     ]
    },
    {
     "data": {
      "text/plain": [
       "count    414377.000000\n",
       "mean       1834.645057\n",
       "std        5575.817493\n",
       "min           0.000000\n",
       "25%           3.333333\n",
       "50%           6.666667\n",
       "75%          30.000000\n",
       "max       82658.000000\n",
       "dtype: float64"
      ]
     },
     "execution_count": 268,
     "metadata": {},
     "output_type": "execute_result"
    }
   ],
   "source": [
    "pandas.Series(test_diffs).describe()"
   ]
  },
  {
   "cell_type": "code",
   "execution_count": 269,
   "metadata": {
    "collapsed": false
   },
   "outputs": [],
   "source": [
    "testSeries = pandas.Series(test_diffs)"
   ]
  },
  {
   "cell_type": "code",
   "execution_count": 270,
   "metadata": {
    "collapsed": false
   },
   "outputs": [
    {
     "data": {
      "text/plain": [
       "<matplotlib.axes.AxesSubplot at 0x12316d950>"
      ]
     },
     "execution_count": 270,
     "metadata": {},
     "output_type": "execute_result"
    },
    {
     "data": {
      "image/png": "[encoded data removed]",
      "text/plain": [
       "<matplotlib.figure.Figure at 0x123110710>"
      ]
     },
     "metadata": {},
     "output_type": "display_data"
    }
   ],
   "source": [
    "testSeries.hist(bins=50)"
   ]
  },
  {
   "cell_type": "code",
   "execution_count": 270,
   "metadata": {
    "collapsed": false
   },
   "outputs": [],
   "source": []
  }
 ],
 "metadata": {
  "kernelspec": {
   "display_name": "Python 2",
   "language": "python",
   "name": "python2"
  },
  "language_info": {
   "codemirror_mode": {
    "name": "ipython",
    "version": 2
   },
   "file_extension": ".py",
   "mimetype": "text/x-python",
   "name": "python",
   "nbconvert_exporter": "python",
   "pygments_lexer": "ipython2",
   "version": "2.7.8"
  }
 },
 "nbformat": 4,
 "nbformat_minor": 0
}
